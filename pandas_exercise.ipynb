{
  "nbformat": 4,
  "nbformat_minor": 0,
  "metadata": {
    "colab": {
      "provenance": [],
      "authorship_tag": "ABX9TyOsEapFfhdBjFYavsY0qae8",
      "include_colab_link": true
    },
    "kernelspec": {
      "name": "python3",
      "display_name": "Python 3"
    },
    "language_info": {
      "name": "python"
    }
  },
  "cells": [
    {
      "cell_type": "markdown",
      "metadata": {
        "id": "view-in-github",
        "colab_type": "text"
      },
      "source": [
        "<a href=\"https://colab.research.google.com/github/jobayed80/Machine_Learning_Learning_Course/blob/main/pandas_exercise.ipynb\" target=\"_parent\"><img src=\"https://colab.research.google.com/assets/colab-badge.svg\" alt=\"Open In Colab\"/></a>"
      ]
    },
    {
      "cell_type": "code",
      "execution_count": 2,
      "metadata": {
        "id": "ZwbeVO_LHeMV"
      },
      "outputs": [],
      "source": [
        "import pandas as pd\n",
        "import numpy as np"
      ]
    },
    {
      "cell_type": "markdown",
      "source": [
        "# **1.\tCreate a pandas series from each of the items below: a list, numpy and a dictionary.**"
      ],
      "metadata": {
        "id": "jaqg506tMfh3"
      }
    },
    {
      "cell_type": "code",
      "source": [
        "mylist = list('abcedfghijklmnopqrstuvwxyz')\n",
        "myarr = np.arange(26)\n",
        "mydict = dict(zip(mylist, myarr))\n",
        "\n",
        "# Create Pandas Series\n",
        "ser_list = pd.Series(mylist)\n",
        "ser_array = pd.Series(myarr)\n",
        "ser_dict = pd.Series(mydict)\n",
        "\n",
        "\n",
        "print(ser_list)\n",
        "\n",
        "print(ser_array)\n",
        "\n",
        "print(ser_dict)"
      ],
      "metadata": {
        "colab": {
          "base_uri": "https://localhost:8080/",
          "height": 0
        },
        "id": "LZjLdYUlH2uw",
        "outputId": "65dd0185-3099-4f06-b3a6-662f9a90834b"
      },
      "execution_count": 29,
      "outputs": [
        {
          "output_type": "stream",
          "name": "stdout",
          "text": [
            "0     a\n",
            "1     b\n",
            "2     c\n",
            "3     e\n",
            "4     d\n",
            "5     f\n",
            "6     g\n",
            "7     h\n",
            "8     i\n",
            "9     j\n",
            "10    k\n",
            "11    l\n",
            "12    m\n",
            "13    n\n",
            "14    o\n",
            "15    p\n",
            "16    q\n",
            "17    r\n",
            "18    s\n",
            "19    t\n",
            "20    u\n",
            "21    v\n",
            "22    w\n",
            "23    x\n",
            "24    y\n",
            "25    z\n",
            "dtype: object\n",
            "0      0\n",
            "1      1\n",
            "2      2\n",
            "3      3\n",
            "4      4\n",
            "5      5\n",
            "6      6\n",
            "7      7\n",
            "8      8\n",
            "9      9\n",
            "10    10\n",
            "11    11\n",
            "12    12\n",
            "13    13\n",
            "14    14\n",
            "15    15\n",
            "16    16\n",
            "17    17\n",
            "18    18\n",
            "19    19\n",
            "20    20\n",
            "21    21\n",
            "22    22\n",
            "23    23\n",
            "24    24\n",
            "25    25\n",
            "dtype: int64\n",
            "a     0\n",
            "b     1\n",
            "c     2\n",
            "e     3\n",
            "d     4\n",
            "f     5\n",
            "g     6\n",
            "h     7\n",
            "i     8\n",
            "j     9\n",
            "k    10\n",
            "l    11\n",
            "m    12\n",
            "n    13\n",
            "o    14\n",
            "p    15\n",
            "q    16\n",
            "r    17\n",
            "s    18\n",
            "t    19\n",
            "u    20\n",
            "v    21\n",
            "w    22\n",
            "x    23\n",
            "y    24\n",
            "z    25\n",
            "dtype: int64\n"
          ]
        }
      ]
    },
    {
      "cell_type": "markdown",
      "source": [
        "# **2.\tConvert the series ser into a dataframe with its index as another column on the dataframe.**"
      ],
      "metadata": {
        "id": "3ci4vrA_NEF2"
      }
    },
    {
      "cell_type": "code",
      "source": [
        "ser = pd.Series(list('abcedfghijklmnopqrstuvwxyz'))\n",
        "\n",
        "# Convert the series to a DataFrame with index as another column\n",
        "df = ser.reset_index()\n",
        "\n",
        "# Rename the columns if needed\n",
        "df.columns = ['index', 'alphabets']\n",
        "\n",
        "print(df)"
      ],
      "metadata": {
        "colab": {
          "base_uri": "https://localhost:8080/",
          "height": 0
        },
        "id": "DGMJQllDMoWW",
        "outputId": "519ca662-1ff8-4618-c85b-d0cbddb82aff"
      },
      "execution_count": 30,
      "outputs": [
        {
          "output_type": "stream",
          "name": "stdout",
          "text": [
            "    index alphabets\n",
            "0       0         a\n",
            "1       1         b\n",
            "2       2         c\n",
            "3       3         e\n",
            "4       4         d\n",
            "5       5         f\n",
            "6       6         g\n",
            "7       7         h\n",
            "8       8         i\n",
            "9       9         j\n",
            "10     10         k\n",
            "11     11         l\n",
            "12     12         m\n",
            "13     13         n\n",
            "14     14         o\n",
            "15     15         p\n",
            "16     16         q\n",
            "17     17         r\n",
            "18     18         s\n",
            "19     19         t\n",
            "20     20         u\n",
            "21     21         v\n",
            "22     22         w\n",
            "23     23         x\n",
            "24     24         y\n",
            "25     25         z\n"
          ]
        }
      ]
    },
    {
      "cell_type": "markdown",
      "source": [
        "# **3.\tCombine ser1 and ser2 to form a dataframe.**"
      ],
      "metadata": {
        "id": "aVwCdyraNgV_"
      }
    },
    {
      "cell_type": "code",
      "source": [
        "\n",
        "ser1 = pd.Series(list('abcedfghijklmnopqrstuvwxyz'))\n",
        "ser2 = pd.Series(np.arange(26))\n",
        "\n",
        "# Combine ser1 and ser2 into a DataFrame\n",
        "df_combined = pd.DataFrame({'ser1': ser1, 'ser2': ser2})\n",
        "\n",
        "print(df_combined)"
      ],
      "metadata": {
        "colab": {
          "base_uri": "https://localhost:8080/",
          "height": 0
        },
        "id": "ZEIWODePNKvY",
        "outputId": "be5c09f6-c311-43bd-88a7-d146caed2ce4"
      },
      "execution_count": 31,
      "outputs": [
        {
          "output_type": "stream",
          "name": "stdout",
          "text": [
            "   ser1  ser2\n",
            "0     a     0\n",
            "1     b     1\n",
            "2     c     2\n",
            "3     e     3\n",
            "4     d     4\n",
            "5     f     5\n",
            "6     g     6\n",
            "7     h     7\n",
            "8     i     8\n",
            "9     j     9\n",
            "10    k    10\n",
            "11    l    11\n",
            "12    m    12\n",
            "13    n    13\n",
            "14    o    14\n",
            "15    p    15\n",
            "16    q    16\n",
            "17    r    17\n",
            "18    s    18\n",
            "19    t    19\n",
            "20    u    20\n",
            "21    v    21\n",
            "22    w    22\n",
            "23    x    23\n",
            "24    y    24\n",
            "25    z    25\n"
          ]
        }
      ]
    },
    {
      "cell_type": "markdown",
      "source": [
        "# **4.\tGive a name to the series ser calling it ‘alphabets’.**"
      ],
      "metadata": {
        "id": "_9Yi1ml_PUSW"
      }
    },
    {
      "cell_type": "code",
      "source": [
        "ser = pd.Series(list('abcedfghijklmnopqrstuvwxyz'))\n",
        "\n",
        "# Give a name to the series\n",
        "ser.name = 'alphabets'\n",
        "\n",
        "print(\"Series with Name 'alphabets':\")\n",
        "print(ser)"
      ],
      "metadata": {
        "colab": {
          "base_uri": "https://localhost:8080/",
          "height": 0
        },
        "id": "l0tOYgvANsiw",
        "outputId": "ea2b92d4-9c3a-4931-9316-35011cfc9f04"
      },
      "execution_count": 32,
      "outputs": [
        {
          "output_type": "stream",
          "name": "stdout",
          "text": [
            "Series with Name 'alphabets':\n",
            "0     a\n",
            "1     b\n",
            "2     c\n",
            "3     e\n",
            "4     d\n",
            "5     f\n",
            "6     g\n",
            "7     h\n",
            "8     i\n",
            "9     j\n",
            "10    k\n",
            "11    l\n",
            "12    m\n",
            "13    n\n",
            "14    o\n",
            "15    p\n",
            "16    q\n",
            "17    r\n",
            "18    s\n",
            "19    t\n",
            "20    u\n",
            "21    v\n",
            "22    w\n",
            "23    x\n",
            "24    y\n",
            "25    z\n",
            "Name: alphabets, dtype: object\n"
          ]
        }
      ]
    },
    {
      "cell_type": "markdown",
      "source": [
        "# 5.\tFrom ser1 remove items present in ser2.\n",
        "# 6.\tGet all items of ser1 and ser2 not common to both."
      ],
      "metadata": {
        "id": "WpIRVtURP9F2"
      }
    },
    {
      "cell_type": "code",
      "source": [
        "# Remove items present in ser2 from ser1\n",
        "result_after_removal = ser1[~ser1.isin(ser2)]\n",
        "\n",
        "print(result_after_removal)\n",
        "\n",
        "# Get items not common to both ser1 and ser2\n",
        "result_not_common = pd.concat([ser1[~ser1.isin(ser2)], ser2[~ser2.isin(ser1)]])\n",
        "\n",
        "print(result_not_common)"
      ],
      "metadata": {
        "colab": {
          "base_uri": "https://localhost:8080/",
          "height": 0
        },
        "id": "CkzpvvMkPJag",
        "outputId": "5bd276bb-ca2c-4084-adeb-1e221b55d0c7"
      },
      "execution_count": 34,
      "outputs": [
        {
          "output_type": "stream",
          "name": "stdout",
          "text": [
            "0     a\n",
            "1     b\n",
            "2     c\n",
            "3     e\n",
            "4     d\n",
            "5     f\n",
            "6     g\n",
            "7     h\n",
            "8     i\n",
            "9     j\n",
            "10    k\n",
            "11    l\n",
            "12    m\n",
            "13    n\n",
            "14    o\n",
            "15    p\n",
            "16    q\n",
            "17    r\n",
            "18    s\n",
            "19    t\n",
            "20    u\n",
            "21    v\n",
            "22    w\n",
            "23    x\n",
            "24    y\n",
            "25    z\n",
            "dtype: object\n",
            "0      a\n",
            "1      b\n",
            "2      c\n",
            "3      e\n",
            "4      d\n",
            "5      f\n",
            "6      g\n",
            "7      h\n",
            "8      i\n",
            "9      j\n",
            "10     k\n",
            "11     l\n",
            "12     m\n",
            "13     n\n",
            "14     o\n",
            "15     p\n",
            "16     q\n",
            "17     r\n",
            "18     s\n",
            "19     t\n",
            "20     u\n",
            "21     v\n",
            "22     w\n",
            "23     x\n",
            "24     y\n",
            "25     z\n",
            "0      0\n",
            "1      1\n",
            "2      2\n",
            "3      3\n",
            "4      4\n",
            "5      5\n",
            "6      6\n",
            "7      7\n",
            "8      8\n",
            "9      9\n",
            "10    10\n",
            "11    11\n",
            "12    12\n",
            "13    13\n",
            "14    14\n",
            "15    15\n",
            "16    16\n",
            "17    17\n",
            "18    18\n",
            "19    19\n",
            "20    20\n",
            "21    21\n",
            "22    22\n",
            "23    23\n",
            "24    24\n",
            "25    25\n",
            "dtype: object\n"
          ]
        }
      ]
    },
    {
      "cell_type": "markdown",
      "source": [
        "# **7.\tCompute the minimum, 25th percentile, median, 75th, and maximum of ser.**"
      ],
      "metadata": {
        "id": "NGlyRCBIQ8E2"
      }
    },
    {
      "cell_type": "code",
      "source": [
        "ser = pd.Series(np.random.normal(10, 5, 25))\n",
        "\n",
        "# Compute the minimum, 25th percentile, median, 75th percentile, and maximum\n",
        "summary_stats = ser.describe(percentiles=[.25, .5, .75])\n",
        "\n",
        "# Extract specific percentiles\n",
        "min_value = summary_stats['min']\n",
        "percentile_25 = summary_stats['25%']\n",
        "median_value = summary_stats['50%']\n",
        "percentile_75 = summary_stats['75%']\n",
        "max_value = summary_stats['max']\n",
        "\n",
        "# Display the results\n",
        "print(\"Minimum:\", min_value)\n",
        "print(\"25th Percentile:\", percentile_25)\n",
        "print(\"Median:\", median_value)\n",
        "print(\"75th Percentile:\", percentile_75)\n",
        "print(\"Maximum:\", max_value)"
      ],
      "metadata": {
        "colab": {
          "base_uri": "https://localhost:8080/",
          "height": 0
        },
        "id": "JLYo5QyVQxP2",
        "outputId": "8f568523-1832-4c2d-980b-f6eb3e353e74"
      },
      "execution_count": 35,
      "outputs": [
        {
          "output_type": "stream",
          "name": "stdout",
          "text": [
            "Minimum: -5.65392415686258\n",
            "25th Percentile: 6.6133169383813035\n",
            "Median: 10.298108923108087\n",
            "75th Percentile: 13.974494299646716\n",
            "Maximum: 20.802623938848235\n"
          ]
        }
      ]
    },
    {
      "cell_type": "markdown",
      "source": [
        "# **8.\tCalculte the frequency counts of each unique value ser.**"
      ],
      "metadata": {
        "id": "4osbF_9FRfnO"
      }
    },
    {
      "cell_type": "code",
      "source": [
        "# Assuming 'ser' is your Pandas Series\n",
        "ser = pd.Series(np.take(list('abcdefgh'), np.random.randint(8, size=30)))\n",
        "\n",
        "# Calculate frequency counts of each unique value\n",
        "frequency_counts = ser.value_counts()\n",
        "\n",
        "print(frequency_counts)"
      ],
      "metadata": {
        "colab": {
          "base_uri": "https://localhost:8080/",
          "height": 0
        },
        "id": "B5826NsIROX3",
        "outputId": "a4121ec1-e66a-4310-c83d-c5f564f63039"
      },
      "execution_count": 10,
      "outputs": [
        {
          "output_type": "stream",
          "name": "stdout",
          "text": [
            "b    5\n",
            "g    5\n",
            "f    5\n",
            "c    4\n",
            "a    4\n",
            "d    3\n",
            "e    2\n",
            "h    2\n",
            "dtype: int64\n"
          ]
        }
      ]
    },
    {
      "cell_type": "code",
      "source": [],
      "metadata": {
        "id": "zIxHHBuVuVu0"
      },
      "execution_count": 10,
      "outputs": []
    },
    {
      "cell_type": "markdown",
      "source": [
        "# **9.\tFrom ser, keep the top 2 most frequent items as it is and replace everything else as ‘Other’.**"
      ],
      "metadata": {
        "id": "o_1fFMcKuXLD"
      }
    },
    {
      "cell_type": "code",
      "source": [
        "# Set seed for reproducibility\n",
        "np.random.seed(100)\n",
        "\n",
        "# Create a Pandas Series\n",
        "ser = pd.Series(np.random.randint(1, 5, [12]))\n",
        "\n",
        "# Find the top 2 most frequent items\n",
        "top_items = ser.value_counts().nlargest(2).index\n",
        "\n",
        "# Replace values not in the top 2 with 'Other'\n",
        "ser_modified = ser.where(ser.isin(top_items), 'Other')\n",
        "\n",
        "print(ser)\n",
        "print(ser_modified)"
      ],
      "metadata": {
        "colab": {
          "base_uri": "https://localhost:8080/",
          "height": 0
        },
        "id": "aThyBSQbucqb",
        "outputId": "d741bcc6-a48c-4bda-bfbe-0320b227d569"
      },
      "execution_count": 11,
      "outputs": [
        {
          "output_type": "stream",
          "name": "stdout",
          "text": [
            "0     1\n",
            "1     1\n",
            "2     4\n",
            "3     4\n",
            "4     4\n",
            "5     4\n",
            "6     1\n",
            "7     3\n",
            "8     3\n",
            "9     1\n",
            "10    3\n",
            "11    2\n",
            "dtype: int64\n",
            "0         1\n",
            "1         1\n",
            "2         4\n",
            "3         4\n",
            "4         4\n",
            "5         4\n",
            "6         1\n",
            "7     Other\n",
            "8     Other\n",
            "9         1\n",
            "10    Other\n",
            "11    Other\n",
            "dtype: object\n"
          ]
        }
      ]
    },
    {
      "cell_type": "markdown",
      "source": [
        "# **10.\tBin the series ser into 10 equal deciles and replace the values with the bin name.**"
      ],
      "metadata": {
        "id": "sNjBgT4Luxws"
      }
    },
    {
      "cell_type": "code",
      "source": [
        "# Create a Pandas Series\n",
        "ser = pd.Series(np.random.random(20))\n",
        "\n",
        "# Bin the series into 10 equal deciles\n",
        "bins = pd.qcut(ser, q=10, labels=False, precision=6)\n",
        "\n",
        "# Replace the values with the bin names\n",
        "ser_binned = pd.Series(bins).astype(str)\n",
        "\n",
        "\n",
        "print(ser)\n",
        "print(ser_binned)"
      ],
      "metadata": {
        "colab": {
          "base_uri": "https://localhost:8080/",
          "height": 0
        },
        "id": "05TvIKcPuutU",
        "outputId": "405118bc-3891-4062-f95b-e995e220422e"
      },
      "execution_count": 12,
      "outputs": [
        {
          "output_type": "stream",
          "name": "stdout",
          "text": [
            "0     0.670749\n",
            "1     0.825853\n",
            "2     0.136707\n",
            "3     0.575093\n",
            "4     0.891322\n",
            "5     0.209202\n",
            "6     0.185328\n",
            "7     0.108377\n",
            "8     0.219697\n",
            "9     0.978624\n",
            "10    0.811683\n",
            "11    0.171941\n",
            "12    0.816225\n",
            "13    0.274074\n",
            "14    0.431704\n",
            "15    0.940030\n",
            "16    0.817649\n",
            "17    0.336112\n",
            "18    0.175410\n",
            "19    0.372832\n",
            "dtype: float64\n",
            "0     6\n",
            "1     8\n",
            "2     0\n",
            "3     5\n",
            "4     8\n",
            "5     2\n",
            "6     2\n",
            "7     0\n",
            "8     3\n",
            "9     9\n",
            "10    6\n",
            "11    1\n",
            "12    7\n",
            "13    3\n",
            "14    5\n",
            "15    9\n",
            "16    7\n",
            "17    4\n",
            "18    1\n",
            "19    4\n",
            "dtype: object\n"
          ]
        }
      ]
    },
    {
      "cell_type": "markdown",
      "source": [
        "# **11.\tReshape the series ser into a dataframe with 7 rows and 5 columns.**"
      ],
      "metadata": {
        "id": "su8PjZzhvFa0"
      }
    },
    {
      "cell_type": "code",
      "source": [
        "# Create a Pandas Series\n",
        "ser = pd.Series(np.random.randint(1, 10, 35))\n",
        "\n",
        "# Reshape the series into a DataFrame with 7 rows and 5 columns\n",
        "df = pd.DataFrame(ser.values.reshape(7, 5))\n",
        "\n",
        "print(df)"
      ],
      "metadata": {
        "colab": {
          "base_uri": "https://localhost:8080/",
          "height": 0
        },
        "id": "beaWo3SHvRJj",
        "outputId": "e253455f-a3de-49a8-e67c-198dc809e2ad"
      },
      "execution_count": 13,
      "outputs": [
        {
          "output_type": "stream",
          "name": "stdout",
          "text": [
            "   0  1  2  3  4\n",
            "0  1  3  4  3  6\n",
            "1  9  2  1  8  7\n",
            "2  3  1  9  3  6\n",
            "3  2  9  2  6  5\n",
            "4  3  9  4  6  1\n",
            "5  4  7  4  5  8\n",
            "6  7  4  1  5  5\n"
          ]
        }
      ]
    },
    {
      "cell_type": "markdown",
      "source": [
        "# **12.\tFind the positions of numbers that are multiples of 3 from ser.**"
      ],
      "metadata": {
        "id": "UcHCJGa6vadK"
      }
    },
    {
      "cell_type": "code",
      "source": [
        "# Create a Pandas Series\n",
        "ser = pd.Series(np.random.randint(1, 10, 7))\n",
        "\n",
        "# Find positions of numbers that are multiples of 3\n",
        "positions = np.where(ser % 3 == 0)[0]\n",
        "\n",
        "print(positions)"
      ],
      "metadata": {
        "colab": {
          "base_uri": "https://localhost:8080/",
          "height": 0
        },
        "id": "L4O9xkRVvXEc",
        "outputId": "93af6d92-bb82-4bfd-9bae-8270f22ef9ad"
      },
      "execution_count": 14,
      "outputs": [
        {
          "output_type": "stream",
          "name": "stdout",
          "text": [
            "[0 4 6]\n"
          ]
        }
      ]
    },
    {
      "cell_type": "markdown",
      "source": [
        "# **13. From ser, extract the items at positions in list pos?**"
      ],
      "metadata": {
        "id": "ZeCdlcgNRQCB"
      }
    },
    {
      "cell_type": "code",
      "source": [
        "ser = pd.Series(list('abcdefghijklmnopqrstuvwxyz'))\n",
        "pos = [0, 4, 8, 14, 20]\n",
        "\n",
        "result = ser.iloc[pos]\n",
        "print(result)"
      ],
      "metadata": {
        "id": "2-GrduSqvksk",
        "colab": {
          "base_uri": "https://localhost:8080/",
          "height": 0
        },
        "outputId": "eb2d9065-b62c-41dd-b6cd-7002ac0c6bb1"
      },
      "execution_count": 15,
      "outputs": [
        {
          "output_type": "stream",
          "name": "stdout",
          "text": [
            "0     a\n",
            "4     e\n",
            "8     i\n",
            "14    o\n",
            "20    u\n",
            "dtype: object\n"
          ]
        }
      ]
    },
    {
      "cell_type": "markdown",
      "source": [
        "# **14. Stack ser1 and ser2 vertically and horizontally (to form a dataframe)**"
      ],
      "metadata": {
        "id": "yr09-H10RxqE"
      }
    },
    {
      "cell_type": "code",
      "source": [
        "# Vertically stack\n",
        "result_vertical = pd.concat([ser1, ser2], axis=0)\n",
        "\n",
        "# Horizontally stack\n",
        "result_horizontal = pd.concat([ser1, ser2], axis=1)\n",
        "\n",
        "print(result_vertical)\n",
        "print(result_horizontal)"
      ],
      "metadata": {
        "colab": {
          "base_uri": "https://localhost:8080/",
          "height": 0
        },
        "id": "6ElwT5aCRaFr",
        "outputId": "105a6beb-b895-4a6f-d2ca-a48353c9ed46"
      },
      "execution_count": 16,
      "outputs": [
        {
          "output_type": "stream",
          "name": "stdout",
          "text": [
            "0    1\n",
            "1    2\n",
            "2    3\n",
            "3    4\n",
            "4    5\n",
            "0    4\n",
            "1    5\n",
            "2    6\n",
            "3    7\n",
            "4    8\n",
            "dtype: int64\n",
            "   0  1\n",
            "0  1  4\n",
            "1  2  5\n",
            "2  3  6\n",
            "3  4  7\n",
            "4  5  8\n"
          ]
        }
      ]
    },
    {
      "cell_type": "markdown",
      "source": [
        "# **15. Get the positions of items of ser2 in ser1 as a list?**"
      ],
      "metadata": {
        "id": "41ursfADSAhE"
      }
    },
    {
      "cell_type": "code",
      "source": [
        "ser1 = pd.Series(range(5))\n",
        "ser2 = pd.Series([1, 3, 10, 13])\n",
        "\n",
        "positions = [i for i, val in enumerate(ser1) if val in ser2.values]\n",
        "print(positions)"
      ],
      "metadata": {
        "colab": {
          "base_uri": "https://localhost:8080/",
          "height": 0
        },
        "id": "in2ZsUEJR7t-",
        "outputId": "87532c8b-f786-4075-8806-4bbe56ee6df6"
      },
      "execution_count": 17,
      "outputs": [
        {
          "output_type": "stream",
          "name": "stdout",
          "text": [
            "[1, 3]\n"
          ]
        }
      ]
    },
    {
      "cell_type": "markdown",
      "source": [
        "# **16. Compute the mean squared error of truth and pred series?**"
      ],
      "metadata": {
        "id": "r2xh28HiSqE3"
      }
    },
    {
      "cell_type": "code",
      "source": [
        "truth = pd.Series(range(10))\n",
        "pred = pd.Series(range(10)) + np.random.random(10)\n",
        "\n",
        "mse = ((truth - pred) ** 2).mean()\n",
        "print(mse)"
      ],
      "metadata": {
        "colab": {
          "base_uri": "https://localhost:8080/",
          "height": 0
        },
        "id": "zaUNhJ-OSJXr",
        "outputId": "3c8ec359-9bf6-4ef6-e571-0d01a38d7201"
      },
      "execution_count": 18,
      "outputs": [
        {
          "output_type": "stream",
          "name": "stdout",
          "text": [
            "0.30090213781983577\n"
          ]
        }
      ]
    },
    {
      "cell_type": "markdown",
      "source": [
        "# **17. Change the first character of each word to upper case in each word of ser?**"
      ],
      "metadata": {
        "id": "tcG6AwWvS2tL"
      }
    },
    {
      "cell_type": "code",
      "source": [
        "ser = pd.Series(['how', 'to', 'kick', 'ass?'])\n",
        "\n",
        "result = ser.apply(lambda x: x.title())\n",
        "print(result)"
      ],
      "metadata": {
        "colab": {
          "base_uri": "https://localhost:8080/",
          "height": 0
        },
        "id": "bt9JBi0FS6Dc",
        "outputId": "38e533ed-eb7e-41e2-997d-8b5c86e3b931"
      },
      "execution_count": 19,
      "outputs": [
        {
          "output_type": "stream",
          "name": "stdout",
          "text": [
            "0     How\n",
            "1      To\n",
            "2    Kick\n",
            "3    Ass?\n",
            "dtype: object\n"
          ]
        }
      ]
    },
    {
      "cell_type": "code",
      "source": [],
      "metadata": {
        "id": "3dzdy5geS-Rw"
      },
      "execution_count": null,
      "outputs": []
    },
    {
      "cell_type": "markdown",
      "source": [
        "# **18. How to calculate the number of characters in each word in a series?**"
      ],
      "metadata": {
        "id": "op4JxeQITCMt"
      }
    },
    {
      "cell_type": "code",
      "source": [
        "ser = pd.Series(['how', 'to', 'kick', 'ass?'])\n",
        "\n",
        "result = ser.apply(lambda x: len(x))\n",
        "print(result)"
      ],
      "metadata": {
        "colab": {
          "base_uri": "https://localhost:8080/",
          "height": 0
        },
        "id": "e-Uy43WPTD86",
        "outputId": "98fe0fd8-612a-43ac-e248-c837476925b6"
      },
      "execution_count": 20,
      "outputs": [
        {
          "output_type": "stream",
          "name": "stdout",
          "text": [
            "0    3\n",
            "1    2\n",
            "2    4\n",
            "3    4\n",
            "dtype: int64\n"
          ]
        }
      ]
    },
    {
      "cell_type": "markdown",
      "source": [
        "# **19. How to convert a series of date-strings to a timeseries?**"
      ],
      "metadata": {
        "id": "QTnA-nlLTKlw"
      }
    },
    {
      "cell_type": "code",
      "source": [
        "ser = pd.Series(['01 Jan 2010', '02-02-2011', '20120303', '2013/04/04', '2014-05-05', '2015-06-06T12:20'])\n",
        "\n",
        "result = pd.to_datetime(ser)\n",
        "print(result)"
      ],
      "metadata": {
        "colab": {
          "base_uri": "https://localhost:8080/",
          "height": 0
        },
        "id": "d0gioEEWTGXz",
        "outputId": "8ee56787-107c-4224-b5ab-7a5cd5984a96"
      },
      "execution_count": 21,
      "outputs": [
        {
          "output_type": "stream",
          "name": "stdout",
          "text": [
            "0   2010-01-01 00:00:00\n",
            "1   2011-02-02 00:00:00\n",
            "2   2012-03-03 00:00:00\n",
            "3   2013-04-04 00:00:00\n",
            "4   2014-05-05 00:00:00\n",
            "5   2015-06-06 12:20:00\n",
            "dtype: datetime64[ns]\n"
          ]
        }
      ]
    },
    {
      "cell_type": "markdown",
      "source": [
        "# **20. Get the day of month, week number, day of year and day of week from ser?**"
      ],
      "metadata": {
        "id": "J-1ML8cWTSit"
      }
    },
    {
      "cell_type": "code",
      "source": [
        "ser = pd.Series(['01 Jan 2010', '02-02-2011', '20120303', '2013/04/04', '2014-05-05', '2015-06-06T12:20'])\n",
        "\n",
        "result = pd.to_datetime(ser).dt.strftime('%d %U %j %A')\n",
        "print(result)"
      ],
      "metadata": {
        "colab": {
          "base_uri": "https://localhost:8080/",
          "height": 0
        },
        "id": "YUAgjN4YTUy8",
        "outputId": "5460b8f2-3d0e-4d1e-d22a-329fcdbeb9fa"
      },
      "execution_count": 22,
      "outputs": [
        {
          "output_type": "stream",
          "name": "stdout",
          "text": [
            "0       01 00 001 Friday\n",
            "1    02 05 033 Wednesday\n",
            "2     03 09 063 Saturday\n",
            "3     04 13 094 Thursday\n",
            "4       05 18 125 Monday\n",
            "5     06 22 157 Saturday\n",
            "dtype: object\n"
          ]
        }
      ]
    },
    {
      "cell_type": "markdown",
      "source": [
        "# **21. Change ser to dates that start with 4th of the respective months?**"
      ],
      "metadata": {
        "id": "Vm2h8yrlTa2i"
      }
    },
    {
      "cell_type": "code",
      "source": [
        "ser = pd.Series(['Jan 2010', 'Feb 2011', 'Mar 2012'])\n",
        "\n",
        "result = pd.to_datetime(ser, format='%b %Y') + pd.offsets.MonthBegin(1)\n",
        "print(result)"
      ],
      "metadata": {
        "colab": {
          "base_uri": "https://localhost:8080/",
          "height": 0
        },
        "id": "Pgo_yjioTXC9",
        "outputId": "7b708f43-dc3e-48d3-b1f1-6d525b2d0cb9"
      },
      "execution_count": 23,
      "outputs": [
        {
          "output_type": "stream",
          "name": "stdout",
          "text": [
            "0   2010-02-01\n",
            "1   2011-03-01\n",
            "2   2012-04-01\n",
            "dtype: datetime64[ns]\n"
          ]
        }
      ]
    },
    {
      "cell_type": "markdown",
      "source": [
        "# **22. From ser, extract words that contain at least 2 vowels?**"
      ],
      "metadata": {
        "id": "8KFZIP5HTibC"
      }
    },
    {
      "cell_type": "code",
      "source": [
        "ser = pd.Series(['Apple', 'Orange', 'Plan', 'Python', 'Money'])\n",
        "\n",
        "result = ser[ser.apply(lambda x: sum(1 for char in x if char.lower() in 'aeiou') >= 2)]\n",
        "print(result)"
      ],
      "metadata": {
        "colab": {
          "base_uri": "https://localhost:8080/",
          "height": 0
        },
        "id": "ZfB7Ody5TfGn",
        "outputId": "a95789f2-f2e5-4ab5-8eb2-0910bc483d1f"
      },
      "execution_count": 24,
      "outputs": [
        {
          "output_type": "stream",
          "name": "stdout",
          "text": [
            "0     Apple\n",
            "1    Orange\n",
            "4     Money\n",
            "dtype: object\n"
          ]
        }
      ]
    },
    {
      "cell_type": "markdown",
      "source": [
        "# **23. Extract the valid emails from the series emails. The regex pattern for valid emails is provided as reference?**"
      ],
      "metadata": {
        "id": "N-ROCVv7TqQ8"
      }
    },
    {
      "cell_type": "code",
      "source": [
        "emails = pd.Series(['buying books at amazom.com', 'rameses@egypt.com', 'matt@t.co', 'narendra@modi.com'])\n",
        "pattern ='[A-Za-z0-9._%+-]+@[A-Za-z0-9.-]+\\\\.[A-Za-z]{2,4}'\n",
        "\n",
        "valid_emails = emails[emails.str.contains(pattern)]\n",
        "print(valid_emails)"
      ],
      "metadata": {
        "colab": {
          "base_uri": "https://localhost:8080/",
          "height": 0
        },
        "id": "GUn4hi9bTmkM",
        "outputId": "fb70fe21-5822-4a2d-a3d2-b6c530a9be38"
      },
      "execution_count": 25,
      "outputs": [
        {
          "output_type": "stream",
          "name": "stdout",
          "text": [
            "1    rameses@egypt.com\n",
            "2            matt@t.co\n",
            "3    narendra@modi.com\n",
            "dtype: object\n"
          ]
        }
      ]
    },
    {
      "cell_type": "markdown",
      "source": [
        "# **24. Compute the mean of weights of each fruit?**"
      ],
      "metadata": {
        "id": "zHkSnsw_T2c3"
      }
    },
    {
      "cell_type": "code",
      "source": [
        "fruit = pd.Series(np.random.choice(['apple', 'banana', 'carrot'], 10))\n",
        "weights = pd.Series(np.linspace(1, 10, 10))\n",
        "\n",
        "result = weights.groupby(fruit).mean()\n",
        "print(result)"
      ],
      "metadata": {
        "colab": {
          "base_uri": "https://localhost:8080/",
          "height": 0
        },
        "id": "Nh9y-nLYTwTs",
        "outputId": "54fb593b-cf17-43a3-d801-9179fb00d3ae"
      },
      "execution_count": 26,
      "outputs": [
        {
          "output_type": "stream",
          "name": "stdout",
          "text": [
            "apple     3.500000\n",
            "banana    4.600000\n",
            "carrot    8.333333\n",
            "dtype: float64\n"
          ]
        }
      ]
    },
    {
      "cell_type": "markdown",
      "source": [
        "# **25. Compute the Euclidean distance between series (points) p and q?**"
      ],
      "metadata": {
        "id": "gczYHX7VUAhN"
      }
    },
    {
      "cell_type": "code",
      "source": [
        "p = pd.Series([1, 2, 3, 4, 5, 6, 7, 8, 9, 10])\n",
        "q = pd.Series([10, 9, 8, 7, 6, 5, 4, 3, 2, 1])\n",
        "\n",
        "euclidean_distance = np.linalg.norm(p - q)\n",
        "print(euclidean_distance)"
      ],
      "metadata": {
        "colab": {
          "base_uri": "https://localhost:8080/",
          "height": 0
        },
        "id": "4CV6X-1NT6i6",
        "outputId": "0a436916-d6d8-43b3-ff5d-6fb8f74ad283"
      },
      "execution_count": 27,
      "outputs": [
        {
          "output_type": "stream",
          "name": "stdout",
          "text": [
            "18.16590212458495\n"
          ]
        }
      ]
    },
    {
      "cell_type": "markdown",
      "source": [
        "# **26. Get the positions of peaks (values surrounded by smaller values on both sides) in ser?**"
      ],
      "metadata": {
        "id": "1F6dx_apT_df"
      }
    },
    {
      "cell_type": "code",
      "source": [
        "ser = pd.Series([2, 10, 3, 4, 9, 10, 2, 7, 3])\n",
        "\n",
        "peaks = ser[(ser.shift(1) < ser) & (ser.shift(-1) < ser)].index\n",
        "print(peaks)"
      ],
      "metadata": {
        "colab": {
          "base_uri": "https://localhost:8080/",
          "height": 0
        },
        "id": "ToYVq7b3UlF0",
        "outputId": "24f3cf17-9135-458b-c452-43aa01d3a6c6"
      },
      "execution_count": 28,
      "outputs": [
        {
          "output_type": "stream",
          "name": "stdout",
          "text": [
            "Int64Index([1, 5, 7], dtype='int64')\n"
          ]
        }
      ]
    },
    {
      "cell_type": "markdown",
      "source": [],
      "metadata": {
        "id": "vT4H23z_UkfC"
      }
    }
  ]
}