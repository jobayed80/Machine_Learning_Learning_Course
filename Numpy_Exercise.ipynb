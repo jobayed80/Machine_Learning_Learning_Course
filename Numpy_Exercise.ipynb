{
  "cells": [
    {
      "cell_type": "markdown",
      "metadata": {
        "id": "view-in-github",
        "colab_type": "text"
      },
      "source": [
        "<a href=\"https://colab.research.google.com/github/jobayed80/Machine_Learning_Learning_Course/blob/main/Numpy_Exercise.ipynb\" target=\"_parent\"><img src=\"https://colab.research.google.com/assets/colab-badge.svg\" alt=\"Open In Colab\"/></a>"
      ]
    },
    {
      "cell_type": "code",
      "execution_count": 1,
      "id": "314b6def",
      "metadata": {
        "id": "314b6def"
      },
      "outputs": [],
      "source": [
        "# Md. Jobayed Hossain Rabbi\n",
        "# 193-35-2948\n",
        "\n",
        "import numpy as np\n",
        "import pandas as pd\n",
        "from sklearn.datasets import load_iris"
      ]
    },
    {
      "cell_type": "code",
      "execution_count": 2,
      "id": "f508d835",
      "metadata": {
        "colab": {
          "base_uri": "https://localhost:8080/"
        },
        "id": "f508d835",
        "outputId": "713b6785-ca90-42e3-f4c1-026bea6d9c02"
      },
      "outputs": [
        {
          "output_type": "stream",
          "name": "stdout",
          "text": [
            "NumPy version: 1.23.5\n"
          ]
        }
      ],
      "source": [
        "# 1. Import numpy as np and print the version number.\n",
        "import numpy as np\n",
        "print(\"NumPy version:\", np.__version__)"
      ]
    },
    {
      "cell_type": "code",
      "execution_count": 3,
      "id": "f8f18d81",
      "metadata": {
        "colab": {
          "base_uri": "https://localhost:8080/"
        },
        "id": "f8f18d81",
        "outputId": "5472e536-d08b-4ee1-8a25-63497082bc76"
      },
      "outputs": [
        {
          "output_type": "stream",
          "name": "stdout",
          "text": [
            "1D array: [0 1 2 3 4 5 6 7 8 9]\n"
          ]
        }
      ],
      "source": [
        "# 2. Create a 1D array of numbers from 0 to 9.\n",
        "array_1d = np.arange(10)\n",
        "print(\"1D array:\", array_1d)"
      ]
    },
    {
      "cell_type": "code",
      "execution_count": 4,
      "id": "a410d715",
      "metadata": {
        "colab": {
          "base_uri": "https://localhost:8080/"
        },
        "id": "a410d715",
        "outputId": "57baf6a8-dbde-4b51-de11-a8a8fb83085c"
      },
      "outputs": [
        {
          "output_type": "stream",
          "name": "stdout",
          "text": [
            "3x3 array of True's:\n",
            "[[ True  True  True]\n",
            " [ True  True  True]\n",
            " [ True  True  True]]\n"
          ]
        }
      ],
      "source": [
        "# 3. Create a 3×3 numpy array of all True’s.\n",
        "array_true = np.ones((3, 3), dtype=bool)\n",
        "print(\"3x3 array of True's:\")\n",
        "print(array_true)"
      ]
    },
    {
      "cell_type": "code",
      "execution_count": 5,
      "id": "176fc2ca",
      "metadata": {
        "colab": {
          "base_uri": "https://localhost:8080/"
        },
        "id": "176fc2ca",
        "outputId": "2c11b78b-4693-478a-9722-ff530d0ae26e"
      },
      "outputs": [
        {
          "output_type": "execute_result",
          "data": {
            "text/plain": [
              "array([1, 3, 5, 7, 9])"
            ]
          },
          "metadata": {},
          "execution_count": 5
        }
      ],
      "source": [
        "# 4. Extract all odd numbers from arr.\n",
        "odd_numbers = array_1d[array_1d % 2 != 0]\n",
        "odd_numbers"
      ]
    },
    {
      "cell_type": "code",
      "execution_count": 6,
      "id": "f9719121",
      "metadata": {
        "colab": {
          "base_uri": "https://localhost:8080/"
        },
        "id": "f9719121",
        "outputId": "4dcac887-133e-47a7-a12a-5b920ca99413"
      },
      "outputs": [
        {
          "output_type": "stream",
          "name": "stdout",
          "text": [
            "Odd numbers: [1 3 5 7 9]\n"
          ]
        }
      ],
      "source": [
        "# 4. Extract all odd numbers from arr.\n",
        "odd_numbers = array_1d[array_1d % 2 != 0]\n",
        "print(\"Odd numbers:\", odd_numbers)\n"
      ]
    },
    {
      "cell_type": "code",
      "execution_count": 7,
      "id": "cb80c43f",
      "metadata": {
        "colab": {
          "base_uri": "https://localhost:8080/"
        },
        "id": "cb80c43f",
        "outputId": "912949db-e178-4798-c8fb-7fd7ec02ff8a"
      },
      "outputs": [
        {
          "output_type": "stream",
          "name": "stdout",
          "text": [
            "Array after replacing odd numbers -1:\n",
            "[ 0 -1  2 -1  4 -1  6 -1  8 -1]\n"
          ]
        }
      ],
      "source": [
        "# 5. Replace all odd numbers in arr with -1.\n",
        "array_1d[array_1d % 2 != 0] = -1\n",
        "print(\"Array after replacing odd numbers -1:\")\n",
        "print(array_1d)"
      ]
    },
    {
      "cell_type": "code",
      "execution_count": 8,
      "id": "122dbd98",
      "metadata": {
        "colab": {
          "base_uri": "https://localhost:8080/"
        },
        "id": "122dbd98",
        "outputId": "7ea0924f-8a41-4d8d-d501-66c1fbea4c8a"
      },
      "outputs": [
        {
          "output_type": "stream",
          "name": "stdout",
          "text": [
            "New array without changing original arr:\n",
            "[ 0 -1  2 -1  4 -1  6 -1  8 -1]\n"
          ]
        }
      ],
      "source": [
        "# 6. Replace all odd numbers in arr with -1 without changing arr. (using np.where)\n",
        "new_array = np.where(array_1d % 2 != 0, -1, array_1d)\n",
        "print(\"New array without changing original arr:\")\n",
        "print(new_array)"
      ]
    },
    {
      "cell_type": "code",
      "execution_count": 9,
      "id": "b355877c",
      "metadata": {
        "colab": {
          "base_uri": "https://localhost:8080/"
        },
        "id": "b355877c",
        "outputId": "1aafd1ce-449e-4d6a-c066-5ac7d4d6b426"
      },
      "outputs": [
        {
          "output_type": "stream",
          "name": "stdout",
          "text": [
            "2D array with 2 rows:\n",
            "[[ 0 -1  2 -1  4]\n",
            " [-1  6 -1  8 -1]]\n"
          ]
        }
      ],
      "source": [
        "# 7 Assuming arr is the 1D array created in task 2\n",
        "array_2d = array_1d.reshape(2, -1)\n",
        "print(\"2D array with 2 rows:\")\n",
        "print(array_2d)"
      ]
    },
    {
      "cell_type": "code",
      "execution_count": 10,
      "id": "42b7b032",
      "metadata": {
        "colab": {
          "base_uri": "https://localhost:8080/"
        },
        "id": "42b7b032",
        "outputId": "ae5a4b61-f1eb-4d44-adc7-f39ae029068e"
      },
      "outputs": [
        {
          "output_type": "stream",
          "name": "stdout",
          "text": [
            "Arrays 'a' and 'b' stacked vertically:\n",
            " [[1 2 3]\n",
            " [4 5 6]]\n"
          ]
        }
      ],
      "source": [
        "# Assume 'a' and 'b' are your two arrays\n",
        "a = np.array([1, 2, 3])\n",
        "b = np.array([4, 5, 6])\n",
        "\n",
        "# 8. Stack arrays a and b vertically.\n",
        "stacked_vertically = np.vstack((a, b))\n",
        "print(\"Arrays 'a' and 'b' stacked vertically:\\n\", stacked_vertically)\n"
      ]
    },
    {
      "cell_type": "code",
      "execution_count": 11,
      "id": "63665f7a",
      "metadata": {
        "colab": {
          "base_uri": "https://localhost:8080/"
        },
        "id": "63665f7a",
        "outputId": "86f3ab6b-2e44-40f8-f112-1fb70f9830cd"
      },
      "outputs": [
        {
          "output_type": "stream",
          "name": "stdout",
          "text": [
            "Arrays 'a' and 'b' stacked horizontally:\n",
            " [1 2 3 4 5 6]\n"
          ]
        }
      ],
      "source": [
        "# 9. Stack the arrays a and b horizontally.\n",
        "stacked_horizontally = np.hstack((a, b))\n",
        "print(\"Arrays 'a' and 'b' stacked horizontally:\\n\", stacked_horizontally)\n"
      ]
    },
    {
      "cell_type": "code",
      "execution_count": 12,
      "id": "ea158797",
      "metadata": {
        "colab": {
          "base_uri": "https://localhost:8080/"
        },
        "id": "ea158797",
        "outputId": "2df83983-deba-47ef-ae13-0ec23020674c"
      },
      "outputs": [
        {
          "output_type": "stream",
          "name": "stdout",
          "text": [
            "Pattern without hardcoding:\n",
            " [1 1 1 2 2 2 3 3 3 1 1 1 2 2 2 3 3 3 1 1 1 2 2 2 3 3 3]\n"
          ]
        }
      ],
      "source": [
        "# 10. Create the following pattern without hardcoding, using only numpy functions.\n",
        "# Pattern: [1, 1, 1, 2, 2, 2, 3, 3, 3, 1, 2, 3, 1, 2, 3, 1, 2, 3]\n",
        "pattern = np.tile(np.repeat(a, 3), 3)\n",
        "print(\"Pattern without hardcoding:\\n\", pattern)"
      ]
    },
    {
      "cell_type": "code",
      "execution_count": 13,
      "id": "ea0bcab2",
      "metadata": {
        "colab": {
          "base_uri": "https://localhost:8080/"
        },
        "id": "ea0bcab2",
        "outputId": "ad7b56ef-52e7-4125-bb5c-8400f93ccf58"
      },
      "outputs": [
        {
          "output_type": "stream",
          "name": "stdout",
          "text": [
            "Common items between 'a' and 'b': [3 4 5]\n"
          ]
        }
      ],
      "source": [
        "# Assume 'a' and 'b' are your two arrays\n",
        "a = np.array([1, 2, 3, 4, 5])\n",
        "b = np.array([3, 4, 5, 6, 7])\n",
        "\n",
        "# 11. Get the common items between a and b.\n",
        "common_items = np.intersect1d(a, b)\n",
        "print(\"Common items between 'a' and 'b':\", common_items)"
      ]
    },
    {
      "cell_type": "code",
      "execution_count": 14,
      "id": "95fd32db",
      "metadata": {
        "colab": {
          "base_uri": "https://localhost:8080/"
        },
        "id": "95fd32db",
        "outputId": "b2fa4901-1d8e-48df-d58e-1dbde275f2cf"
      },
      "outputs": [
        {
          "output_type": "stream",
          "name": "stdout",
          "text": [
            "Array 'a' after removing items present in 'b': [1 2]\n"
          ]
        }
      ],
      "source": [
        "# 12. From array a remove all items present in array b.\n",
        "a_without_b = np.setdiff1d(a, b)\n",
        "print(\"Array 'a' after removing items present in 'b':\", a_without_b)"
      ]
    },
    {
      "cell_type": "code",
      "execution_count": 15,
      "id": "243b8358",
      "metadata": {
        "colab": {
          "base_uri": "https://localhost:8080/"
        },
        "id": "243b8358",
        "outputId": "a38e8fd6-65b1-4be6-fec7-12d6aa3e05e1"
      },
      "outputs": [
        {
          "output_type": "stream",
          "name": "stdout",
          "text": [
            "Positions where elements of 'a' and 'b' match: [2 3 4]\n"
          ]
        }
      ],
      "source": [
        "# 13. Get the positions where elements of a and b match.\n",
        "matching_positions = np.where(np.isin(a, b))[0]\n",
        "print(\"Positions where elements of 'a' and 'b' match:\", matching_positions)"
      ]
    },
    {
      "cell_type": "code",
      "execution_count": 16,
      "id": "e23d6edd",
      "metadata": {
        "colab": {
          "base_uri": "https://localhost:8080/"
        },
        "id": "e23d6edd",
        "outputId": "81afe3e1-156e-4e49-f739-cb61026e2bbc"
      },
      "outputs": [
        {
          "output_type": "stream",
          "name": "stdout",
          "text": [
            "Items between 5 and 10 from 'a': [5]\n"
          ]
        }
      ],
      "source": [
        "# 14. Get all items between 5 and 10 from a.\n",
        "items_between_5_and_10 = a[(a >= 5) & (a <= 10)]\n",
        "print(\"Items between 5 and 10 from 'a':\", items_between_5_and_10)"
      ]
    },
    {
      "cell_type": "code",
      "execution_count": 17,
      "id": "98e836ec",
      "metadata": {
        "colab": {
          "base_uri": "https://localhost:8080/"
        },
        "id": "98e836ec",
        "outputId": "1aa79775-a26f-4c00-8c0d-2998b98cc71c"
      },
      "outputs": [
        {
          "output_type": "stream",
          "name": "stdout",
          "text": [
            "Array 'arr' after swapping columns 1 and 2:\n",
            " [[1 3 2]\n",
            " [4 6 5]\n",
            " [7 9 8]]\n"
          ]
        }
      ],
      "source": [
        "# Assume 'arr' is a 2D array\n",
        "arr = np.array([[1, 2, 3], [4, 5, 6], [7, 8, 9]])\n",
        "\n",
        "# 15. Swap columns 1 and 2 in the array arr.\n",
        "arr[:, [1, 2]] = arr[:, [2, 1]]\n",
        "print(\"Array 'arr' after swapping columns 1 and 2:\\n\", arr)"
      ]
    },
    {
      "cell_type": "code",
      "execution_count": 18,
      "id": "156cae3f",
      "metadata": {
        "colab": {
          "base_uri": "https://localhost:8080/"
        },
        "id": "156cae3f",
        "outputId": "a830bba4-e289-4850-aa62-3c823db763ae"
      },
      "outputs": [
        {
          "output_type": "stream",
          "name": "stdout",
          "text": [
            "Array 'arr' after swapping rows 1 and 2:\n",
            " [[4 6 5]\n",
            " [1 3 2]\n",
            " [7 9 8]]\n"
          ]
        }
      ],
      "source": [
        "# 16. Swap rows 1 and 2 in the array arr.\n",
        "arr[[0, 1], :] = arr[[1, 0], :]\n",
        "print(\"Array 'arr' after swapping rows 1 and 2:\\n\", arr)"
      ]
    },
    {
      "cell_type": "code",
      "execution_count": 19,
      "id": "199f7a5b",
      "metadata": {
        "colab": {
          "base_uri": "https://localhost:8080/"
        },
        "id": "199f7a5b",
        "outputId": "f4d47d16-d54f-4707-c607-4a0a99a3292e"
      },
      "outputs": [
        {
          "output_type": "stream",
          "name": "stdout",
          "text": [
            "Array 'arr' after reversing the rows:\n",
            " [[7 9 8]\n",
            " [1 3 2]\n",
            " [4 6 5]]\n"
          ]
        }
      ],
      "source": [
        "# 17. Reverse the rows of a 2D array arr.\n",
        "arr_reversed_rows = np.flipud(arr)\n",
        "print(\"Array 'arr' after reversing the rows:\\n\", arr_reversed_rows)"
      ]
    },
    {
      "cell_type": "code",
      "execution_count": 20,
      "id": "014426d8",
      "metadata": {
        "colab": {
          "base_uri": "https://localhost:8080/"
        },
        "id": "014426d8",
        "outputId": "70dd77d0-fa7f-42ef-80e5-ba8ac6fd6029"
      },
      "outputs": [
        {
          "output_type": "stream",
          "name": "stdout",
          "text": [
            "Array 'arr' after reversing the columns:\n",
            " [[5 6 4]\n",
            " [2 3 1]\n",
            " [8 9 7]]\n"
          ]
        }
      ],
      "source": [
        "# 18. Reverse the columns of a 2D array arr.\n",
        "arr_reversed_columns = np.fliplr(arr)\n",
        "print(\"Array 'arr' after reversing the columns:\\n\", arr_reversed_columns)"
      ]
    },
    {
      "cell_type": "code",
      "execution_count": 21,
      "id": "ffed6fb9",
      "metadata": {
        "colab": {
          "base_uri": "https://localhost:8080/"
        },
        "id": "ffed6fb9",
        "outputId": "c330bdab-f007-4414-c2d0-46c79c5b57c6"
      },
      "outputs": [
        {
          "output_type": "stream",
          "name": "stdout",
          "text": [
            "Random 2D array of shape 5x3:\n",
            " [[8.67498717 9.53021788 8.93706066]\n",
            " [7.4044856  5.24741812 7.35442405]\n",
            " [6.3941547  9.64104732 9.22543914]\n",
            " [6.22231213 7.9437174  6.97833388]\n",
            " [5.66440803 8.48378022 6.096147  ]]\n"
          ]
        }
      ],
      "source": [
        "# 19. Create a 2D array of shape 5x3 with random decimal numbers between 5 and 10.\n",
        "rand_arr = np.random.uniform(5, 10, size=(5, 3))\n",
        "print(\"Random 2D array of shape 5x3:\\n\", rand_arr)"
      ]
    },
    {
      "cell_type": "code",
      "execution_count": 22,
      "id": "cbf4abf8",
      "metadata": {
        "colab": {
          "base_uri": "https://localhost:8080/"
        },
        "id": "cbf4abf8",
        "outputId": "ee3230e2-9cbe-4a06-e3c3-b78cd8eda650"
      },
      "outputs": [
        {
          "output_type": "stream",
          "name": "stdout",
          "text": [
            "Random array with 3 decimal places:\n",
            " [[8.675 9.53  8.937]\n",
            " [7.404 5.247 7.354]\n",
            " [6.394 9.641 9.225]\n",
            " [6.222 7.944 6.978]\n",
            " [5.664 8.484 6.096]]\n"
          ]
        }
      ],
      "source": [
        "# 20. Print or show only 3 decimal places of the numpy array rand_arr.\n",
        "np.set_printoptions(precision=3)\n",
        "print(\"Random array with 3 decimal places:\\n\", rand_arr)"
      ]
    },
    {
      "cell_type": "code",
      "execution_count": 23,
      "id": "0e9779d4",
      "metadata": {
        "colab": {
          "base_uri": "https://localhost:8080/"
        },
        "id": "0e9779d4",
        "outputId": "47a18c3e-4ef0-472f-8411-55246eed653d"
      },
      "outputs": [
        {
          "output_type": "stream",
          "name": "stdout",
          "text": [
            "Pretty printed rand_arr without scientific notation:\n",
            " [[6.941 9.128 8.568]\n",
            " [6.742 6.678 6.157]\n",
            " [8.795 5.794 7.232]\n",
            " [8.502 8.284 8.076]\n",
            " [7.558 9.331 5.236]]\n"
          ]
        }
      ],
      "source": [
        "# Assume rand_arr and a are your arrays\n",
        "rand_arr = np.random.uniform(5, 10, size=(5, 3))\n",
        "a = np.array([1, 2, 3, 4, 5, 6])\n",
        "\n",
        "# 21. Pretty print rand_arr by suppressing the scientific notation.\n",
        "np.set_printoptions(suppress=True)\n",
        "print(\"Pretty printed rand_arr without scientific notation:\\n\", rand_arr)\n"
      ]
    },
    {
      "cell_type": "code",
      "execution_count": 24,
      "id": "e9b47b20",
      "metadata": {
        "colab": {
          "base_uri": "https://localhost:8080/"
        },
        "id": "e9b47b20",
        "outputId": "a04335ba-7f26-47c1-d97b-cac6125aee42"
      },
      "outputs": [
        {
          "output_type": "stream",
          "name": "stdout",
          "text": [
            "Array 'a' with a maximum of 6 elements printed:\n",
            " [1 2 3 4 5 6]\n"
          ]
        }
      ],
      "source": [
        "# 22. Limit the number of items printed in numpy array a to a maximum of 6 elements.\n",
        "np.set_printoptions(threshold=6)\n",
        "print(\"Array 'a' with a maximum of 6 elements printed:\\n\", a)"
      ]
    },
    {
      "cell_type": "code",
      "execution_count": 25,
      "id": "c955e7b9",
      "metadata": {
        "colab": {
          "base_uri": "https://localhost:8080/"
        },
        "id": "c955e7b9",
        "outputId": "9da34554-f141-410a-82d6-b27f777a10e2"
      },
      "outputs": [
        {
          "output_type": "stream",
          "name": "stdout",
          "text": [
            "Array 'a' without truncation:\n",
            " [1 2 3 4 5 6]\n"
          ]
        }
      ],
      "source": [
        "# 23. Print the full numpy array a without truncating.\n",
        "# Assuming 'a' is your array\n",
        "np.set_printoptions(threshold=np.inf)\n",
        "print(\"Array 'a' without truncation:\\n\", a)"
      ]
    },
    {
      "cell_type": "code",
      "execution_count": 26,
      "id": "579b1e64",
      "metadata": {
        "colab": {
          "base_uri": "https://localhost:8080/"
        },
        "id": "579b1e64",
        "outputId": "9643cb0e-6a61-4b25-bc7c-99807836611f"
      },
      "outputs": [
        {
          "output_type": "execute_result",
          "data": {
            "text/plain": [
              "array([[5.1, 3.5, 1.4, 0.2],\n",
              "       [4.9, 3. , 1.4, 0.2],\n",
              "       [4.7, 3.2, 1.3, 0.2],\n",
              "       [4.6, 3.1, 1.5, 0.2],\n",
              "       [5. , 3.6, 1.4, 0.2],\n",
              "       [5.4, 3.9, 1.7, 0.4],\n",
              "       [4.6, 3.4, 1.4, 0.3],\n",
              "       [5. , 3.4, 1.5, 0.2],\n",
              "       [4.4, 2.9, 1.4, 0.2],\n",
              "       [4.9, 3.1, 1.5, 0.1],\n",
              "       [5.4, 3.7, 1.5, 0.2],\n",
              "       [4.8, 3.4, 1.6, 0.2],\n",
              "       [4.8, 3. , 1.4, 0.1],\n",
              "       [4.3, 3. , 1.1, 0.1],\n",
              "       [5.8, 4. , 1.2, 0.2],\n",
              "       [5.7, 4.4, 1.5, 0.4],\n",
              "       [5.4, 3.9, 1.3, 0.4],\n",
              "       [5.1, 3.5, 1.4, 0.3],\n",
              "       [5.7, 3.8, 1.7, 0.3],\n",
              "       [5.1, 3.8, 1.5, 0.3],\n",
              "       [5.4, 3.4, 1.7, 0.2],\n",
              "       [5.1, 3.7, 1.5, 0.4],\n",
              "       [4.6, 3.6, 1. , 0.2],\n",
              "       [5.1, 3.3, 1.7, 0.5],\n",
              "       [4.8, 3.4, 1.9, 0.2],\n",
              "       [5. , 3. , 1.6, 0.2],\n",
              "       [5. , 3.4, 1.6, 0.4],\n",
              "       [5.2, 3.5, 1.5, 0.2],\n",
              "       [5.2, 3.4, 1.4, 0.2],\n",
              "       [4.7, 3.2, 1.6, 0.2],\n",
              "       [4.8, 3.1, 1.6, 0.2],\n",
              "       [5.4, 3.4, 1.5, 0.4],\n",
              "       [5.2, 4.1, 1.5, 0.1],\n",
              "       [5.5, 4.2, 1.4, 0.2],\n",
              "       [4.9, 3.1, 1.5, 0.2],\n",
              "       [5. , 3.2, 1.2, 0.2],\n",
              "       [5.5, 3.5, 1.3, 0.2],\n",
              "       [4.9, 3.6, 1.4, 0.1],\n",
              "       [4.4, 3. , 1.3, 0.2],\n",
              "       [5.1, 3.4, 1.5, 0.2],\n",
              "       [5. , 3.5, 1.3, 0.3],\n",
              "       [4.5, 2.3, 1.3, 0.3],\n",
              "       [4.4, 3.2, 1.3, 0.2],\n",
              "       [5. , 3.5, 1.6, 0.6],\n",
              "       [5.1, 3.8, 1.9, 0.4],\n",
              "       [4.8, 3. , 1.4, 0.3],\n",
              "       [5.1, 3.8, 1.6, 0.2],\n",
              "       [4.6, 3.2, 1.4, 0.2],\n",
              "       [5.3, 3.7, 1.5, 0.2],\n",
              "       [5. , 3.3, 1.4, 0.2],\n",
              "       [7. , 3.2, 4.7, 1.4],\n",
              "       [6.4, 3.2, 4.5, 1.5],\n",
              "       [6.9, 3.1, 4.9, 1.5],\n",
              "       [5.5, 2.3, 4. , 1.3],\n",
              "       [6.5, 2.8, 4.6, 1.5],\n",
              "       [5.7, 2.8, 4.5, 1.3],\n",
              "       [6.3, 3.3, 4.7, 1.6],\n",
              "       [4.9, 2.4, 3.3, 1. ],\n",
              "       [6.6, 2.9, 4.6, 1.3],\n",
              "       [5.2, 2.7, 3.9, 1.4],\n",
              "       [5. , 2. , 3.5, 1. ],\n",
              "       [5.9, 3. , 4.2, 1.5],\n",
              "       [6. , 2.2, 4. , 1. ],\n",
              "       [6.1, 2.9, 4.7, 1.4],\n",
              "       [5.6, 2.9, 3.6, 1.3],\n",
              "       [6.7, 3.1, 4.4, 1.4],\n",
              "       [5.6, 3. , 4.5, 1.5],\n",
              "       [5.8, 2.7, 4.1, 1. ],\n",
              "       [6.2, 2.2, 4.5, 1.5],\n",
              "       [5.6, 2.5, 3.9, 1.1],\n",
              "       [5.9, 3.2, 4.8, 1.8],\n",
              "       [6.1, 2.8, 4. , 1.3],\n",
              "       [6.3, 2.5, 4.9, 1.5],\n",
              "       [6.1, 2.8, 4.7, 1.2],\n",
              "       [6.4, 2.9, 4.3, 1.3],\n",
              "       [6.6, 3. , 4.4, 1.4],\n",
              "       [6.8, 2.8, 4.8, 1.4],\n",
              "       [6.7, 3. , 5. , 1.7],\n",
              "       [6. , 2.9, 4.5, 1.5],\n",
              "       [5.7, 2.6, 3.5, 1. ],\n",
              "       [5.5, 2.4, 3.8, 1.1],\n",
              "       [5.5, 2.4, 3.7, 1. ],\n",
              "       [5.8, 2.7, 3.9, 1.2],\n",
              "       [6. , 2.7, 5.1, 1.6],\n",
              "       [5.4, 3. , 4.5, 1.5],\n",
              "       [6. , 3.4, 4.5, 1.6],\n",
              "       [6.7, 3.1, 4.7, 1.5],\n",
              "       [6.3, 2.3, 4.4, 1.3],\n",
              "       [5.6, 3. , 4.1, 1.3],\n",
              "       [5.5, 2.5, 4. , 1.3],\n",
              "       [5.5, 2.6, 4.4, 1.2],\n",
              "       [6.1, 3. , 4.6, 1.4],\n",
              "       [5.8, 2.6, 4. , 1.2],\n",
              "       [5. , 2.3, 3.3, 1. ],\n",
              "       [5.6, 2.7, 4.2, 1.3],\n",
              "       [5.7, 3. , 4.2, 1.2],\n",
              "       [5.7, 2.9, 4.2, 1.3],\n",
              "       [6.2, 2.9, 4.3, 1.3],\n",
              "       [5.1, 2.5, 3. , 1.1],\n",
              "       [5.7, 2.8, 4.1, 1.3],\n",
              "       [6.3, 3.3, 6. , 2.5],\n",
              "       [5.8, 2.7, 5.1, 1.9],\n",
              "       [7.1, 3. , 5.9, 2.1],\n",
              "       [6.3, 2.9, 5.6, 1.8],\n",
              "       [6.5, 3. , 5.8, 2.2],\n",
              "       [7.6, 3. , 6.6, 2.1],\n",
              "       [4.9, 2.5, 4.5, 1.7],\n",
              "       [7.3, 2.9, 6.3, 1.8],\n",
              "       [6.7, 2.5, 5.8, 1.8],\n",
              "       [7.2, 3.6, 6.1, 2.5],\n",
              "       [6.5, 3.2, 5.1, 2. ],\n",
              "       [6.4, 2.7, 5.3, 1.9],\n",
              "       [6.8, 3. , 5.5, 2.1],\n",
              "       [5.7, 2.5, 5. , 2. ],\n",
              "       [5.8, 2.8, 5.1, 2.4],\n",
              "       [6.4, 3.2, 5.3, 2.3],\n",
              "       [6.5, 3. , 5.5, 1.8],\n",
              "       [7.7, 3.8, 6.7, 2.2],\n",
              "       [7.7, 2.6, 6.9, 2.3],\n",
              "       [6. , 2.2, 5. , 1.5],\n",
              "       [6.9, 3.2, 5.7, 2.3],\n",
              "       [5.6, 2.8, 4.9, 2. ],\n",
              "       [7.7, 2.8, 6.7, 2. ],\n",
              "       [6.3, 2.7, 4.9, 1.8],\n",
              "       [6.7, 3.3, 5.7, 2.1],\n",
              "       [7.2, 3.2, 6. , 1.8],\n",
              "       [6.2, 2.8, 4.8, 1.8],\n",
              "       [6.1, 3. , 4.9, 1.8],\n",
              "       [6.4, 2.8, 5.6, 2.1],\n",
              "       [7.2, 3. , 5.8, 1.6],\n",
              "       [7.4, 2.8, 6.1, 1.9],\n",
              "       [7.9, 3.8, 6.4, 2. ],\n",
              "       [6.4, 2.8, 5.6, 2.2],\n",
              "       [6.3, 2.8, 5.1, 1.5],\n",
              "       [6.1, 2.6, 5.6, 1.4],\n",
              "       [7.7, 3. , 6.1, 2.3],\n",
              "       [6.3, 3.4, 5.6, 2.4],\n",
              "       [6.4, 3.1, 5.5, 1.8],\n",
              "       [6. , 3. , 4.8, 1.8],\n",
              "       [6.9, 3.1, 5.4, 2.1],\n",
              "       [6.7, 3.1, 5.6, 2.4],\n",
              "       [6.9, 3.1, 5.1, 2.3],\n",
              "       [5.8, 2.7, 5.1, 1.9],\n",
              "       [6.8, 3.2, 5.9, 2.3],\n",
              "       [6.7, 3.3, 5.7, 2.5],\n",
              "       [6.7, 3. , 5.2, 2.3],\n",
              "       [6.3, 2.5, 5. , 1.9],\n",
              "       [6.5, 3. , 5.2, 2. ],\n",
              "       [6.2, 3.4, 5.4, 2.3],\n",
              "       [5.9, 3. , 5.1, 1.8]])"
            ]
          },
          "metadata": {},
          "execution_count": 26
        }
      ],
      "source": [
        "# 24. Import the iris dataset keeping the text intact.\n",
        "iris = load_iris()\n",
        "iris_data = iris.data\n",
        "iris_data"
      ]
    },
    {
      "cell_type": "code",
      "execution_count": 27,
      "id": "07748204",
      "metadata": {
        "id": "07748204"
      },
      "outputs": [],
      "source": [
        "# 25. Extract the text column species from the 1D iris imported in the previous question.\n",
        "iris_species = iris.target_names[iris.target]"
      ]
    },
    {
      "cell_type": "code",
      "execution_count": 28,
      "id": "ea62365e",
      "metadata": {
        "colab": {
          "base_uri": "https://localhost:8080/"
        },
        "id": "ea62365e",
        "outputId": "08e7c502-aadd-4fee-c17b-9821340ba1f9"
      },
      "outputs": [
        {
          "output_type": "execute_result",
          "data": {
            "text/plain": [
              "array([['5.1', '3.5', '1.4', '0.2', 'setosa'],\n",
              "       ['4.9', '3.0', '1.4', '0.2', 'setosa'],\n",
              "       ['4.7', '3.2', '1.3', '0.2', 'setosa'],\n",
              "       ['4.6', '3.1', '1.5', '0.2', 'setosa'],\n",
              "       ['5.0', '3.6', '1.4', '0.2', 'setosa'],\n",
              "       ['5.4', '3.9', '1.7', '0.4', 'setosa'],\n",
              "       ['4.6', '3.4', '1.4', '0.3', 'setosa'],\n",
              "       ['5.0', '3.4', '1.5', '0.2', 'setosa'],\n",
              "       ['4.4', '2.9', '1.4', '0.2', 'setosa'],\n",
              "       ['4.9', '3.1', '1.5', '0.1', 'setosa'],\n",
              "       ['5.4', '3.7', '1.5', '0.2', 'setosa'],\n",
              "       ['4.8', '3.4', '1.6', '0.2', 'setosa'],\n",
              "       ['4.8', '3.0', '1.4', '0.1', 'setosa'],\n",
              "       ['4.3', '3.0', '1.1', '0.1', 'setosa'],\n",
              "       ['5.8', '4.0', '1.2', '0.2', 'setosa'],\n",
              "       ['5.7', '4.4', '1.5', '0.4', 'setosa'],\n",
              "       ['5.4', '3.9', '1.3', '0.4', 'setosa'],\n",
              "       ['5.1', '3.5', '1.4', '0.3', 'setosa'],\n",
              "       ['5.7', '3.8', '1.7', '0.3', 'setosa'],\n",
              "       ['5.1', '3.8', '1.5', '0.3', 'setosa'],\n",
              "       ['5.4', '3.4', '1.7', '0.2', 'setosa'],\n",
              "       ['5.1', '3.7', '1.5', '0.4', 'setosa'],\n",
              "       ['4.6', '3.6', '1.0', '0.2', 'setosa'],\n",
              "       ['5.1', '3.3', '1.7', '0.5', 'setosa'],\n",
              "       ['4.8', '3.4', '1.9', '0.2', 'setosa'],\n",
              "       ['5.0', '3.0', '1.6', '0.2', 'setosa'],\n",
              "       ['5.0', '3.4', '1.6', '0.4', 'setosa'],\n",
              "       ['5.2', '3.5', '1.5', '0.2', 'setosa'],\n",
              "       ['5.2', '3.4', '1.4', '0.2', 'setosa'],\n",
              "       ['4.7', '3.2', '1.6', '0.2', 'setosa'],\n",
              "       ['4.8', '3.1', '1.6', '0.2', 'setosa'],\n",
              "       ['5.4', '3.4', '1.5', '0.4', 'setosa'],\n",
              "       ['5.2', '4.1', '1.5', '0.1', 'setosa'],\n",
              "       ['5.5', '4.2', '1.4', '0.2', 'setosa'],\n",
              "       ['4.9', '3.1', '1.5', '0.2', 'setosa'],\n",
              "       ['5.0', '3.2', '1.2', '0.2', 'setosa'],\n",
              "       ['5.5', '3.5', '1.3', '0.2', 'setosa'],\n",
              "       ['4.9', '3.6', '1.4', '0.1', 'setosa'],\n",
              "       ['4.4', '3.0', '1.3', '0.2', 'setosa'],\n",
              "       ['5.1', '3.4', '1.5', '0.2', 'setosa'],\n",
              "       ['5.0', '3.5', '1.3', '0.3', 'setosa'],\n",
              "       ['4.5', '2.3', '1.3', '0.3', 'setosa'],\n",
              "       ['4.4', '3.2', '1.3', '0.2', 'setosa'],\n",
              "       ['5.0', '3.5', '1.6', '0.6', 'setosa'],\n",
              "       ['5.1', '3.8', '1.9', '0.4', 'setosa'],\n",
              "       ['4.8', '3.0', '1.4', '0.3', 'setosa'],\n",
              "       ['5.1', '3.8', '1.6', '0.2', 'setosa'],\n",
              "       ['4.6', '3.2', '1.4', '0.2', 'setosa'],\n",
              "       ['5.3', '3.7', '1.5', '0.2', 'setosa'],\n",
              "       ['5.0', '3.3', '1.4', '0.2', 'setosa'],\n",
              "       ['7.0', '3.2', '4.7', '1.4', 'versicolor'],\n",
              "       ['6.4', '3.2', '4.5', '1.5', 'versicolor'],\n",
              "       ['6.9', '3.1', '4.9', '1.5', 'versicolor'],\n",
              "       ['5.5', '2.3', '4.0', '1.3', 'versicolor'],\n",
              "       ['6.5', '2.8', '4.6', '1.5', 'versicolor'],\n",
              "       ['5.7', '2.8', '4.5', '1.3', 'versicolor'],\n",
              "       ['6.3', '3.3', '4.7', '1.6', 'versicolor'],\n",
              "       ['4.9', '2.4', '3.3', '1.0', 'versicolor'],\n",
              "       ['6.6', '2.9', '4.6', '1.3', 'versicolor'],\n",
              "       ['5.2', '2.7', '3.9', '1.4', 'versicolor'],\n",
              "       ['5.0', '2.0', '3.5', '1.0', 'versicolor'],\n",
              "       ['5.9', '3.0', '4.2', '1.5', 'versicolor'],\n",
              "       ['6.0', '2.2', '4.0', '1.0', 'versicolor'],\n",
              "       ['6.1', '2.9', '4.7', '1.4', 'versicolor'],\n",
              "       ['5.6', '2.9', '3.6', '1.3', 'versicolor'],\n",
              "       ['6.7', '3.1', '4.4', '1.4', 'versicolor'],\n",
              "       ['5.6', '3.0', '4.5', '1.5', 'versicolor'],\n",
              "       ['5.8', '2.7', '4.1', '1.0', 'versicolor'],\n",
              "       ['6.2', '2.2', '4.5', '1.5', 'versicolor'],\n",
              "       ['5.6', '2.5', '3.9', '1.1', 'versicolor'],\n",
              "       ['5.9', '3.2', '4.8', '1.8', 'versicolor'],\n",
              "       ['6.1', '2.8', '4.0', '1.3', 'versicolor'],\n",
              "       ['6.3', '2.5', '4.9', '1.5', 'versicolor'],\n",
              "       ['6.1', '2.8', '4.7', '1.2', 'versicolor'],\n",
              "       ['6.4', '2.9', '4.3', '1.3', 'versicolor'],\n",
              "       ['6.6', '3.0', '4.4', '1.4', 'versicolor'],\n",
              "       ['6.8', '2.8', '4.8', '1.4', 'versicolor'],\n",
              "       ['6.7', '3.0', '5.0', '1.7', 'versicolor'],\n",
              "       ['6.0', '2.9', '4.5', '1.5', 'versicolor'],\n",
              "       ['5.7', '2.6', '3.5', '1.0', 'versicolor'],\n",
              "       ['5.5', '2.4', '3.8', '1.1', 'versicolor'],\n",
              "       ['5.5', '2.4', '3.7', '1.0', 'versicolor'],\n",
              "       ['5.8', '2.7', '3.9', '1.2', 'versicolor'],\n",
              "       ['6.0', '2.7', '5.1', '1.6', 'versicolor'],\n",
              "       ['5.4', '3.0', '4.5', '1.5', 'versicolor'],\n",
              "       ['6.0', '3.4', '4.5', '1.6', 'versicolor'],\n",
              "       ['6.7', '3.1', '4.7', '1.5', 'versicolor'],\n",
              "       ['6.3', '2.3', '4.4', '1.3', 'versicolor'],\n",
              "       ['5.6', '3.0', '4.1', '1.3', 'versicolor'],\n",
              "       ['5.5', '2.5', '4.0', '1.3', 'versicolor'],\n",
              "       ['5.5', '2.6', '4.4', '1.2', 'versicolor'],\n",
              "       ['6.1', '3.0', '4.6', '1.4', 'versicolor'],\n",
              "       ['5.8', '2.6', '4.0', '1.2', 'versicolor'],\n",
              "       ['5.0', '2.3', '3.3', '1.0', 'versicolor'],\n",
              "       ['5.6', '2.7', '4.2', '1.3', 'versicolor'],\n",
              "       ['5.7', '3.0', '4.2', '1.2', 'versicolor'],\n",
              "       ['5.7', '2.9', '4.2', '1.3', 'versicolor'],\n",
              "       ['6.2', '2.9', '4.3', '1.3', 'versicolor'],\n",
              "       ['5.1', '2.5', '3.0', '1.1', 'versicolor'],\n",
              "       ['5.7', '2.8', '4.1', '1.3', 'versicolor'],\n",
              "       ['6.3', '3.3', '6.0', '2.5', 'virginica'],\n",
              "       ['5.8', '2.7', '5.1', '1.9', 'virginica'],\n",
              "       ['7.1', '3.0', '5.9', '2.1', 'virginica'],\n",
              "       ['6.3', '2.9', '5.6', '1.8', 'virginica'],\n",
              "       ['6.5', '3.0', '5.8', '2.2', 'virginica'],\n",
              "       ['7.6', '3.0', '6.6', '2.1', 'virginica'],\n",
              "       ['4.9', '2.5', '4.5', '1.7', 'virginica'],\n",
              "       ['7.3', '2.9', '6.3', '1.8', 'virginica'],\n",
              "       ['6.7', '2.5', '5.8', '1.8', 'virginica'],\n",
              "       ['7.2', '3.6', '6.1', '2.5', 'virginica'],\n",
              "       ['6.5', '3.2', '5.1', '2.0', 'virginica'],\n",
              "       ['6.4', '2.7', '5.3', '1.9', 'virginica'],\n",
              "       ['6.8', '3.0', '5.5', '2.1', 'virginica'],\n",
              "       ['5.7', '2.5', '5.0', '2.0', 'virginica'],\n",
              "       ['5.8', '2.8', '5.1', '2.4', 'virginica'],\n",
              "       ['6.4', '3.2', '5.3', '2.3', 'virginica'],\n",
              "       ['6.5', '3.0', '5.5', '1.8', 'virginica'],\n",
              "       ['7.7', '3.8', '6.7', '2.2', 'virginica'],\n",
              "       ['7.7', '2.6', '6.9', '2.3', 'virginica'],\n",
              "       ['6.0', '2.2', '5.0', '1.5', 'virginica'],\n",
              "       ['6.9', '3.2', '5.7', '2.3', 'virginica'],\n",
              "       ['5.6', '2.8', '4.9', '2.0', 'virginica'],\n",
              "       ['7.7', '2.8', '6.7', '2.0', 'virginica'],\n",
              "       ['6.3', '2.7', '4.9', '1.8', 'virginica'],\n",
              "       ['6.7', '3.3', '5.7', '2.1', 'virginica'],\n",
              "       ['7.2', '3.2', '6.0', '1.8', 'virginica'],\n",
              "       ['6.2', '2.8', '4.8', '1.8', 'virginica'],\n",
              "       ['6.1', '3.0', '4.9', '1.8', 'virginica'],\n",
              "       ['6.4', '2.8', '5.6', '2.1', 'virginica'],\n",
              "       ['7.2', '3.0', '5.8', '1.6', 'virginica'],\n",
              "       ['7.4', '2.8', '6.1', '1.9', 'virginica'],\n",
              "       ['7.9', '3.8', '6.4', '2.0', 'virginica'],\n",
              "       ['6.4', '2.8', '5.6', '2.2', 'virginica'],\n",
              "       ['6.3', '2.8', '5.1', '1.5', 'virginica'],\n",
              "       ['6.1', '2.6', '5.6', '1.4', 'virginica'],\n",
              "       ['7.7', '3.0', '6.1', '2.3', 'virginica'],\n",
              "       ['6.3', '3.4', '5.6', '2.4', 'virginica'],\n",
              "       ['6.4', '3.1', '5.5', '1.8', 'virginica'],\n",
              "       ['6.0', '3.0', '4.8', '1.8', 'virginica'],\n",
              "       ['6.9', '3.1', '5.4', '2.1', 'virginica'],\n",
              "       ['6.7', '3.1', '5.6', '2.4', 'virginica'],\n",
              "       ['6.9', '3.1', '5.1', '2.3', 'virginica'],\n",
              "       ['5.8', '2.7', '5.1', '1.9', 'virginica'],\n",
              "       ['6.8', '3.2', '5.9', '2.3', 'virginica'],\n",
              "       ['6.7', '3.3', '5.7', '2.5', 'virginica'],\n",
              "       ['6.7', '3.0', '5.2', '2.3', 'virginica'],\n",
              "       ['6.3', '2.5', '5.0', '1.9', 'virginica'],\n",
              "       ['6.5', '3.0', '5.2', '2.0', 'virginica'],\n",
              "       ['6.2', '3.4', '5.4', '2.3', 'virginica'],\n",
              "       ['5.9', '3.0', '5.1', '1.8', 'virginica']], dtype='<U32')"
            ]
          },
          "metadata": {},
          "execution_count": 28
        }
      ],
      "source": [
        "# 26. Convert the 1D iris to a 2D array iris_2d by omitting the species text field.\n",
        "iris_2d = np.column_stack((iris_data, iris_species))\n",
        "iris_2d"
      ]
    },
    {
      "cell_type": "code",
      "execution_count": 29,
      "id": "bb10c741",
      "metadata": {
        "colab": {
          "base_uri": "https://localhost:8080/",
          "height": 391
        },
        "id": "bb10c741",
        "outputId": "2e52da40-3110-4f24-a2be-d5261ce91fd4"
      },
      "outputs": [
        {
          "output_type": "error",
          "ename": "UFuncTypeError",
          "evalue": "ignored",
          "traceback": [
            "\u001b[0;31m---------------------------------------------------------------------------\u001b[0m",
            "\u001b[0;31mUFuncTypeError\u001b[0m                            Traceback (most recent call last)",
            "\u001b[0;32m<ipython-input-29-b4def62710d1>\u001b[0m in \u001b[0;36m<cell line: 3>\u001b[0;34m()\u001b[0m\n\u001b[1;32m      1\u001b[0m \u001b[0;31m# 27. Find the mean, median, standard deviation of iris's sepallength (1st column).\u001b[0m\u001b[0;34m\u001b[0m\u001b[0;34m\u001b[0m\u001b[0m\n\u001b[1;32m      2\u001b[0m \u001b[0;34m\u001b[0m\u001b[0m\n\u001b[0;32m----> 3\u001b[0;31m \u001b[0msepallength_mean\u001b[0m \u001b[0;34m=\u001b[0m \u001b[0mnp\u001b[0m\u001b[0;34m.\u001b[0m\u001b[0mmean\u001b[0m\u001b[0;34m(\u001b[0m\u001b[0miris_2d\u001b[0m\u001b[0;34m[\u001b[0m\u001b[0;34m:\u001b[0m\u001b[0;34m,\u001b[0m \u001b[0;36m0\u001b[0m\u001b[0;34m]\u001b[0m\u001b[0;34m)\u001b[0m\u001b[0;34m\u001b[0m\u001b[0;34m\u001b[0m\u001b[0m\n\u001b[0m\u001b[1;32m      4\u001b[0m \u001b[0msepallength_median\u001b[0m \u001b[0;34m=\u001b[0m \u001b[0mnp\u001b[0m\u001b[0;34m.\u001b[0m\u001b[0mmedian\u001b[0m\u001b[0;34m(\u001b[0m\u001b[0miris_2d\u001b[0m\u001b[0;34m[\u001b[0m\u001b[0;34m:\u001b[0m\u001b[0;34m,\u001b[0m \u001b[0;36m0\u001b[0m\u001b[0;34m]\u001b[0m\u001b[0;34m)\u001b[0m\u001b[0;34m\u001b[0m\u001b[0;34m\u001b[0m\u001b[0m\n\u001b[1;32m      5\u001b[0m \u001b[0msepallength_std\u001b[0m \u001b[0;34m=\u001b[0m \u001b[0mnp\u001b[0m\u001b[0;34m.\u001b[0m\u001b[0mstd\u001b[0m\u001b[0;34m(\u001b[0m\u001b[0miris_2d\u001b[0m\u001b[0;34m[\u001b[0m\u001b[0;34m:\u001b[0m\u001b[0;34m,\u001b[0m \u001b[0;36m0\u001b[0m\u001b[0;34m]\u001b[0m\u001b[0;34m)\u001b[0m\u001b[0;34m\u001b[0m\u001b[0;34m\u001b[0m\u001b[0m\n",
            "\u001b[0;32m/usr/local/lib/python3.10/dist-packages/numpy/core/overrides.py\u001b[0m in \u001b[0;36mmean\u001b[0;34m(*args, **kwargs)\u001b[0m\n",
            "\u001b[0;32m/usr/local/lib/python3.10/dist-packages/numpy/core/fromnumeric.py\u001b[0m in \u001b[0;36mmean\u001b[0;34m(a, axis, dtype, out, keepdims, where)\u001b[0m\n\u001b[1;32m   3430\u001b[0m             \u001b[0;32mreturn\u001b[0m \u001b[0mmean\u001b[0m\u001b[0;34m(\u001b[0m\u001b[0maxis\u001b[0m\u001b[0;34m=\u001b[0m\u001b[0maxis\u001b[0m\u001b[0;34m,\u001b[0m \u001b[0mdtype\u001b[0m\u001b[0;34m=\u001b[0m\u001b[0mdtype\u001b[0m\u001b[0;34m,\u001b[0m \u001b[0mout\u001b[0m\u001b[0;34m=\u001b[0m\u001b[0mout\u001b[0m\u001b[0;34m,\u001b[0m \u001b[0;34m**\u001b[0m\u001b[0mkwargs\u001b[0m\u001b[0;34m)\u001b[0m\u001b[0;34m\u001b[0m\u001b[0;34m\u001b[0m\u001b[0m\n\u001b[1;32m   3431\u001b[0m \u001b[0;34m\u001b[0m\u001b[0m\n\u001b[0;32m-> 3432\u001b[0;31m     return _methods._mean(a, axis=axis, dtype=dtype,\n\u001b[0m\u001b[1;32m   3433\u001b[0m                           out=out, **kwargs)\n\u001b[1;32m   3434\u001b[0m \u001b[0;34m\u001b[0m\u001b[0m\n",
            "\u001b[0;32m/usr/local/lib/python3.10/dist-packages/numpy/core/_methods.py\u001b[0m in \u001b[0;36m_mean\u001b[0;34m(a, axis, dtype, out, keepdims, where)\u001b[0m\n\u001b[1;32m    178\u001b[0m             \u001b[0mis_float16_result\u001b[0m \u001b[0;34m=\u001b[0m \u001b[0;32mTrue\u001b[0m\u001b[0;34m\u001b[0m\u001b[0;34m\u001b[0m\u001b[0m\n\u001b[1;32m    179\u001b[0m \u001b[0;34m\u001b[0m\u001b[0m\n\u001b[0;32m--> 180\u001b[0;31m     \u001b[0mret\u001b[0m \u001b[0;34m=\u001b[0m \u001b[0mumr_sum\u001b[0m\u001b[0;34m(\u001b[0m\u001b[0marr\u001b[0m\u001b[0;34m,\u001b[0m \u001b[0maxis\u001b[0m\u001b[0;34m,\u001b[0m \u001b[0mdtype\u001b[0m\u001b[0;34m,\u001b[0m \u001b[0mout\u001b[0m\u001b[0;34m,\u001b[0m \u001b[0mkeepdims\u001b[0m\u001b[0;34m,\u001b[0m \u001b[0mwhere\u001b[0m\u001b[0;34m=\u001b[0m\u001b[0mwhere\u001b[0m\u001b[0;34m)\u001b[0m\u001b[0;34m\u001b[0m\u001b[0;34m\u001b[0m\u001b[0m\n\u001b[0m\u001b[1;32m    181\u001b[0m     \u001b[0;32mif\u001b[0m \u001b[0misinstance\u001b[0m\u001b[0;34m(\u001b[0m\u001b[0mret\u001b[0m\u001b[0;34m,\u001b[0m \u001b[0mmu\u001b[0m\u001b[0;34m.\u001b[0m\u001b[0mndarray\u001b[0m\u001b[0;34m)\u001b[0m\u001b[0;34m:\u001b[0m\u001b[0;34m\u001b[0m\u001b[0;34m\u001b[0m\u001b[0m\n\u001b[1;32m    182\u001b[0m         ret = um.true_divide(\n",
            "\u001b[0;31mUFuncTypeError\u001b[0m: ufunc 'add' did not contain a loop with signature matching types (dtype('<U32'), dtype('<U32')) -> None"
          ]
        }
      ],
      "source": [
        "# 27. Find the mean, median, standard deviation of iris's sepallength (1st column).\n",
        "\n",
        "sepallength_mean = np.mean(iris_2d[:, 0])\n",
        "sepallength_median = np.median(iris_2d[:, 0])\n",
        "sepallength_std = np.std(iris_2d[:, 0])\n",
        "\n",
        "print(\"Mean SepalLength:\", sepallength_mean)\n",
        "print(\"Median SepalLength:\", sepallength_median)\n",
        "print(\"Standard Deviation SepalLength:\", sepallength_std)"
      ]
    },
    {
      "cell_type": "code",
      "execution_count": null,
      "id": "90bd4694",
      "metadata": {
        "id": "90bd4694"
      },
      "outputs": [],
      "source": [
        "# 28. Create a normalized form of iris's sepallength.\n",
        "sepallength_normalized = (iris_2d[:, 0] - np.min(iris_2d[:, 0])) / (np.max(iris_2d[:, 0]) - np.min(iris_2d[:, 0]))\n"
      ]
    },
    {
      "cell_type": "code",
      "execution_count": null,
      "id": "d601052d",
      "metadata": {
        "id": "d601052d"
      },
      "outputs": [],
      "source": [
        "# Load Iris dataset\n",
        "iris = load_iris()\n",
        "sepal_length = iris.data[:, 0]  # Sepal length is in the first column\n"
      ]
    },
    {
      "cell_type": "code",
      "execution_count": null,
      "id": "6b5174b5",
      "metadata": {
        "id": "6b5174b5"
      },
      "outputs": [],
      "source": [
        "# 30. Insert np.nan values at 20 random positions in iris_2d dataset.\n",
        "np.random.seed(42)\n",
        "rand_rows = np.random.choice(iris_2d.shape[0], 20, replace=False)\n",
        "rand_cols = np.random.choice(iris_2d.shape[1], 20, replace=False)\n",
        "iris_2d[rand_rows, rand_cols] = np.nan"
      ]
    },
    {
      "cell_type": "code",
      "execution_count": null,
      "id": "de554a8c",
      "metadata": {
        "id": "de554a8c"
      },
      "outputs": [],
      "source": [
        "# 31. Find the number and position of missing values in iris_2d's sepallength.\n",
        "missing_values_count = np.isnan(iris_2d[:, 0]).sum()\n",
        "missing_values_positions = np.argwhere(np.isnan(iris_2d[:, 0]))\n",
        "print(\"Number of missing values in SepalLength:\", missing_values_count)\n",
        "print(\"Positions of missing values in SepalLength:\", missing_values_positions)\n"
      ]
    },
    {
      "cell_type": "code",
      "execution_count": null,
      "id": "0d2a84a6",
      "metadata": {
        "id": "0d2a84a6"
      },
      "outputs": [],
      "source": [
        "# 32. Filter the rows of iris_2d that have petallength (3rd column) > 1.5 and sepallength (1st column) < 5.0.\n",
        "filtered_rows = iris_2d[(iris_2d[:, 2] > 1.5) & (iris_2d[:, 0] < 5.0)]\n"
      ]
    },
    {
      "cell_type": "code",
      "execution_count": null,
      "id": "4f186b53",
      "metadata": {
        "id": "4f186b53"
      },
      "outputs": [],
      "source": [
        "# 33. Select the rows of iris_2d that do not have any nan value.\n",
        "non_nan_rows = iris_2d[~np.isnan(iris_2d).any(axis=1)]\n"
      ]
    },
    {
      "cell_type": "code",
      "execution_count": null,
      "id": "8a5b5fde",
      "metadata": {
        "id": "8a5b5fde"
      },
      "outputs": [],
      "source": [
        "# 34. Find the correlation between SepalLength(1st column) and PetalLength(3rd column) in iris_2d.\n",
        "correlation = np.corrcoef(iris_2d[:, 0].astype(float), iris_2d[:, 2].astype(float))[0, 1]\n",
        "print(\"Correlation between SepalLength and PetalLength:\", correlation)"
      ]
    },
    {
      "cell_type": "code",
      "execution_count": null,
      "id": "6e467761",
      "metadata": {
        "id": "6e467761"
      },
      "outputs": [],
      "source": [
        "# 35. Find out if iris_2d has any missing values.\n",
        "has_missing_values = np.isnan(iris_2d).any()\n",
        "print(\"Does iris_2d have any missing values?\", has_missing_values)"
      ]
    },
    {
      "cell_type": "code",
      "execution_count": null,
      "id": "316663a2",
      "metadata": {
        "id": "316663a2"
      },
      "outputs": [],
      "source": [
        "# 36. Replace all occurrences of nan with 0 in the numpy array.\n",
        "iris_2d[np.isnan(iris_2d)] = 0"
      ]
    },
    {
      "cell_type": "code",
      "execution_count": 30,
      "id": "8509309a",
      "metadata": {
        "colab": {
          "base_uri": "https://localhost:8080/"
        },
        "id": "8509309a",
        "outputId": "812dd545-3fce-4ccb-a1a7-5f168709eb58"
      },
      "outputs": [
        {
          "output_type": "execute_result",
          "data": {
            "text/plain": [
              "array([50, 50, 50])"
            ]
          },
          "metadata": {},
          "execution_count": 30
        }
      ],
      "source": [
        "# 37. Find the unique values and the count of unique values in iris's species.\n",
        "unique_species, counts = np.unique(iris_species, return_counts=True)\n",
        "unique_species\n",
        "counts"
      ]
    },
    {
      "cell_type": "code",
      "execution_count": null,
      "id": "4a1a2a00",
      "metadata": {
        "id": "4a1a2a00"
      },
      "outputs": [],
      "source": []
    }
  ],
  "metadata": {
    "kernelspec": {
      "display_name": "Python 3 (ipykernel)",
      "language": "python",
      "name": "python3"
    },
    "language_info": {
      "codemirror_mode": {
        "name": "ipython",
        "version": 3
      },
      "file_extension": ".py",
      "mimetype": "text/x-python",
      "name": "python",
      "nbconvert_exporter": "python",
      "pygments_lexer": "ipython3",
      "version": "3.11.5"
    },
    "colab": {
      "provenance": [],
      "include_colab_link": true
    }
  },
  "nbformat": 4,
  "nbformat_minor": 5
}