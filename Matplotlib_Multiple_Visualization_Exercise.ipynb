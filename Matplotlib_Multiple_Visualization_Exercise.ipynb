{
  "nbformat": 4,
  "nbformat_minor": 0,
  "metadata": {
    "colab": {
      "provenance": [],
      "authorship_tag": "ABX9TyMiOHI4RaZSMwP7vxXTaIsT",
      "include_colab_link": true
    },
    "kernelspec": {
      "name": "python3",
      "display_name": "Python 3"
    },
    "language_info": {
      "name": "python"
    }
  },
  "cells": [
    {
      "cell_type": "markdown",
      "metadata": {
        "id": "view-in-github",
        "colab_type": "text"
      },
      "source": [
        "<a href=\"https://colab.research.google.com/github/jobayed80/Machine_Learning_Learning_Course/blob/main/Matplotlib_Multiple_Visualization_Exercise.ipynb\" target=\"_parent\"><img src=\"https://colab.research.google.com/assets/colab-badge.svg\" alt=\"Open In Colab\"/></a>"
      ]
    },
    {
      "cell_type": "code",
      "execution_count": 90,
      "metadata": {
        "id": "uI9baezh076k"
      },
      "outputs": [],
      "source": [
        "#Md. Jobayed Hossain Rabbi\n",
        "#193-35-2948\n",
        "\n",
        "import pandas as pd\n",
        "import numpy as np\n",
        "import matplotlib.pyplot as plt\n",
        "import seaborn as sns\n",
        "import plotly.express as px"
      ]
    },
    {
      "cell_type": "code",
      "source": [
        "df = pd.read_csv('shopping_trends.csv')"
      ],
      "metadata": {
        "id": "DhMDG5241C_X"
      },
      "execution_count": 2,
      "outputs": []
    },
    {
      "cell_type": "code",
      "source": [
        "df"
      ],
      "metadata": {
        "colab": {
          "base_uri": "https://localhost:8080/",
          "height": 634
        },
        "id": "esUOpA8W1mjS",
        "outputId": "99853614-8989-49af-e924-6e95808487f0"
      },
      "execution_count": 3,
      "outputs": [
        {
          "output_type": "execute_result",
          "data": {
            "text/plain": [
              "      Customer ID  Age  Gender Item Purchased     Category  \\\n",
              "0               1   55    Male         Blouse     Clothing   \n",
              "1               2   19    Male        Sweater     Clothing   \n",
              "2               3   50    Male          Jeans     Clothing   \n",
              "3               4   21    Male        Sandals     Footwear   \n",
              "4               5   45    Male         Blouse     Clothing   \n",
              "...           ...  ...     ...            ...          ...   \n",
              "3895         3896   40  Female         Hoodie     Clothing   \n",
              "3896         3897   52  Female       Backpack  Accessories   \n",
              "3897         3898   46  Female           Belt  Accessories   \n",
              "3898         3899   44  Female          Shoes     Footwear   \n",
              "3899         3900   52  Female        Handbag  Accessories   \n",
              "\n",
              "      Purchase Amount (USD)       Location Size      Color  Season  \\\n",
              "0                        53       Kentucky    L       Gray  Winter   \n",
              "1                        64          Maine    L     Maroon  Winter   \n",
              "2                        73  Massachusetts    S     Maroon  Spring   \n",
              "3                        90   Rhode Island    M     Maroon  Spring   \n",
              "4                        49         Oregon    M  Turquoise  Spring   \n",
              "...                     ...            ...  ...        ...     ...   \n",
              "3895                     28       Virginia    L  Turquoise  Summer   \n",
              "3896                     49           Iowa    L      White  Spring   \n",
              "3897                     33     New Jersey    L      Green  Spring   \n",
              "3898                     77      Minnesota    S      Brown  Summer   \n",
              "3899                     81     California    M      Beige  Spring   \n",
              "\n",
              "      Review Rating Subscription Status Payment Method   Shipping Type  \\\n",
              "0               3.1                 Yes    Credit Card         Express   \n",
              "1               3.1                 Yes  Bank Transfer         Express   \n",
              "2               3.1                 Yes           Cash   Free Shipping   \n",
              "3               3.5                 Yes         PayPal    Next Day Air   \n",
              "4               2.7                 Yes           Cash   Free Shipping   \n",
              "...             ...                 ...            ...             ...   \n",
              "3895            4.2                  No           Cash  2-Day Shipping   \n",
              "3896            4.5                  No         PayPal    Store Pickup   \n",
              "3897            2.9                  No    Credit Card        Standard   \n",
              "3898            3.8                  No         PayPal         Express   \n",
              "3899            3.1                  No  Bank Transfer    Store Pickup   \n",
              "\n",
              "     Discount Applied Promo Code Used  Previous Purchases  \\\n",
              "0                 Yes             Yes                  14   \n",
              "1                 Yes             Yes                   2   \n",
              "2                 Yes             Yes                  23   \n",
              "3                 Yes             Yes                  49   \n",
              "4                 Yes             Yes                  31   \n",
              "...               ...             ...                 ...   \n",
              "3895               No              No                  32   \n",
              "3896               No              No                  41   \n",
              "3897               No              No                  24   \n",
              "3898               No              No                  24   \n",
              "3899               No              No                  33   \n",
              "\n",
              "     Preferred Payment Method Frequency of Purchases  \n",
              "0                       Venmo            Fortnightly  \n",
              "1                        Cash            Fortnightly  \n",
              "2                 Credit Card                 Weekly  \n",
              "3                      PayPal                 Weekly  \n",
              "4                      PayPal               Annually  \n",
              "...                       ...                    ...  \n",
              "3895                    Venmo                 Weekly  \n",
              "3896            Bank Transfer              Bi-Weekly  \n",
              "3897                    Venmo              Quarterly  \n",
              "3898                    Venmo                 Weekly  \n",
              "3899                    Venmo              Quarterly  \n",
              "\n",
              "[3900 rows x 19 columns]"
            ],
            "text/html": [
              "\n",
              "  <div id=\"df-177fa7d2-1e60-4000-878c-958b38c5c539\" class=\"colab-df-container\">\n",
              "    <div>\n",
              "<style scoped>\n",
              "    .dataframe tbody tr th:only-of-type {\n",
              "        vertical-align: middle;\n",
              "    }\n",
              "\n",
              "    .dataframe tbody tr th {\n",
              "        vertical-align: top;\n",
              "    }\n",
              "\n",
              "    .dataframe thead th {\n",
              "        text-align: right;\n",
              "    }\n",
              "</style>\n",
              "<table border=\"1\" class=\"dataframe\">\n",
              "  <thead>\n",
              "    <tr style=\"text-align: right;\">\n",
              "      <th></th>\n",
              "      <th>Customer ID</th>\n",
              "      <th>Age</th>\n",
              "      <th>Gender</th>\n",
              "      <th>Item Purchased</th>\n",
              "      <th>Category</th>\n",
              "      <th>Purchase Amount (USD)</th>\n",
              "      <th>Location</th>\n",
              "      <th>Size</th>\n",
              "      <th>Color</th>\n",
              "      <th>Season</th>\n",
              "      <th>Review Rating</th>\n",
              "      <th>Subscription Status</th>\n",
              "      <th>Payment Method</th>\n",
              "      <th>Shipping Type</th>\n",
              "      <th>Discount Applied</th>\n",
              "      <th>Promo Code Used</th>\n",
              "      <th>Previous Purchases</th>\n",
              "      <th>Preferred Payment Method</th>\n",
              "      <th>Frequency of Purchases</th>\n",
              "    </tr>\n",
              "  </thead>\n",
              "  <tbody>\n",
              "    <tr>\n",
              "      <th>0</th>\n",
              "      <td>1</td>\n",
              "      <td>55</td>\n",
              "      <td>Male</td>\n",
              "      <td>Blouse</td>\n",
              "      <td>Clothing</td>\n",
              "      <td>53</td>\n",
              "      <td>Kentucky</td>\n",
              "      <td>L</td>\n",
              "      <td>Gray</td>\n",
              "      <td>Winter</td>\n",
              "      <td>3.1</td>\n",
              "      <td>Yes</td>\n",
              "      <td>Credit Card</td>\n",
              "      <td>Express</td>\n",
              "      <td>Yes</td>\n",
              "      <td>Yes</td>\n",
              "      <td>14</td>\n",
              "      <td>Venmo</td>\n",
              "      <td>Fortnightly</td>\n",
              "    </tr>\n",
              "    <tr>\n",
              "      <th>1</th>\n",
              "      <td>2</td>\n",
              "      <td>19</td>\n",
              "      <td>Male</td>\n",
              "      <td>Sweater</td>\n",
              "      <td>Clothing</td>\n",
              "      <td>64</td>\n",
              "      <td>Maine</td>\n",
              "      <td>L</td>\n",
              "      <td>Maroon</td>\n",
              "      <td>Winter</td>\n",
              "      <td>3.1</td>\n",
              "      <td>Yes</td>\n",
              "      <td>Bank Transfer</td>\n",
              "      <td>Express</td>\n",
              "      <td>Yes</td>\n",
              "      <td>Yes</td>\n",
              "      <td>2</td>\n",
              "      <td>Cash</td>\n",
              "      <td>Fortnightly</td>\n",
              "    </tr>\n",
              "    <tr>\n",
              "      <th>2</th>\n",
              "      <td>3</td>\n",
              "      <td>50</td>\n",
              "      <td>Male</td>\n",
              "      <td>Jeans</td>\n",
              "      <td>Clothing</td>\n",
              "      <td>73</td>\n",
              "      <td>Massachusetts</td>\n",
              "      <td>S</td>\n",
              "      <td>Maroon</td>\n",
              "      <td>Spring</td>\n",
              "      <td>3.1</td>\n",
              "      <td>Yes</td>\n",
              "      <td>Cash</td>\n",
              "      <td>Free Shipping</td>\n",
              "      <td>Yes</td>\n",
              "      <td>Yes</td>\n",
              "      <td>23</td>\n",
              "      <td>Credit Card</td>\n",
              "      <td>Weekly</td>\n",
              "    </tr>\n",
              "    <tr>\n",
              "      <th>3</th>\n",
              "      <td>4</td>\n",
              "      <td>21</td>\n",
              "      <td>Male</td>\n",
              "      <td>Sandals</td>\n",
              "      <td>Footwear</td>\n",
              "      <td>90</td>\n",
              "      <td>Rhode Island</td>\n",
              "      <td>M</td>\n",
              "      <td>Maroon</td>\n",
              "      <td>Spring</td>\n",
              "      <td>3.5</td>\n",
              "      <td>Yes</td>\n",
              "      <td>PayPal</td>\n",
              "      <td>Next Day Air</td>\n",
              "      <td>Yes</td>\n",
              "      <td>Yes</td>\n",
              "      <td>49</td>\n",
              "      <td>PayPal</td>\n",
              "      <td>Weekly</td>\n",
              "    </tr>\n",
              "    <tr>\n",
              "      <th>4</th>\n",
              "      <td>5</td>\n",
              "      <td>45</td>\n",
              "      <td>Male</td>\n",
              "      <td>Blouse</td>\n",
              "      <td>Clothing</td>\n",
              "      <td>49</td>\n",
              "      <td>Oregon</td>\n",
              "      <td>M</td>\n",
              "      <td>Turquoise</td>\n",
              "      <td>Spring</td>\n",
              "      <td>2.7</td>\n",
              "      <td>Yes</td>\n",
              "      <td>Cash</td>\n",
              "      <td>Free Shipping</td>\n",
              "      <td>Yes</td>\n",
              "      <td>Yes</td>\n",
              "      <td>31</td>\n",
              "      <td>PayPal</td>\n",
              "      <td>Annually</td>\n",
              "    </tr>\n",
              "    <tr>\n",
              "      <th>...</th>\n",
              "      <td>...</td>\n",
              "      <td>...</td>\n",
              "      <td>...</td>\n",
              "      <td>...</td>\n",
              "      <td>...</td>\n",
              "      <td>...</td>\n",
              "      <td>...</td>\n",
              "      <td>...</td>\n",
              "      <td>...</td>\n",
              "      <td>...</td>\n",
              "      <td>...</td>\n",
              "      <td>...</td>\n",
              "      <td>...</td>\n",
              "      <td>...</td>\n",
              "      <td>...</td>\n",
              "      <td>...</td>\n",
              "      <td>...</td>\n",
              "      <td>...</td>\n",
              "      <td>...</td>\n",
              "    </tr>\n",
              "    <tr>\n",
              "      <th>3895</th>\n",
              "      <td>3896</td>\n",
              "      <td>40</td>\n",
              "      <td>Female</td>\n",
              "      <td>Hoodie</td>\n",
              "      <td>Clothing</td>\n",
              "      <td>28</td>\n",
              "      <td>Virginia</td>\n",
              "      <td>L</td>\n",
              "      <td>Turquoise</td>\n",
              "      <td>Summer</td>\n",
              "      <td>4.2</td>\n",
              "      <td>No</td>\n",
              "      <td>Cash</td>\n",
              "      <td>2-Day Shipping</td>\n",
              "      <td>No</td>\n",
              "      <td>No</td>\n",
              "      <td>32</td>\n",
              "      <td>Venmo</td>\n",
              "      <td>Weekly</td>\n",
              "    </tr>\n",
              "    <tr>\n",
              "      <th>3896</th>\n",
              "      <td>3897</td>\n",
              "      <td>52</td>\n",
              "      <td>Female</td>\n",
              "      <td>Backpack</td>\n",
              "      <td>Accessories</td>\n",
              "      <td>49</td>\n",
              "      <td>Iowa</td>\n",
              "      <td>L</td>\n",
              "      <td>White</td>\n",
              "      <td>Spring</td>\n",
              "      <td>4.5</td>\n",
              "      <td>No</td>\n",
              "      <td>PayPal</td>\n",
              "      <td>Store Pickup</td>\n",
              "      <td>No</td>\n",
              "      <td>No</td>\n",
              "      <td>41</td>\n",
              "      <td>Bank Transfer</td>\n",
              "      <td>Bi-Weekly</td>\n",
              "    </tr>\n",
              "    <tr>\n",
              "      <th>3897</th>\n",
              "      <td>3898</td>\n",
              "      <td>46</td>\n",
              "      <td>Female</td>\n",
              "      <td>Belt</td>\n",
              "      <td>Accessories</td>\n",
              "      <td>33</td>\n",
              "      <td>New Jersey</td>\n",
              "      <td>L</td>\n",
              "      <td>Green</td>\n",
              "      <td>Spring</td>\n",
              "      <td>2.9</td>\n",
              "      <td>No</td>\n",
              "      <td>Credit Card</td>\n",
              "      <td>Standard</td>\n",
              "      <td>No</td>\n",
              "      <td>No</td>\n",
              "      <td>24</td>\n",
              "      <td>Venmo</td>\n",
              "      <td>Quarterly</td>\n",
              "    </tr>\n",
              "    <tr>\n",
              "      <th>3898</th>\n",
              "      <td>3899</td>\n",
              "      <td>44</td>\n",
              "      <td>Female</td>\n",
              "      <td>Shoes</td>\n",
              "      <td>Footwear</td>\n",
              "      <td>77</td>\n",
              "      <td>Minnesota</td>\n",
              "      <td>S</td>\n",
              "      <td>Brown</td>\n",
              "      <td>Summer</td>\n",
              "      <td>3.8</td>\n",
              "      <td>No</td>\n",
              "      <td>PayPal</td>\n",
              "      <td>Express</td>\n",
              "      <td>No</td>\n",
              "      <td>No</td>\n",
              "      <td>24</td>\n",
              "      <td>Venmo</td>\n",
              "      <td>Weekly</td>\n",
              "    </tr>\n",
              "    <tr>\n",
              "      <th>3899</th>\n",
              "      <td>3900</td>\n",
              "      <td>52</td>\n",
              "      <td>Female</td>\n",
              "      <td>Handbag</td>\n",
              "      <td>Accessories</td>\n",
              "      <td>81</td>\n",
              "      <td>California</td>\n",
              "      <td>M</td>\n",
              "      <td>Beige</td>\n",
              "      <td>Spring</td>\n",
              "      <td>3.1</td>\n",
              "      <td>No</td>\n",
              "      <td>Bank Transfer</td>\n",
              "      <td>Store Pickup</td>\n",
              "      <td>No</td>\n",
              "      <td>No</td>\n",
              "      <td>33</td>\n",
              "      <td>Venmo</td>\n",
              "      <td>Quarterly</td>\n",
              "    </tr>\n",
              "  </tbody>\n",
              "</table>\n",
              "<p>3900 rows × 19 columns</p>\n",
              "</div>\n",
              "    <div class=\"colab-df-buttons\">\n",
              "\n",
              "  <div class=\"colab-df-container\">\n",
              "    <button class=\"colab-df-convert\" onclick=\"convertToInteractive('df-177fa7d2-1e60-4000-878c-958b38c5c539')\"\n",
              "            title=\"Convert this dataframe to an interactive table.\"\n",
              "            style=\"display:none;\">\n",
              "\n",
              "  <svg xmlns=\"http://www.w3.org/2000/svg\" height=\"24px\" viewBox=\"0 -960 960 960\">\n",
              "    <path d=\"M120-120v-720h720v720H120Zm60-500h600v-160H180v160Zm220 220h160v-160H400v160Zm0 220h160v-160H400v160ZM180-400h160v-160H180v160Zm440 0h160v-160H620v160ZM180-180h160v-160H180v160Zm440 0h160v-160H620v160Z\"/>\n",
              "  </svg>\n",
              "    </button>\n",
              "\n",
              "  <style>\n",
              "    .colab-df-container {\n",
              "      display:flex;\n",
              "      gap: 12px;\n",
              "    }\n",
              "\n",
              "    .colab-df-convert {\n",
              "      background-color: #E8F0FE;\n",
              "      border: none;\n",
              "      border-radius: 50%;\n",
              "      cursor: pointer;\n",
              "      display: none;\n",
              "      fill: #1967D2;\n",
              "      height: 32px;\n",
              "      padding: 0 0 0 0;\n",
              "      width: 32px;\n",
              "    }\n",
              "\n",
              "    .colab-df-convert:hover {\n",
              "      background-color: #E2EBFA;\n",
              "      box-shadow: 0px 1px 2px rgba(60, 64, 67, 0.3), 0px 1px 3px 1px rgba(60, 64, 67, 0.15);\n",
              "      fill: #174EA6;\n",
              "    }\n",
              "\n",
              "    .colab-df-buttons div {\n",
              "      margin-bottom: 4px;\n",
              "    }\n",
              "\n",
              "    [theme=dark] .colab-df-convert {\n",
              "      background-color: #3B4455;\n",
              "      fill: #D2E3FC;\n",
              "    }\n",
              "\n",
              "    [theme=dark] .colab-df-convert:hover {\n",
              "      background-color: #434B5C;\n",
              "      box-shadow: 0px 1px 3px 1px rgba(0, 0, 0, 0.15);\n",
              "      filter: drop-shadow(0px 1px 2px rgba(0, 0, 0, 0.3));\n",
              "      fill: #FFFFFF;\n",
              "    }\n",
              "  </style>\n",
              "\n",
              "    <script>\n",
              "      const buttonEl =\n",
              "        document.querySelector('#df-177fa7d2-1e60-4000-878c-958b38c5c539 button.colab-df-convert');\n",
              "      buttonEl.style.display =\n",
              "        google.colab.kernel.accessAllowed ? 'block' : 'none';\n",
              "\n",
              "      async function convertToInteractive(key) {\n",
              "        const element = document.querySelector('#df-177fa7d2-1e60-4000-878c-958b38c5c539');\n",
              "        const dataTable =\n",
              "          await google.colab.kernel.invokeFunction('convertToInteractive',\n",
              "                                                    [key], {});\n",
              "        if (!dataTable) return;\n",
              "\n",
              "        const docLinkHtml = 'Like what you see? Visit the ' +\n",
              "          '<a target=\"_blank\" href=https://colab.research.google.com/notebooks/data_table.ipynb>data table notebook</a>'\n",
              "          + ' to learn more about interactive tables.';\n",
              "        element.innerHTML = '';\n",
              "        dataTable['output_type'] = 'display_data';\n",
              "        await google.colab.output.renderOutput(dataTable, element);\n",
              "        const docLink = document.createElement('div');\n",
              "        docLink.innerHTML = docLinkHtml;\n",
              "        element.appendChild(docLink);\n",
              "      }\n",
              "    </script>\n",
              "  </div>\n",
              "\n",
              "\n",
              "<div id=\"df-879151e3-4cc3-491c-b2b1-a7b93480281b\">\n",
              "  <button class=\"colab-df-quickchart\" onclick=\"quickchart('df-879151e3-4cc3-491c-b2b1-a7b93480281b')\"\n",
              "            title=\"Suggest charts\"\n",
              "            style=\"display:none;\">\n",
              "\n",
              "<svg xmlns=\"http://www.w3.org/2000/svg\" height=\"24px\"viewBox=\"0 0 24 24\"\n",
              "     width=\"24px\">\n",
              "    <g>\n",
              "        <path d=\"M19 3H5c-1.1 0-2 .9-2 2v14c0 1.1.9 2 2 2h14c1.1 0 2-.9 2-2V5c0-1.1-.9-2-2-2zM9 17H7v-7h2v7zm4 0h-2V7h2v10zm4 0h-2v-4h2v4z\"/>\n",
              "    </g>\n",
              "</svg>\n",
              "  </button>\n",
              "\n",
              "<style>\n",
              "  .colab-df-quickchart {\n",
              "      --bg-color: #E8F0FE;\n",
              "      --fill-color: #1967D2;\n",
              "      --hover-bg-color: #E2EBFA;\n",
              "      --hover-fill-color: #174EA6;\n",
              "      --disabled-fill-color: #AAA;\n",
              "      --disabled-bg-color: #DDD;\n",
              "  }\n",
              "\n",
              "  [theme=dark] .colab-df-quickchart {\n",
              "      --bg-color: #3B4455;\n",
              "      --fill-color: #D2E3FC;\n",
              "      --hover-bg-color: #434B5C;\n",
              "      --hover-fill-color: #FFFFFF;\n",
              "      --disabled-bg-color: #3B4455;\n",
              "      --disabled-fill-color: #666;\n",
              "  }\n",
              "\n",
              "  .colab-df-quickchart {\n",
              "    background-color: var(--bg-color);\n",
              "    border: none;\n",
              "    border-radius: 50%;\n",
              "    cursor: pointer;\n",
              "    display: none;\n",
              "    fill: var(--fill-color);\n",
              "    height: 32px;\n",
              "    padding: 0;\n",
              "    width: 32px;\n",
              "  }\n",
              "\n",
              "  .colab-df-quickchart:hover {\n",
              "    background-color: var(--hover-bg-color);\n",
              "    box-shadow: 0 1px 2px rgba(60, 64, 67, 0.3), 0 1px 3px 1px rgba(60, 64, 67, 0.15);\n",
              "    fill: var(--button-hover-fill-color);\n",
              "  }\n",
              "\n",
              "  .colab-df-quickchart-complete:disabled,\n",
              "  .colab-df-quickchart-complete:disabled:hover {\n",
              "    background-color: var(--disabled-bg-color);\n",
              "    fill: var(--disabled-fill-color);\n",
              "    box-shadow: none;\n",
              "  }\n",
              "\n",
              "  .colab-df-spinner {\n",
              "    border: 2px solid var(--fill-color);\n",
              "    border-color: transparent;\n",
              "    border-bottom-color: var(--fill-color);\n",
              "    animation:\n",
              "      spin 1s steps(1) infinite;\n",
              "  }\n",
              "\n",
              "  @keyframes spin {\n",
              "    0% {\n",
              "      border-color: transparent;\n",
              "      border-bottom-color: var(--fill-color);\n",
              "      border-left-color: var(--fill-color);\n",
              "    }\n",
              "    20% {\n",
              "      border-color: transparent;\n",
              "      border-left-color: var(--fill-color);\n",
              "      border-top-color: var(--fill-color);\n",
              "    }\n",
              "    30% {\n",
              "      border-color: transparent;\n",
              "      border-left-color: var(--fill-color);\n",
              "      border-top-color: var(--fill-color);\n",
              "      border-right-color: var(--fill-color);\n",
              "    }\n",
              "    40% {\n",
              "      border-color: transparent;\n",
              "      border-right-color: var(--fill-color);\n",
              "      border-top-color: var(--fill-color);\n",
              "    }\n",
              "    60% {\n",
              "      border-color: transparent;\n",
              "      border-right-color: var(--fill-color);\n",
              "    }\n",
              "    80% {\n",
              "      border-color: transparent;\n",
              "      border-right-color: var(--fill-color);\n",
              "      border-bottom-color: var(--fill-color);\n",
              "    }\n",
              "    90% {\n",
              "      border-color: transparent;\n",
              "      border-bottom-color: var(--fill-color);\n",
              "    }\n",
              "  }\n",
              "</style>\n",
              "\n",
              "  <script>\n",
              "    async function quickchart(key) {\n",
              "      const quickchartButtonEl =\n",
              "        document.querySelector('#' + key + ' button');\n",
              "      quickchartButtonEl.disabled = true;  // To prevent multiple clicks.\n",
              "      quickchartButtonEl.classList.add('colab-df-spinner');\n",
              "      try {\n",
              "        const charts = await google.colab.kernel.invokeFunction(\n",
              "            'suggestCharts', [key], {});\n",
              "      } catch (error) {\n",
              "        console.error('Error during call to suggestCharts:', error);\n",
              "      }\n",
              "      quickchartButtonEl.classList.remove('colab-df-spinner');\n",
              "      quickchartButtonEl.classList.add('colab-df-quickchart-complete');\n",
              "    }\n",
              "    (() => {\n",
              "      let quickchartButtonEl =\n",
              "        document.querySelector('#df-879151e3-4cc3-491c-b2b1-a7b93480281b button');\n",
              "      quickchartButtonEl.style.display =\n",
              "        google.colab.kernel.accessAllowed ? 'block' : 'none';\n",
              "    })();\n",
              "  </script>\n",
              "</div>\n",
              "    </div>\n",
              "  </div>\n"
            ]
          },
          "metadata": {},
          "execution_count": 3
        }
      ]
    },
    {
      "cell_type": "code",
      "source": [
        "df.isna().sum()"
      ],
      "metadata": {
        "colab": {
          "base_uri": "https://localhost:8080/",
          "height": 0
        },
        "id": "yueycmS61ns0",
        "outputId": "6011a589-d68a-458a-9512-c4044d4f5e50"
      },
      "execution_count": 5,
      "outputs": [
        {
          "output_type": "execute_result",
          "data": {
            "text/plain": [
              "Customer ID                 0\n",
              "Age                         0\n",
              "Gender                      0\n",
              "Item Purchased              0\n",
              "Category                    0\n",
              "Purchase Amount (USD)       0\n",
              "Location                    0\n",
              "Size                        0\n",
              "Color                       0\n",
              "Season                      0\n",
              "Review Rating               0\n",
              "Subscription Status         0\n",
              "Payment Method              0\n",
              "Shipping Type               0\n",
              "Discount Applied            0\n",
              "Promo Code Used             0\n",
              "Previous Purchases          0\n",
              "Preferred Payment Method    0\n",
              "Frequency of Purchases      0\n",
              "dtype: int64"
            ]
          },
          "metadata": {},
          "execution_count": 5
        }
      ]
    },
    {
      "cell_type": "code",
      "source": [
        "df.describe()"
      ],
      "metadata": {
        "colab": {
          "base_uri": "https://localhost:8080/",
          "height": 300
        },
        "id": "OriKNfSV2YKI",
        "outputId": "d637b99f-17f9-4bb6-9cb5-84f69d6133b2"
      },
      "execution_count": 6,
      "outputs": [
        {
          "output_type": "execute_result",
          "data": {
            "text/plain": [
              "       Customer ID          Age  Purchase Amount (USD)  Review Rating  \\\n",
              "count  3900.000000  3900.000000            3900.000000    3900.000000   \n",
              "mean   1950.500000    44.068462              59.764359       3.749949   \n",
              "std    1125.977353    15.207589              23.685392       0.716223   \n",
              "min       1.000000    18.000000              20.000000       2.500000   \n",
              "25%     975.750000    31.000000              39.000000       3.100000   \n",
              "50%    1950.500000    44.000000              60.000000       3.700000   \n",
              "75%    2925.250000    57.000000              81.000000       4.400000   \n",
              "max    3900.000000    70.000000             100.000000       5.000000   \n",
              "\n",
              "       Previous Purchases  \n",
              "count         3900.000000  \n",
              "mean            25.351538  \n",
              "std             14.447125  \n",
              "min              1.000000  \n",
              "25%             13.000000  \n",
              "50%             25.000000  \n",
              "75%             38.000000  \n",
              "max             50.000000  "
            ],
            "text/html": [
              "\n",
              "  <div id=\"df-f3362944-8214-4e90-a7cd-23f83a405537\" class=\"colab-df-container\">\n",
              "    <div>\n",
              "<style scoped>\n",
              "    .dataframe tbody tr th:only-of-type {\n",
              "        vertical-align: middle;\n",
              "    }\n",
              "\n",
              "    .dataframe tbody tr th {\n",
              "        vertical-align: top;\n",
              "    }\n",
              "\n",
              "    .dataframe thead th {\n",
              "        text-align: right;\n",
              "    }\n",
              "</style>\n",
              "<table border=\"1\" class=\"dataframe\">\n",
              "  <thead>\n",
              "    <tr style=\"text-align: right;\">\n",
              "      <th></th>\n",
              "      <th>Customer ID</th>\n",
              "      <th>Age</th>\n",
              "      <th>Purchase Amount (USD)</th>\n",
              "      <th>Review Rating</th>\n",
              "      <th>Previous Purchases</th>\n",
              "    </tr>\n",
              "  </thead>\n",
              "  <tbody>\n",
              "    <tr>\n",
              "      <th>count</th>\n",
              "      <td>3900.000000</td>\n",
              "      <td>3900.000000</td>\n",
              "      <td>3900.000000</td>\n",
              "      <td>3900.000000</td>\n",
              "      <td>3900.000000</td>\n",
              "    </tr>\n",
              "    <tr>\n",
              "      <th>mean</th>\n",
              "      <td>1950.500000</td>\n",
              "      <td>44.068462</td>\n",
              "      <td>59.764359</td>\n",
              "      <td>3.749949</td>\n",
              "      <td>25.351538</td>\n",
              "    </tr>\n",
              "    <tr>\n",
              "      <th>std</th>\n",
              "      <td>1125.977353</td>\n",
              "      <td>15.207589</td>\n",
              "      <td>23.685392</td>\n",
              "      <td>0.716223</td>\n",
              "      <td>14.447125</td>\n",
              "    </tr>\n",
              "    <tr>\n",
              "      <th>min</th>\n",
              "      <td>1.000000</td>\n",
              "      <td>18.000000</td>\n",
              "      <td>20.000000</td>\n",
              "      <td>2.500000</td>\n",
              "      <td>1.000000</td>\n",
              "    </tr>\n",
              "    <tr>\n",
              "      <th>25%</th>\n",
              "      <td>975.750000</td>\n",
              "      <td>31.000000</td>\n",
              "      <td>39.000000</td>\n",
              "      <td>3.100000</td>\n",
              "      <td>13.000000</td>\n",
              "    </tr>\n",
              "    <tr>\n",
              "      <th>50%</th>\n",
              "      <td>1950.500000</td>\n",
              "      <td>44.000000</td>\n",
              "      <td>60.000000</td>\n",
              "      <td>3.700000</td>\n",
              "      <td>25.000000</td>\n",
              "    </tr>\n",
              "    <tr>\n",
              "      <th>75%</th>\n",
              "      <td>2925.250000</td>\n",
              "      <td>57.000000</td>\n",
              "      <td>81.000000</td>\n",
              "      <td>4.400000</td>\n",
              "      <td>38.000000</td>\n",
              "    </tr>\n",
              "    <tr>\n",
              "      <th>max</th>\n",
              "      <td>3900.000000</td>\n",
              "      <td>70.000000</td>\n",
              "      <td>100.000000</td>\n",
              "      <td>5.000000</td>\n",
              "      <td>50.000000</td>\n",
              "    </tr>\n",
              "  </tbody>\n",
              "</table>\n",
              "</div>\n",
              "    <div class=\"colab-df-buttons\">\n",
              "\n",
              "  <div class=\"colab-df-container\">\n",
              "    <button class=\"colab-df-convert\" onclick=\"convertToInteractive('df-f3362944-8214-4e90-a7cd-23f83a405537')\"\n",
              "            title=\"Convert this dataframe to an interactive table.\"\n",
              "            style=\"display:none;\">\n",
              "\n",
              "  <svg xmlns=\"http://www.w3.org/2000/svg\" height=\"24px\" viewBox=\"0 -960 960 960\">\n",
              "    <path d=\"M120-120v-720h720v720H120Zm60-500h600v-160H180v160Zm220 220h160v-160H400v160Zm0 220h160v-160H400v160ZM180-400h160v-160H180v160Zm440 0h160v-160H620v160ZM180-180h160v-160H180v160Zm440 0h160v-160H620v160Z\"/>\n",
              "  </svg>\n",
              "    </button>\n",
              "\n",
              "  <style>\n",
              "    .colab-df-container {\n",
              "      display:flex;\n",
              "      gap: 12px;\n",
              "    }\n",
              "\n",
              "    .colab-df-convert {\n",
              "      background-color: #E8F0FE;\n",
              "      border: none;\n",
              "      border-radius: 50%;\n",
              "      cursor: pointer;\n",
              "      display: none;\n",
              "      fill: #1967D2;\n",
              "      height: 32px;\n",
              "      padding: 0 0 0 0;\n",
              "      width: 32px;\n",
              "    }\n",
              "\n",
              "    .colab-df-convert:hover {\n",
              "      background-color: #E2EBFA;\n",
              "      box-shadow: 0px 1px 2px rgba(60, 64, 67, 0.3), 0px 1px 3px 1px rgba(60, 64, 67, 0.15);\n",
              "      fill: #174EA6;\n",
              "    }\n",
              "\n",
              "    .colab-df-buttons div {\n",
              "      margin-bottom: 4px;\n",
              "    }\n",
              "\n",
              "    [theme=dark] .colab-df-convert {\n",
              "      background-color: #3B4455;\n",
              "      fill: #D2E3FC;\n",
              "    }\n",
              "\n",
              "    [theme=dark] .colab-df-convert:hover {\n",
              "      background-color: #434B5C;\n",
              "      box-shadow: 0px 1px 3px 1px rgba(0, 0, 0, 0.15);\n",
              "      filter: drop-shadow(0px 1px 2px rgba(0, 0, 0, 0.3));\n",
              "      fill: #FFFFFF;\n",
              "    }\n",
              "  </style>\n",
              "\n",
              "    <script>\n",
              "      const buttonEl =\n",
              "        document.querySelector('#df-f3362944-8214-4e90-a7cd-23f83a405537 button.colab-df-convert');\n",
              "      buttonEl.style.display =\n",
              "        google.colab.kernel.accessAllowed ? 'block' : 'none';\n",
              "\n",
              "      async function convertToInteractive(key) {\n",
              "        const element = document.querySelector('#df-f3362944-8214-4e90-a7cd-23f83a405537');\n",
              "        const dataTable =\n",
              "          await google.colab.kernel.invokeFunction('convertToInteractive',\n",
              "                                                    [key], {});\n",
              "        if (!dataTable) return;\n",
              "\n",
              "        const docLinkHtml = 'Like what you see? Visit the ' +\n",
              "          '<a target=\"_blank\" href=https://colab.research.google.com/notebooks/data_table.ipynb>data table notebook</a>'\n",
              "          + ' to learn more about interactive tables.';\n",
              "        element.innerHTML = '';\n",
              "        dataTable['output_type'] = 'display_data';\n",
              "        await google.colab.output.renderOutput(dataTable, element);\n",
              "        const docLink = document.createElement('div');\n",
              "        docLink.innerHTML = docLinkHtml;\n",
              "        element.appendChild(docLink);\n",
              "      }\n",
              "    </script>\n",
              "  </div>\n",
              "\n",
              "\n",
              "<div id=\"df-486703a7-872d-4d96-b7f7-d93a4559372a\">\n",
              "  <button class=\"colab-df-quickchart\" onclick=\"quickchart('df-486703a7-872d-4d96-b7f7-d93a4559372a')\"\n",
              "            title=\"Suggest charts\"\n",
              "            style=\"display:none;\">\n",
              "\n",
              "<svg xmlns=\"http://www.w3.org/2000/svg\" height=\"24px\"viewBox=\"0 0 24 24\"\n",
              "     width=\"24px\">\n",
              "    <g>\n",
              "        <path d=\"M19 3H5c-1.1 0-2 .9-2 2v14c0 1.1.9 2 2 2h14c1.1 0 2-.9 2-2V5c0-1.1-.9-2-2-2zM9 17H7v-7h2v7zm4 0h-2V7h2v10zm4 0h-2v-4h2v4z\"/>\n",
              "    </g>\n",
              "</svg>\n",
              "  </button>\n",
              "\n",
              "<style>\n",
              "  .colab-df-quickchart {\n",
              "      --bg-color: #E8F0FE;\n",
              "      --fill-color: #1967D2;\n",
              "      --hover-bg-color: #E2EBFA;\n",
              "      --hover-fill-color: #174EA6;\n",
              "      --disabled-fill-color: #AAA;\n",
              "      --disabled-bg-color: #DDD;\n",
              "  }\n",
              "\n",
              "  [theme=dark] .colab-df-quickchart {\n",
              "      --bg-color: #3B4455;\n",
              "      --fill-color: #D2E3FC;\n",
              "      --hover-bg-color: #434B5C;\n",
              "      --hover-fill-color: #FFFFFF;\n",
              "      --disabled-bg-color: #3B4455;\n",
              "      --disabled-fill-color: #666;\n",
              "  }\n",
              "\n",
              "  .colab-df-quickchart {\n",
              "    background-color: var(--bg-color);\n",
              "    border: none;\n",
              "    border-radius: 50%;\n",
              "    cursor: pointer;\n",
              "    display: none;\n",
              "    fill: var(--fill-color);\n",
              "    height: 32px;\n",
              "    padding: 0;\n",
              "    width: 32px;\n",
              "  }\n",
              "\n",
              "  .colab-df-quickchart:hover {\n",
              "    background-color: var(--hover-bg-color);\n",
              "    box-shadow: 0 1px 2px rgba(60, 64, 67, 0.3), 0 1px 3px 1px rgba(60, 64, 67, 0.15);\n",
              "    fill: var(--button-hover-fill-color);\n",
              "  }\n",
              "\n",
              "  .colab-df-quickchart-complete:disabled,\n",
              "  .colab-df-quickchart-complete:disabled:hover {\n",
              "    background-color: var(--disabled-bg-color);\n",
              "    fill: var(--disabled-fill-color);\n",
              "    box-shadow: none;\n",
              "  }\n",
              "\n",
              "  .colab-df-spinner {\n",
              "    border: 2px solid var(--fill-color);\n",
              "    border-color: transparent;\n",
              "    border-bottom-color: var(--fill-color);\n",
              "    animation:\n",
              "      spin 1s steps(1) infinite;\n",
              "  }\n",
              "\n",
              "  @keyframes spin {\n",
              "    0% {\n",
              "      border-color: transparent;\n",
              "      border-bottom-color: var(--fill-color);\n",
              "      border-left-color: var(--fill-color);\n",
              "    }\n",
              "    20% {\n",
              "      border-color: transparent;\n",
              "      border-left-color: var(--fill-color);\n",
              "      border-top-color: var(--fill-color);\n",
              "    }\n",
              "    30% {\n",
              "      border-color: transparent;\n",
              "      border-left-color: var(--fill-color);\n",
              "      border-top-color: var(--fill-color);\n",
              "      border-right-color: var(--fill-color);\n",
              "    }\n",
              "    40% {\n",
              "      border-color: transparent;\n",
              "      border-right-color: var(--fill-color);\n",
              "      border-top-color: var(--fill-color);\n",
              "    }\n",
              "    60% {\n",
              "      border-color: transparent;\n",
              "      border-right-color: var(--fill-color);\n",
              "    }\n",
              "    80% {\n",
              "      border-color: transparent;\n",
              "      border-right-color: var(--fill-color);\n",
              "      border-bottom-color: var(--fill-color);\n",
              "    }\n",
              "    90% {\n",
              "      border-color: transparent;\n",
              "      border-bottom-color: var(--fill-color);\n",
              "    }\n",
              "  }\n",
              "</style>\n",
              "\n",
              "  <script>\n",
              "    async function quickchart(key) {\n",
              "      const quickchartButtonEl =\n",
              "        document.querySelector('#' + key + ' button');\n",
              "      quickchartButtonEl.disabled = true;  // To prevent multiple clicks.\n",
              "      quickchartButtonEl.classList.add('colab-df-spinner');\n",
              "      try {\n",
              "        const charts = await google.colab.kernel.invokeFunction(\n",
              "            'suggestCharts', [key], {});\n",
              "      } catch (error) {\n",
              "        console.error('Error during call to suggestCharts:', error);\n",
              "      }\n",
              "      quickchartButtonEl.classList.remove('colab-df-spinner');\n",
              "      quickchartButtonEl.classList.add('colab-df-quickchart-complete');\n",
              "    }\n",
              "    (() => {\n",
              "      let quickchartButtonEl =\n",
              "        document.querySelector('#df-486703a7-872d-4d96-b7f7-d93a4559372a button');\n",
              "      quickchartButtonEl.style.display =\n",
              "        google.colab.kernel.accessAllowed ? 'block' : 'none';\n",
              "    })();\n",
              "  </script>\n",
              "</div>\n",
              "    </div>\n",
              "  </div>\n"
            ]
          },
          "metadata": {},
          "execution_count": 6
        }
      ]
    },
    {
      "cell_type": "code",
      "source": [
        "\n",
        "#from the second column (1) up to the second-to-last column (-1).\n",
        "x = df.iloc[:,2:3].values\n",
        "\n",
        "#This selects the values from all rows in the last column. This is typically target variable.\n",
        "y = df.iloc[:,-1].values\n"
      ],
      "metadata": {
        "id": "YTXUPIjQ4qKc"
      },
      "execution_count": 35,
      "outputs": []
    },
    {
      "cell_type": "code",
      "source": [
        "x"
      ],
      "metadata": {
        "colab": {
          "base_uri": "https://localhost:8080/",
          "height": 0
        },
        "id": "qEcHJVnH52rt",
        "outputId": "1a8f9927-b1b5-400e-af84-240c97e0f399"
      },
      "execution_count": 36,
      "outputs": [
        {
          "output_type": "execute_result",
          "data": {
            "text/plain": [
              "array([['Male'],\n",
              "       ['Male'],\n",
              "       ['Male'],\n",
              "       ...,\n",
              "       ['Female'],\n",
              "       ['Female'],\n",
              "       ['Female']], dtype=object)"
            ]
          },
          "metadata": {},
          "execution_count": 36
        }
      ]
    },
    {
      "cell_type": "code",
      "source": [
        "y"
      ],
      "metadata": {
        "colab": {
          "base_uri": "https://localhost:8080/",
          "height": 0
        },
        "id": "R4VvR_cV9trv",
        "outputId": "6004e72d-e021-4b7a-b2b9-3c5af58fe644"
      },
      "execution_count": 9,
      "outputs": [
        {
          "output_type": "execute_result",
          "data": {
            "text/plain": [
              "array(['Fortnightly', 'Fortnightly', 'Weekly', ..., 'Quarterly', 'Weekly',\n",
              "       'Quarterly'], dtype=object)"
            ]
          },
          "metadata": {},
          "execution_count": 9
        }
      ]
    },
    {
      "cell_type": "code",
      "source": [
        "#'LabelEncoder' from scikit-learn to encode target variable y\n",
        "from sklearn.preprocessing import LabelEncoder\n",
        "from sklearn import preprocessing\n",
        "\n",
        "#Creates an instance of the LabelEncoder class.\n",
        "le = preprocessing.LabelEncoder()\n",
        "\n",
        "# Fits the label encoder to the target variable y and transforms it.\n",
        "#This replaces the categorical labels with numerical values.\n",
        "x = le.fit_transform(x)\n",
        "y = le.fit_transform(y)"
      ],
      "metadata": {
        "id": "on8xVp3_96OF"
      },
      "execution_count": 42,
      "outputs": []
    },
    {
      "cell_type": "code",
      "source": [
        "x"
      ],
      "metadata": {
        "colab": {
          "base_uri": "https://localhost:8080/",
          "height": 0
        },
        "id": "NyMc4AgGDg9z",
        "outputId": "d88eb392-364f-4c6b-c020-2b8a565a5761"
      },
      "execution_count": 41,
      "outputs": [
        {
          "output_type": "execute_result",
          "data": {
            "text/plain": [
              "array([1, 1, 1, ..., 0, 0, 0])"
            ]
          },
          "metadata": {},
          "execution_count": 41
        }
      ]
    },
    {
      "cell_type": "code",
      "source": [
        "y"
      ],
      "metadata": {
        "colab": {
          "base_uri": "https://localhost:8080/",
          "height": 0
        },
        "id": "_fM7aVn4Dtn4",
        "outputId": "078f22e2-9062-46dc-f6e1-9cc5b0c9393c"
      },
      "execution_count": 39,
      "outputs": [
        {
          "output_type": "execute_result",
          "data": {
            "text/plain": [
              "array([3, 3, 6, ..., 5, 6, 5])"
            ]
          },
          "metadata": {},
          "execution_count": 39
        }
      ]
    },
    {
      "cell_type": "code",
      "source": [],
      "metadata": {
        "id": "YNXMYC5GUt69"
      },
      "execution_count": null,
      "outputs": []
    },
    {
      "cell_type": "code",
      "source": [
        "#scikit-learn to split data into training and testing sets.\n",
        "from sklearn.model_selection import train_test_split\n",
        "\n",
        "x_train, x_test, y_train, y_test = train_test_split(x,y,test_size=0.2, random_state = 0)"
      ],
      "metadata": {
        "id": "FeTj0u7FJiEZ"
      },
      "execution_count": 43,
      "outputs": []
    },
    {
      "cell_type": "code",
      "source": [
        "x_train"
      ],
      "metadata": {
        "colab": {
          "base_uri": "https://localhost:8080/",
          "height": 0
        },
        "id": "4n959Q91KBFO",
        "outputId": "3c586159-8dc1-4cea-cd50-d33be236f61d"
      },
      "execution_count": 44,
      "outputs": [
        {
          "output_type": "execute_result",
          "data": {
            "text/plain": [
              "array([1, 1, 1, ..., 1, 1, 0])"
            ]
          },
          "metadata": {},
          "execution_count": 44
        }
      ]
    },
    {
      "cell_type": "code",
      "source": [
        "x_test"
      ],
      "metadata": {
        "colab": {
          "base_uri": "https://localhost:8080/",
          "height": 0
        },
        "id": "4rKQ8criKwkI",
        "outputId": "e54f00e5-0989-4121-bb48-7226021c16a5"
      },
      "execution_count": 46,
      "outputs": [
        {
          "output_type": "execute_result",
          "data": {
            "text/plain": [
              "array([1, 1, 1, 0, 1, 1, 1, 0, 1, 1, 1, 1, 1, 0, 1, 0, 0, 0, 0, 1, 1, 0,\n",
              "       1, 1, 1, 0, 1, 0, 0, 1, 0, 1, 0, 1, 1, 1, 1, 0, 1, 1, 0, 0, 1, 0,\n",
              "       1, 0, 0, 1, 1, 0, 1, 0, 1, 1, 1, 1, 1, 0, 1, 1, 0, 1, 1, 0, 1, 1,\n",
              "       1, 0, 1, 1, 1, 1, 0, 1, 1, 0, 1, 1, 1, 0, 0, 1, 1, 1, 1, 1, 1, 1,\n",
              "       1, 0, 0, 1, 0, 1, 1, 1, 1, 1, 0, 1, 1, 1, 1, 0, 1, 0, 0, 0, 1, 0,\n",
              "       0, 0, 1, 1, 0, 1, 1, 1, 1, 1, 0, 0, 1, 1, 1, 1, 1, 1, 1, 0, 0, 1,\n",
              "       0, 1, 1, 0, 0, 1, 0, 0, 1, 1, 0, 1, 0, 0, 1, 1, 1, 1, 1, 1, 1, 0,\n",
              "       1, 1, 1, 0, 0, 0, 1, 0, 1, 1, 0, 1, 1, 0, 1, 1, 1, 1, 1, 1, 0, 1,\n",
              "       1, 1, 1, 0, 1, 1, 1, 1, 0, 0, 0, 1, 1, 1, 1, 0, 0, 0, 1, 0, 1, 0,\n",
              "       0, 1, 0, 1, 1, 1, 1, 1, 1, 0, 1, 1, 0, 1, 1, 1, 0, 1, 1, 0, 1, 1,\n",
              "       0, 1, 1, 1, 1, 1, 1, 0, 1, 1, 0, 1, 0, 1, 0, 1, 1, 1, 0, 1, 1, 1,\n",
              "       1, 1, 1, 0, 1, 1, 1, 0, 1, 1, 1, 0, 1, 1, 1, 1, 0, 1, 1, 1, 1, 1,\n",
              "       1, 0, 0, 0, 1, 0, 1, 1, 0, 0, 0, 0, 1, 0, 1, 0, 1, 1, 1, 1, 1, 1,\n",
              "       1, 0, 1, 0, 1, 1, 1, 1, 0, 0, 1, 1, 1, 0, 1, 1, 1, 1, 1, 1, 1, 1,\n",
              "       1, 1, 0, 1, 0, 1, 1, 0, 1, 1, 1, 1, 1, 1, 1, 0, 0, 1, 1, 0, 0, 1,\n",
              "       0, 1, 1, 1, 1, 1, 0, 0, 0, 0, 1, 1, 1, 1, 0, 1, 1, 1, 1, 0, 1, 1,\n",
              "       1, 1, 0, 0, 0, 1, 1, 1, 0, 0, 0, 0, 0, 1, 0, 1, 1, 1, 0, 0, 1, 1,\n",
              "       1, 1, 0, 0, 1, 1, 1, 0, 1, 0, 1, 1, 1, 0, 1, 0, 1, 1, 0, 1, 0, 1,\n",
              "       1, 1, 1, 1, 0, 0, 1, 1, 0, 1, 1, 0, 1, 1, 0, 1, 1, 1, 1, 1, 1, 1,\n",
              "       1, 1, 0, 1, 1, 1, 0, 1, 0, 1, 0, 1, 1, 0, 1, 0, 0, 1, 1, 0, 1, 1,\n",
              "       1, 1, 1, 1, 1, 1, 1, 1, 1, 1, 1, 1, 0, 1, 1, 0, 1, 1, 0, 1, 1, 1,\n",
              "       1, 1, 1, 1, 1, 1, 0, 0, 1, 0, 1, 1, 0, 1, 1, 1, 1, 0, 0, 0, 0, 1,\n",
              "       1, 1, 1, 1, 1, 0, 0, 0, 0, 1, 1, 1, 1, 1, 1, 0, 1, 0, 0, 0, 1, 1,\n",
              "       1, 1, 1, 1, 1, 0, 0, 1, 1, 0, 0, 1, 0, 1, 1, 0, 0, 0, 1, 0, 0, 0,\n",
              "       0, 0, 1, 1, 0, 1, 0, 1, 1, 1, 1, 1, 1, 1, 1, 1, 0, 1, 0, 1, 1, 1,\n",
              "       1, 1, 0, 1, 1, 1, 1, 1, 0, 0, 1, 1, 1, 1, 1, 1, 1, 1, 0, 1, 1, 0,\n",
              "       0, 0, 1, 0, 1, 1, 0, 1, 1, 0, 1, 0, 0, 1, 1, 1, 1, 1, 0, 1, 0, 1,\n",
              "       0, 0, 0, 0, 1, 1, 1, 1, 1, 1, 1, 1, 0, 0, 1, 1, 1, 1, 0, 1, 1, 1,\n",
              "       0, 0, 1, 1, 1, 1, 1, 0, 1, 1, 0, 1, 1, 1, 1, 1, 0, 0, 1, 1, 1, 1,\n",
              "       1, 0, 0, 1, 0, 1, 1, 0, 1, 0, 1, 1, 1, 1, 0, 1, 1, 1, 1, 0, 0, 1,\n",
              "       1, 0, 1, 1, 0, 0, 0, 0, 1, 1, 1, 1, 1, 0, 1, 0, 1, 1, 0, 0, 1, 1,\n",
              "       1, 1, 1, 1, 1, 0, 1, 0, 0, 1, 1, 1, 1, 1, 0, 1, 1, 0, 0, 1, 1, 1,\n",
              "       1, 0, 0, 1, 1, 1, 1, 1, 1, 1, 1, 0, 0, 1, 1, 1, 1, 1, 1, 1, 1, 0,\n",
              "       1, 1, 0, 0, 1, 1, 0, 0, 1, 1, 0, 1, 1, 0, 1, 1, 0, 1, 1, 0, 0, 0,\n",
              "       1, 1, 0, 1, 1, 0, 0, 1, 0, 1, 1, 1, 1, 1, 1, 1, 1, 0, 1, 1, 1, 1,\n",
              "       1, 1, 1, 0, 0, 1, 1, 0, 0, 0])"
            ]
          },
          "metadata": {},
          "execution_count": 46
        }
      ]
    },
    {
      "cell_type": "code",
      "source": [
        "y_train"
      ],
      "metadata": {
        "colab": {
          "base_uri": "https://localhost:8080/",
          "height": 0
        },
        "id": "D4rTyha4K0MC",
        "outputId": "32d4ae25-7fd4-4552-c74f-a5c947984df6"
      },
      "execution_count": 48,
      "outputs": [
        {
          "output_type": "execute_result",
          "data": {
            "text/plain": [
              "array([3, 5, 3, ..., 1, 2, 2])"
            ]
          },
          "metadata": {},
          "execution_count": 48
        }
      ]
    },
    {
      "cell_type": "code",
      "source": [
        "y_test"
      ],
      "metadata": {
        "colab": {
          "base_uri": "https://localhost:8080/",
          "height": 0
        },
        "id": "HzHcGb_NK9fB",
        "outputId": "71c97997-a5e4-44aa-ec7b-e5a750763982"
      },
      "execution_count": 49,
      "outputs": [
        {
          "output_type": "execute_result",
          "data": {
            "text/plain": [
              "array([1, 5, 4, 1, 2, 2, 2, 3, 5, 1, 6, 6, 2, 1, 0, 1, 5, 3, 1, 3, 5, 1,\n",
              "       0, 2, 5, 3, 0, 3, 6, 0, 3, 4, 5, 0, 2, 4, 4, 2, 0, 1, 0, 0, 6, 3,\n",
              "       0, 3, 5, 2, 6, 5, 3, 4, 0, 5, 5, 3, 6, 6, 0, 5, 5, 5, 0, 0, 3, 5,\n",
              "       1, 6, 6, 5, 4, 3, 2, 0, 1, 1, 1, 4, 3, 1, 6, 5, 3, 2, 4, 5, 3, 1,\n",
              "       5, 3, 5, 1, 4, 4, 5, 5, 3, 2, 6, 4, 6, 3, 0, 6, 6, 3, 6, 0, 0, 0,\n",
              "       4, 2, 4, 0, 4, 0, 0, 5, 3, 2, 5, 0, 4, 1, 6, 0, 3, 1, 1, 3, 2, 4,\n",
              "       2, 2, 2, 4, 2, 2, 2, 6, 2, 5, 4, 6, 3, 0, 3, 0, 2, 3, 2, 2, 5, 2,\n",
              "       4, 4, 6, 2, 0, 6, 6, 1, 4, 1, 2, 0, 1, 1, 3, 4, 2, 5, 2, 4, 3, 1,\n",
              "       1, 0, 1, 1, 4, 0, 5, 4, 0, 2, 1, 3, 1, 2, 6, 0, 5, 4, 2, 1, 0, 5,\n",
              "       5, 6, 3, 4, 5, 0, 5, 5, 3, 6, 2, 0, 1, 1, 0, 6, 3, 3, 0, 4, 5, 4,\n",
              "       0, 1, 3, 1, 3, 2, 1, 2, 1, 6, 3, 1, 4, 2, 4, 0, 1, 1, 3, 6, 2, 4,\n",
              "       4, 1, 5, 0, 3, 1, 6, 6, 1, 6, 4, 5, 0, 1, 1, 1, 4, 2, 4, 3, 5, 4,\n",
              "       2, 3, 1, 6, 5, 6, 4, 5, 0, 3, 5, 3, 1, 4, 1, 3, 0, 5, 3, 4, 5, 3,\n",
              "       6, 3, 1, 2, 2, 2, 5, 4, 4, 3, 1, 3, 2, 6, 2, 1, 4, 6, 2, 1, 2, 3,\n",
              "       6, 5, 6, 4, 1, 2, 6, 5, 2, 2, 2, 5, 1, 5, 2, 4, 2, 5, 0, 6, 6, 2,\n",
              "       4, 5, 6, 3, 5, 0, 3, 1, 2, 5, 1, 0, 4, 5, 3, 2, 3, 0, 2, 2, 5, 5,\n",
              "       1, 1, 6, 5, 3, 4, 4, 1, 6, 1, 0, 0, 4, 0, 4, 2, 2, 6, 2, 6, 2, 2,\n",
              "       0, 5, 4, 0, 3, 1, 5, 1, 6, 4, 1, 6, 0, 1, 1, 1, 4, 3, 5, 2, 1, 2,\n",
              "       4, 2, 2, 1, 2, 2, 4, 1, 1, 3, 2, 3, 0, 6, 2, 3, 5, 0, 1, 5, 6, 4,\n",
              "       0, 6, 5, 5, 2, 1, 4, 5, 5, 0, 4, 1, 2, 2, 5, 3, 4, 5, 2, 1, 0, 1,\n",
              "       6, 1, 4, 2, 3, 5, 3, 5, 0, 6, 1, 1, 5, 1, 4, 5, 1, 1, 5, 5, 3, 5,\n",
              "       2, 5, 6, 3, 3, 6, 0, 2, 3, 4, 1, 1, 0, 3, 5, 6, 2, 3, 0, 1, 4, 0,\n",
              "       5, 3, 6, 0, 3, 6, 5, 3, 4, 5, 6, 1, 1, 6, 0, 4, 5, 4, 4, 6, 6, 0,\n",
              "       4, 5, 6, 3, 2, 5, 2, 2, 0, 4, 0, 5, 4, 3, 4, 1, 1, 2, 5, 6, 1, 2,\n",
              "       0, 6, 0, 0, 4, 2, 4, 4, 6, 6, 2, 2, 2, 0, 2, 4, 6, 1, 5, 1, 1, 0,\n",
              "       2, 0, 3, 2, 2, 3, 4, 0, 4, 5, 0, 1, 6, 4, 4, 0, 6, 6, 2, 4, 4, 5,\n",
              "       0, 5, 2, 0, 3, 0, 0, 0, 0, 6, 5, 3, 5, 6, 4, 6, 6, 0, 2, 6, 4, 4,\n",
              "       6, 0, 0, 0, 2, 1, 3, 6, 5, 3, 6, 3, 0, 2, 0, 3, 5, 4, 5, 4, 1, 6,\n",
              "       1, 6, 1, 5, 6, 6, 3, 1, 2, 0, 1, 4, 5, 2, 3, 5, 5, 5, 2, 4, 5, 3,\n",
              "       5, 2, 2, 2, 6, 6, 4, 5, 3, 3, 4, 0, 6, 6, 6, 1, 4, 1, 4, 0, 3, 2,\n",
              "       4, 2, 4, 2, 1, 2, 5, 6, 5, 3, 5, 0, 6, 2, 3, 3, 4, 2, 2, 3, 4, 4,\n",
              "       0, 0, 0, 5, 0, 1, 2, 0, 1, 4, 6, 3, 3, 3, 1, 0, 2, 2, 4, 0, 1, 5,\n",
              "       1, 1, 3, 0, 0, 3, 2, 2, 4, 6, 6, 1, 1, 2, 2, 3, 4, 0, 0, 4, 2, 5,\n",
              "       4, 6, 4, 0, 3, 3, 4, 3, 4, 1, 5, 5, 4, 5, 2, 4, 6, 1, 2, 2, 6, 5,\n",
              "       6, 3, 0, 1, 3, 5, 5, 1, 5, 5, 0, 3, 5, 0, 4, 5, 6, 5, 3, 5, 4, 5,\n",
              "       5, 0, 1, 1, 6, 4, 5, 4, 4, 2])"
            ]
          },
          "metadata": {},
          "execution_count": 49
        }
      ]
    },
    {
      "cell_type": "markdown",
      "source": [
        "**Scatter Plot Visualization**"
      ],
      "metadata": {
        "id": "YaPf1Z0DuMIA"
      }
    },
    {
      "cell_type": "code",
      "source": [
        "# plt.scatter(x, y, color='red', cmap='jet' , marker='d')\n",
        "# plt.colorbar()\n",
        "# plt.title(\"Dhopping Trends\")\n",
        "# plt.xlabel(\"Gender\")\n",
        "# plt.ylabel(\"Frequency of Purchases\")\n",
        "# plt.grid(True)\n",
        "# alpha=0.5\n",
        "# plt.style.use(\"seaborn\")\n",
        "# plt.show()\n",
        "\n",
        "plt.figure(figsize=(8, 6))  # Set the figure size\n",
        "\n",
        "# You can choose different colors and markers for your scatter plot\n",
        "plt.scatter(x, y, c=np.arange(len(x)), cmap='viridis', s=50, alpha=0.5)\n",
        "\n",
        "# Add labels and title\n",
        "plt.xlabel('X-axis Label of Gender')\n",
        "plt.ylabel('Y-axis Label Purchases')\n",
        "plt.title('Scatter Plot of Customer Shopping Trends')\n",
        "\n",
        "# Add colorbar\n",
        "cbar = plt.colorbar()\n",
        "cbar.set_label('Data Index')\n",
        "\n",
        "# Show the plot\n",
        "plt.show()\n"
      ],
      "metadata": {
        "colab": {
          "base_uri": "https://localhost:8080/",
          "height": 562
        },
        "id": "1RMEp6OLLDm7",
        "outputId": "a9e4686a-3843-4c97-ee66-566e6aaffea5"
      },
      "execution_count": 179,
      "outputs": [
        {
          "output_type": "display_data",
          "data": {
            "text/plain": [
              "<Figure size 800x600 with 2 Axes>"
            ],
            "image/png": "[encoded data removed]"
          },
          "metadata": {}
        }
      ]
    },
    {
      "cell_type": "code",
      "source": [
        "# Create a 2D histogram\n",
        "plt.figure(figsize=(8, 6))  # Set the figure size\n",
        "\n",
        "plt.hist2d(x,y, bins=(20, 20), cmap='viridis')\n",
        "\n",
        "# Add labels and title\n",
        "plt.xlabel('X-axis Label of Gender')\n",
        "plt.ylabel('Y-axis Label of Purchases')\n",
        "plt.title('2D Histogram / Heatmap of Customer Shopping Trends')\n",
        "\n",
        "# Add colorbar\n",
        "cbar = plt.colorbar()\n",
        "cbar.set_label('Frequency')\n",
        "\n",
        "# Show the plot\n",
        "plt.show()\n",
        "\n",
        "\n"
      ],
      "metadata": {
        "colab": {
          "base_uri": "https://localhost:8080/",
          "height": 562
        },
        "id": "kSH43DhPMBXd",
        "outputId": "139919e6-302c-4dae-e362-8d1037c23786"
      },
      "execution_count": 182,
      "outputs": [
        {
          "output_type": "display_data",
          "data": {
            "text/plain": [
              "<Figure size 800x600 with 2 Axes>"
            ],
            "image/png": "[encoded data removed]"
          },
          "metadata": {}
        }
      ]
    },
    {
      "cell_type": "code",
      "source": [
        "# Create a 2D histogram using scatter and histogram argument\n",
        "fig = px.scatter(x,y, marginal_x='histogram', marginal_y='histogram',title='2D Histogram Visualization')\n",
        "\n",
        "# Customize axis labels\n",
        "fig.update_layout(\n",
        "    xaxis_title='X-axis',\n",
        "    yaxis_title='Y-axis'\n",
        ")\n",
        "# Show the plot\n",
        "fig.show()"
      ],
      "metadata": {
        "colab": {
          "base_uri": "https://localhost:8080/",
          "height": 542
        },
        "id": "OcMcHYEcSYj8",
        "outputId": "63169156-6652-4e36-dad5-0dfa94e910d4"
      },
      "execution_count": 96,
      "outputs": [
        {
          "output_type": "display_data",
          "data": {
            "text/html": [
              "<html>\n",
              "<head><meta charset=\"utf-8\" /></head>\n",
              "<body>\n",
              "    <div>            <script src=\"https://cdnjs.cloudflare.com/ajax/libs/mathjax/2.7.5/MathJax.js?config=TeX-AMS-MML_SVG\"></script><script type=\"text/javascript\">if (window.MathJax && window.MathJax.Hub && window.MathJax.Hub.Config) {window.MathJax.Hub.Config({SVG: {font: \"STIX-Web\"}});}</script>                <script type=\"text/javascript\">window.PlotlyConfig = {MathJaxConfig: 'local'};</script>\n",
              "        <script charset=\"utf-8\" src=\"https://cdn.plot.ly/plotly-2.24.1.min.js\"></script>                <div id=\"3dddc54d-6498-4033-ab14-138323094891\" class=\"plotly-graph-div\" style=\"height:525px; width:100%;\"></div>            <script type=\"text/javascript\">                                    window.PLOTLYENV=window.PLOTLYENV || {};                                    if (document.getElementById(\"3dddc54d-6498-4033-ab14-138323094891\")) {                    Plotly.newPlot(                        \"3dddc54d-6498-4033-ab14-138323094891\",                        [{\"hovertemplate\":\"x=%{x}\\u003cbr\\u003eindex=%{y}\\u003cextra\\u003e\\u003c\\u002fextra\\u003e\",\"legendgroup\":\"\",\"marker\":{\"color\":\"#636efa\",\"symbol\":\"circle\"},\"mode\":\"markers\",\"name\":\"\",\"showlegend\":false,\"x\":[3,3,6,6,0,6,5,6,0,5,1,3,3,6,6,4,1,5,6,1,2,5,0,6,6,0,0,2,2,6,4,4,0,5,5,1,3,6,2,4,5,0,0,3,6,0,5,6,4,1,1,5,6,6,1,0,6,3,4,6,6,2,3,6,3,2,2,4,2,6,2,0,2,1,4,0,4,3,3,2,2,2,2,6,2,1,1,3,4,5,4,2,2,6,6,4,2,0,0,5,3,1,5,1,4,0,4,3,1,3,3,0,1,5,6,2,0,3,1,0,0,3,3,6,0,2,2,6,3,1,3,6,6,0,4,5,5,6,6,0,6,6,3,5,4,5,3,3,0,4,2,0,0,0,5,5,0,3,4,2,4,3,1,6,3,4,4,2,3,2,1,6,1,0,0,0,5,4,5,3,3,6,0,6,3,3,0,1,1,6,5,2,1,0,5,4,3,4,3,6,4,0,0,6,1,6,3,1,4,2,3,3,0,2,2,1,6,0,5,3,3,5,3,0,2,0,4,3,0,2,0,2,1,2,6,5,3,3,0,1,3,1,2,4,6,3,1,6,6,0,6,0,3,1,1,0,2,5,5,0,2,0,0,4,0,1,6,0,4,1,0,3,1,5,1,6,3,1,0,4,1,1,4,0,5,1,0,3,1,4,6,4,5,0,2,5,6,1,2,3,6,2,2,6,1,0,0,2,1,3,3,4,0,2,2,0,4,2,0,2,5,5,4,1,5,0,6,6,6,4,1,5,4,1,0,2,0,0,6,2,2,1,2,4,4,0,6,3,3,1,3,1,2,4,6,2,6,1,2,2,3,0,3,3,2,5,3,4,4,5,6,4,6,1,4,5,1,2,4,1,6,2,5,5,0,1,5,3,5,4,0,3,0,3,1,0,0,0,2,4,3,5,4,0,4,0,4,1,3,4,5,0,6,4,6,4,3,5,1,2,1,1,0,1,3,5,5,5,3,3,0,3,6,3,2,4,6,0,3,4,3,0,5,0,0,0,4,2,3,4,4,3,3,6,1,3,5,2,4,3,6,6,2,6,4,5,6,2,5,1,2,5,5,2,5,0,3,6,0,4,1,3,0,6,5,3,2,5,6,0,4,1,6,1,6,3,3,6,4,4,2,0,3,5,0,1,0,3,5,6,0,0,4,0,5,4,1,2,2,5,5,0,5,5,0,4,4,2,0,4,1,6,2,6,5,6,2,0,6,6,2,1,1,4,2,0,1,6,2,1,6,1,6,5,6,0,3,6,2,4,0,3,0,5,6,6,3,3,4,2,0,6,0,1,1,4,2,0,3,0,6,2,5,4,4,2,0,2,5,0,3,1,2,2,4,5,0,3,2,2,4,3,2,2,2,6,4,4,2,3,2,4,5,1,1,0,2,5,1,2,2,6,3,1,0,6,0,4,4,0,0,3,3,5,6,5,2,3,4,0,3,2,1,2,6,1,1,3,6,2,0,3,6,3,0,4,5,5,6,6,5,5,1,4,1,0,5,5,4,1,1,6,5,1,0,0,1,0,2,3,0,2,1,4,4,3,3,5,4,2,6,1,2,2,2,2,4,5,6,6,4,2,6,6,0,5,6,0,3,4,3,1,5,1,3,5,1,2,0,1,6,2,1,4,2,3,2,2,2,2,3,3,1,1,2,1,2,0,5,1,3,2,5,6,1,4,0,6,5,5,0,4,2,5,5,6,3,5,2,3,0,6,3,4,5,5,4,0,6,4,0,3,1,1,5,4,2,6,0,0,5,3,6,3,2,3,2,6,5,1,5,3,6,4,3,0,0,6,2,0,2,3,6,2,5,4,5,6,2,1,1,5,6,0,4,1,4,3,4,5,4,1,0,5,5,4,6,3,1,3,0,2,1,0,6,6,1,2,0,2,6,3,6,6,1,4,5,4,1,5,4,4,2,4,4,5,3,2,6,4,4,2,3,3,0,0,1,3,2,6,1,5,5,5,2,2,6,2,6,5,4,0,2,4,6,2,4,3,0,6,4,2,4,4,5,5,3,6,2,0,5,4,4,5,2,0,1,1,2,6,4,5,4,2,2,3,4,5,3,1,6,6,4,6,5,4,1,1,2,3,1,3,1,4,4,3,6,5,3,4,2,2,1,3,1,2,5,2,2,4,5,4,4,5,2,4,5,5,1,3,5,5,3,6,1,0,0,6,5,4,4,6,6,5,4,6,2,1,6,4,2,5,4,1,1,0,4,6,3,4,6,1,6,6,4,6,5,3,1,4,1,3,1,1,0,1,5,0,0,0,3,3,0,1,3,6,2,0,6,1,0,6,0,2,5,0,1,4,3,1,5,5,5,5,6,0,4,5,6,4,3,3,6,3,2,1,0,3,3,5,4,0,3,1,5,0,3,6,2,4,2,2,2,4,2,2,1,5,6,2,6,4,3,4,3,1,1,5,3,4,2,0,5,6,5,3,1,4,6,1,3,3,5,2,5,5,0,6,6,3,6,3,3,1,5,2,3,6,3,6,1,1,5,1,2,6,3,4,2,6,4,5,0,4,5,6,3,4,4,3,1,4,3,6,2,5,4,2,3,1,2,3,1,5,3,2,2,0,3,0,1,6,2,5,1,5,2,5,0,2,1,4,6,4,5,2,3,5,3,0,1,0,1,1,1,5,5,4,0,0,4,5,5,6,0,4,0,2,6,0,6,5,5,3,3,4,1,0,0,6,6,3,2,0,2,3,2,2,0,4,5,2,6,2,2,2,2,2,2,1,5,5,0,6,6,6,1,1,0,0,4,3,2,2,1,2,2,5,3,2,0,6,5,0,4,6,4,1,0,3,4,4,5,0,1,3,3,2,2,4,5,3,4,1,1,6,2,6,1,5,0,0,4,2,5,4,6,5,3,0,2,1,4,2,3,3,3,4,1,6,0,3,0,0,2,6,1,0,3,1,2,6,4,0,2,2,0,0,2,5,2,0,4,1,0,5,1,4,1,6,0,2,5,2,3,4,4,6,6,2,1,1,5,5,4,6,3,1,3,2,2,5,4,4,0,6,1,4,3,1,2,5,1,2,5,1,0,5,2,3,0,4,6,5,2,3,3,5,6,3,2,4,1,5,5,0,0,4,6,1,3,5,5,4,6,1,5,4,5,3,6,0,2,3,6,1,4,0,6,0,2,6,4,1,6,4,4,0,6,3,0,5,0,5,1,2,5,3,2,5,2,3,1,2,2,0,2,0,5,2,3,5,5,6,1,6,3,0,4,3,4,2,0,4,5,0,5,4,2,2,5,5,5,3,0,2,2,3,6,3,1,5,5,4,5,1,0,3,3,2,2,2,6,2,4,4,4,2,1,6,5,5,6,1,2,3,2,0,6,5,1,5,5,5,3,6,1,2,3,2,4,2,3,5,4,4,5,0,2,0,0,6,1,4,6,6,1,5,3,6,5,6,4,0,1,3,4,3,1,1,5,1,2,5,3,4,5,0,1,2,4,1,6,0,1,0,0,5,6,2,5,4,4,5,1,5,5,5,2,3,6,5,1,6,2,0,1,4,4,6,2,3,4,6,1,3,4,3,5,4,0,5,4,0,5,3,6,3,4,6,0,0,2,4,3,3,4,5,1,1,6,4,3,1,2,1,3,5,1,4,0,4,4,3,1,1,5,3,5,1,2,3,2,0,2,1,1,0,4,5,2,3,2,1,2,0,3,3,6,0,6,2,3,4,4,2,2,5,4,5,3,4,3,1,5,4,2,1,6,0,4,5,3,1,6,4,0,2,3,5,6,6,5,1,3,0,6,6,3,1,0,1,1,5,6,1,0,0,3,4,0,0,1,3,3,3,1,2,5,0,4,2,6,0,2,1,3,1,5,0,5,4,3,5,4,1,2,1,2,5,1,4,3,0,6,5,6,4,2,3,6,4,2,0,5,0,5,1,6,6,2,4,2,6,6,6,3,5,0,2,2,0,5,3,3,4,6,0,1,6,6,6,3,0,5,5,1,3,2,4,6,0,0,0,6,1,2,3,1,6,6,5,3,4,5,4,4,5,1,5,1,0,2,2,3,3,6,6,6,6,6,3,1,3,6,6,0,3,4,3,1,0,1,6,5,2,6,6,2,5,4,5,0,1,4,6,0,6,2,5,0,2,4,3,3,5,4,4,5,0,2,2,0,4,0,5,5,6,2,4,6,3,6,3,0,0,1,4,0,3,4,4,3,4,5,4,3,5,3,2,3,2,4,6,6,5,5,0,4,1,4,1,5,3,1,4,1,4,6,6,6,5,6,3,1,4,4,3,4,6,5,5,4,6,4,3,3,2,1,4,5,1,1,0,3,6,1,1,4,1,2,0,4,0,5,3,0,2,6,5,6,2,2,0,0,3,2,4,1,2,3,5,4,0,2,2,5,4,1,5,2,1,1,3,5,4,3,1,5,2,0,5,3,6,4,5,3,0,6,3,1,4,2,2,3,5,3,0,5,3,3,5,4,5,3,3,5,5,6,1,0,2,4,6,6,5,2,1,5,4,1,3,2,5,1,3,0,5,2,1,1,4,3,5,1,3,3,2,6,3,5,5,1,1,6,3,2,2,1,5,4,4,0,0,4,6,6,1,3,1,5,1,4,6,3,5,2,0,5,0,0,4,0,3,0,6,4,2,5,6,5,0,5,4,4,1,3,3,4,5,4,5,6,2,3,4,1,0,6,5,1,1,2,3,5,6,2,6,0,2,4,5,6,0,0,3,0,6,5,0,3,1,4,6,6,1,2,5,5,2,2,0,3,2,0,1,1,0,5,1,5,4,6,1,5,5,4,6,6,2,0,3,6,0,3,2,3,2,5,6,3,0,5,1,5,0,2,3,1,6,6,4,1,0,2,4,1,3,3,0,0,3,6,4,1,2,1,3,5,1,2,3,3,5,0,3,5,1,0,4,5,1,1,4,2,2,2,0,6,1,0,1,4,4,5,4,6,4,4,4,2,0,6,5,4,6,3,0,4,5,3,2,5,5,6,3,1,3,5,3,0,0,6,5,5,0,0,3,6,4,3,6,3,4,6,0,3,2,6,2,2,1,1,0,0,3,2,0,3,6,6,4,0,4,2,5,5,0,2,0,5,3,4,5,4,5,6,6,4,0,6,5,4,1,3,6,6,5,2,5,3,0,0,3,0,2,5,0,6,6,5,5,4,2,0,5,2,5,2,2,4,0,4,3,3,6,1,0,5,5,4,2,2,3,2,5,0,4,0,4,2,3,3,4,0,6,0,1,1,0,2,1,4,2,4,3,6,0,5,5,3,2,3,4,1,2,3,2,2,2,0,1,5,2,4,4,5,1,5,2,2,2,4,1,5,4,3,1,2,4,6,0,3,2,4,5,6,0,1,4,3,0,6,0,5,6,4,4,0,2,3,5,0,2,3,1,6,4,3,4,1,1,6,6,1,5,6,1,2,2,4,2,1,6,1,6,2,3,2,2,0,2,6,2,1,5,2,5,0,3,5,2,4,1,4,1,5,6,6,0,0,4,1,1,1,6,4,3,1,3,5,4,2,0,0,2,4,5,6,6,0,6,1,1,1,6,0,0,6,0,3,0,0,5,5,4,4,6,2,2,3,6,2,4,2,0,3,1,4,5,2,4,1,2,0,2,6,0,3,5,1,1,2,1,1,5,0,2,1,5,6,5,4,0,1,4,5,0,0,5,2,2,6,0,5,6,1,2,4,4,6,2,6,1,6,3,2,3,1,1,5,2,0,1,5,0,5,6,4,2,3,0,0,2,1,6,5,3,3,2,1,5,3,2,6,5,5,3,3,1,3,3,5,0,3,0,5,4,5,6,5,4,2,6,1,6,2,2,1,0,0,5,5,2,2,1,4,1,0,4,1,4,5,0,6,3,1,2,3,1,5,3,5,4,3,5,0,0,4,6,0,0,0,0,0,6,2,5,1,0,5,6,0,3,2,3,0,0,0,5,1,2,0,4,2,1,2,0,1,3,2,5,4,2,0,3,3,3,4,3,0,0,3,0,6,6,3,3,5,6,1,2,0,4,2,1,3,2,1,5,0,4,2,3,1,5,3,1,2,5,6,4,2,5,2,1,4,5,5,0,6,3,3,6,6,1,5,6,6,1,3,4,5,0,1,3,6,2,1,4,5,3,3,2,3,0,1,3,6,4,0,5,2,0,1,1,0,2,2,2,3,4,0,5,4,1,2,2,0,0,2,4,1,5,1,0,4,4,1,2,1,2,2,5,6,5,4,4,1,6,5,3,2,5,5,6,0,2,1,3,3,6,0,5,2,4,2,3,0,1,0,3,6,1,3,0,0,2,6,2,1,0,3,4,2,5,0,3,2,5,3,5,2,5,4,2,6,6,0,4,1,4,5,1,5,0,0,1,5,6,2,6,5,4,6,0,1,6,6,4,0,6,5,6,0,2,1,2,5,1,0,4,6,6,4,5,4,4,4,0,6,4,2,4,6,3,0,3,2,6,2,1,0,4,0,6,3,4,0,0,5,0,1,6,2,1,6,1,5,0,4,4,4,2,0,4,2,3,0,3,1,5,1,2,4,3,0,1,2,2,4,5,1,2,1,1,1,0,6,4,1,3,5,5,2,2,6,1,6,3,4,1,5,4,5,6,6,6,4,6,4,4,6,4,2,2,5,0,1,0,2,6,4,0,0,0,4,0,4,5,6,1,2,6,3,3,2,0,2,2,1,2,2,3,6,2,3,0,3,6,4,0,6,5,1,1,4,4,4,6,4,1,6,1,5,1,2,2,5,4,6,5,5,2,3,6,1,6,6,3,0,2,0,4,2,1,5,1,1,0,2,5,6,5,2,4,0,5,2,5,6,4,5,6,5,1,3,0,0,1,3,4,2,4,5,1,2,1,3,1,2,2,3,4,4,1,1,6,3,5,4,2,4,3,5,1,2,6,6,5,1,4,5,1,3,2,1,1,1,0,1,6,0,5,4,2,2,4,5,1,5,0,1,2,6,3,4,5,5,1,6,3,1,6,3,4,0,1,4,3,1,5,0,6,1,1,6,1,5,2,3,6,3,1,2,5,1,2,0,2,2,2,5,1,6,3,1,4,2,6,6,1,5,5,5,3,0,6,6,0,1,5,4,3,5,0,4,3,4,5,3,4,5,4,0,2,3,1,3,6,3,1,1,3,4,2,4,4,0,1,6,2,0,2,5,0,0,6,4,1,3,2,3,3,1,5,3,2,6,4,4,4,0,0,1,2,4,0,6,0,1,4,6,4,0,2,6,6,4,6,4,0,5,1,4,6,3,5,0,4,0,0,4,1,5,4,4,6,5,4,4,5,6,2,0,6,4,3,5,5,6,5,3,3,2,4,2,2,1,2,0,6,2,3,1,3,6,5,2,4,0,6,5,2,3,6,2,4,6,3,4,0,4,2,0,6,3,6,1,2,4,4,3,3,1,6,5,4,2,4,1,3,1,3,2,1,3,4,4,4,3,0,5,4,5,2,3,5,4,2,2,0,6,4,6,4,0,5,1,1,5,5,1,4,0,5,0,1,4,3,3,4,6,1,0,1,5,1,2,5,1,3,1,2,6,1,1,4,0,4,2,1,3,1,4,2,5,3,2,4,3,0,2,2,0,0,5,3,5,6,2,5,6,1,5,2,5,1,6,0,0,2,1,4,0,2,5,1,3,0,3,6,2,1,0,1,5,5,0,2,1,6,5,1,5,0,2,3,0,1,1,6,4,1,4,1,0,0,4,6,2,0,2,0,3,1,4,0,4,5,6,0,6,1,1,0,6,1,3,4,4,0,3,1,1,0,4,3,5,0,1,5,2,3,0,6,0,0,5,0,1,1,6,6,4,5,6,1,5,4,4,1,6,2,1,3,6,0,5,2,5,4,0,6,5,6,4,2,1,2,3,6,5,6,4,2,3,2,6,1,4,2,5,3,4,1,1,2,5,3,4,6,5,3,4,0,2,6,0,6,6,5,0,3,6,4,4,2,4,1,6,0,6,2,2,0,1,0,3,3,6,6,5,6,3,5,1,2,5,2,0,3,6,2,0,4,4,4,5,3,0,2,4,4,5,1,1,6,5,2,1,6,0,2,4,1,1,0,0,2,2,5,3,4,5,0,3,5,1,6,1,4,5,6,0,2,0,1,2,4,3,0,2,0,0,4,3,4,1,6,3,3,0,6,1,6,5,2,4,3,6,4,5,1,0,3,6,3,1,0,4,2,0,0,6,2,3,6,1,3,0,2,4,3,0,1,4,2,3,0,3,3,6,6,3,5,2,4,0,5,2,5,4,3,3,4,4,0,3,1,5,4,1,3,1,1,1,2,4,5,1,6,3,6,1,3,0,6,0,6,2,0,6,2,5,0,1,6,4,5,3,0,5,2,6,4,2,2,1,2,5,0,3,4,0,0,2,1,0,5,1,5,0,2,2,0,2,1,3,6,1,1,1,5,3,4,4,1,0,2,4,2,6,3,2,4,1,6,5,5,6,2,0,2,4,1,0,3,5,0,6,1,0,5,3,5,3,6,0,0,5,3,3,3,0,4,6,2,4,2,6,6,3,0,6,6,5,5,0,4,1,3,4,6,0,5,6,0,1,0,4,4,2,1,2,3,3,0,4,5,5,2,2,6,5,3,0,3,6,3,2,2,6,2,5,1,3,3,2,5,3,4,4,2,5,0,2,3,2,3,2,0,6,1,0,5,5,2,5,1,0,4,4,3,3,2,3,4,0,0,2,2,4,6,1,0,0,4,0,5,4,6,3,3,6,5,5,5,1,0,0,5,3,1,2,6,1,5,6,5],\"xaxis\":\"x\",\"y\":[0,1,2,3,4,5,6,7,8,9,10,11,12,13,14,15,16,17,18,19,20,21,22,23,24,25,26,27,28,29,30,31,32,33,34,35,36,37,38,39,40,41,42,43,44,45,46,47,48,49,50,51,52,53,54,55,56,57,58,59,60,61,62,63,64,65,66,67,68,69,70,71,72,73,74,75,76,77,78,79,80,81,82,83,84,85,86,87,88,89,90,91,92,93,94,95,96,97,98,99,100,101,102,103,104,105,106,107,108,109,110,111,112,113,114,115,116,117,118,119,120,121,122,123,124,125,126,127,128,129,130,131,132,133,134,135,136,137,138,139,140,141,142,143,144,145,146,147,148,149,150,151,152,153,154,155,156,157,158,159,160,161,162,163,164,165,166,167,168,169,170,171,172,173,174,175,176,177,178,179,180,181,182,183,184,185,186,187,188,189,190,191,192,193,194,195,196,197,198,199,200,201,202,203,204,205,206,207,208,209,210,211,212,213,214,215,216,217,218,219,220,221,222,223,224,225,226,227,228,229,230,231,232,233,234,235,236,237,238,239,240,241,242,243,244,245,246,247,248,249,250,251,252,253,254,255,256,257,258,259,260,261,262,263,264,265,266,267,268,269,270,271,272,273,274,275,276,277,278,279,280,281,282,283,284,285,286,287,288,289,290,291,292,293,294,295,296,297,298,299,300,301,302,303,304,305,306,307,308,309,310,311,312,313,314,315,316,317,318,319,320,321,322,323,324,325,326,327,328,329,330,331,332,333,334,335,336,337,338,339,340,341,342,343,344,345,346,347,348,349,350,351,352,353,354,355,356,357,358,359,360,361,362,363,364,365,366,367,368,369,370,371,372,373,374,375,376,377,378,379,380,381,382,383,384,385,386,387,388,389,390,391,392,393,394,395,396,397,398,399,400,401,402,403,404,405,406,407,408,409,410,411,412,413,414,415,416,417,418,419,420,421,422,423,424,425,426,427,428,429,430,431,432,433,434,435,436,437,438,439,440,441,442,443,444,445,446,447,448,449,450,451,452,453,454,455,456,457,458,459,460,461,462,463,464,465,466,467,468,469,470,471,472,473,474,475,476,477,478,479,480,481,482,483,484,485,486,487,488,489,490,491,492,493,494,495,496,497,498,499,500,501,502,503,504,505,506,507,508,509,510,511,512,513,514,515,516,517,518,519,520,521,522,523,524,525,526,527,528,529,530,531,532,533,534,535,536,537,538,539,540,541,542,543,544,545,546,547,548,549,550,551,552,553,554,555,556,557,558,559,560,561,562,563,564,565,566,567,568,569,570,571,572,573,574,575,576,577,578,579,580,581,582,583,584,585,586,587,588,589,590,591,592,593,594,595,596,597,598,599,600,601,602,603,604,605,606,607,608,609,610,611,612,613,614,615,616,617,618,619,620,621,622,623,624,625,626,627,628,629,630,631,632,633,634,635,636,637,638,639,640,641,642,643,644,645,646,647,648,649,650,651,652,653,654,655,656,657,658,659,660,661,662,663,664,665,666,667,668,669,670,671,672,673,674,675,676,677,678,679,680,681,682,683,684,685,686,687,688,689,690,691,692,693,694,695,696,697,698,699,700,701,702,703,704,705,706,707,708,709,710,711,712,713,714,715,716,717,718,719,720,721,722,723,724,725,726,727,728,729,730,731,732,733,734,735,736,737,738,739,740,741,742,743,744,745,746,747,748,749,750,751,752,753,754,755,756,757,758,759,760,761,762,763,764,765,766,767,768,769,770,771,772,773,774,775,776,777,778,779,780,781,782,783,784,785,786,787,788,789,790,791,792,793,794,795,796,797,798,799,800,801,802,803,804,805,806,807,808,809,810,811,812,813,814,815,816,817,818,819,820,821,822,823,824,825,826,827,828,829,830,831,832,833,834,835,836,837,838,839,840,841,842,843,844,845,846,847,848,849,850,851,852,853,854,855,856,857,858,859,860,861,862,863,864,865,866,867,868,869,870,871,872,873,874,875,876,877,878,879,880,881,882,883,884,885,886,887,888,889,890,891,892,893,894,895,896,897,898,899,900,901,902,903,904,905,906,907,908,909,910,911,912,913,914,915,916,917,918,919,920,921,922,923,924,925,926,927,928,929,930,931,932,933,934,935,936,937,938,939,940,941,942,943,944,945,946,947,948,949,950,951,952,953,954,955,956,957,958,959,960,961,962,963,964,965,966,967,968,969,970,971,972,973,974,975,976,977,978,979,980,981,982,983,984,985,986,987,988,989,990,991,992,993,994,995,996,997,998,999,1000,1001,1002,1003,1004,1005,1006,1007,1008,1009,1010,1011,1012,1013,1014,1015,1016,1017,1018,1019,1020,1021,1022,1023,1024,1025,1026,1027,1028,1029,1030,1031,1032,1033,1034,1035,1036,1037,1038,1039,1040,1041,1042,1043,1044,1045,1046,1047,1048,1049,1050,1051,1052,1053,1054,1055,1056,1057,1058,1059,1060,1061,1062,1063,1064,1065,1066,1067,1068,1069,1070,1071,1072,1073,1074,1075,1076,1077,1078,1079,1080,1081,1082,1083,1084,1085,1086,1087,1088,1089,1090,1091,1092,1093,1094,1095,1096,1097,1098,1099,1100,1101,1102,1103,1104,1105,1106,1107,1108,1109,1110,1111,1112,1113,1114,1115,1116,1117,1118,1119,1120,1121,1122,1123,1124,1125,1126,1127,1128,1129,1130,1131,1132,1133,1134,1135,1136,1137,1138,1139,1140,1141,1142,1143,1144,1145,1146,1147,1148,1149,1150,1151,1152,1153,1154,1155,1156,1157,1158,1159,1160,1161,1162,1163,1164,1165,1166,1167,1168,1169,1170,1171,1172,1173,1174,1175,1176,1177,1178,1179,1180,1181,1182,1183,1184,1185,1186,1187,1188,1189,1190,1191,1192,1193,1194,1195,1196,1197,1198,1199,1200,1201,1202,1203,1204,1205,1206,1207,1208,1209,1210,1211,1212,1213,1214,1215,1216,1217,1218,1219,1220,1221,1222,1223,1224,1225,1226,1227,1228,1229,1230,1231,1232,1233,1234,1235,1236,1237,1238,1239,1240,1241,1242,1243,1244,1245,1246,1247,1248,1249,1250,1251,1252,1253,1254,1255,1256,1257,1258,1259,1260,1261,1262,1263,1264,1265,1266,1267,1268,1269,1270,1271,1272,1273,1274,1275,1276,1277,1278,1279,1280,1281,1282,1283,1284,1285,1286,1287,1288,1289,1290,1291,1292,1293,1294,1295,1296,1297,1298,1299,1300,1301,1302,1303,1304,1305,1306,1307,1308,1309,1310,1311,1312,1313,1314,1315,1316,1317,1318,1319,1320,1321,1322,1323,1324,1325,1326,1327,1328,1329,1330,1331,1332,1333,1334,1335,1336,1337,1338,1339,1340,1341,1342,1343,1344,1345,1346,1347,1348,1349,1350,1351,1352,1353,1354,1355,1356,1357,1358,1359,1360,1361,1362,1363,1364,1365,1366,1367,1368,1369,1370,1371,1372,1373,1374,1375,1376,1377,1378,1379,1380,1381,1382,1383,1384,1385,1386,1387,1388,1389,1390,1391,1392,1393,1394,1395,1396,1397,1398,1399,1400,1401,1402,1403,1404,1405,1406,1407,1408,1409,1410,1411,1412,1413,1414,1415,1416,1417,1418,1419,1420,1421,1422,1423,1424,1425,1426,1427,1428,1429,1430,1431,1432,1433,1434,1435,1436,1437,1438,1439,1440,1441,1442,1443,1444,1445,1446,1447,1448,1449,1450,1451,1452,1453,1454,1455,1456,1457,1458,1459,1460,1461,1462,1463,1464,1465,1466,1467,1468,1469,1470,1471,1472,1473,1474,1475,1476,1477,1478,1479,1480,1481,1482,1483,1484,1485,1486,1487,1488,1489,1490,1491,1492,1493,1494,1495,1496,1497,1498,1499,1500,1501,1502,1503,1504,1505,1506,1507,1508,1509,1510,1511,1512,1513,1514,1515,1516,1517,1518,1519,1520,1521,1522,1523,1524,1525,1526,1527,1528,1529,1530,1531,1532,1533,1534,1535,1536,1537,1538,1539,1540,1541,1542,1543,1544,1545,1546,1547,1548,1549,1550,1551,1552,1553,1554,1555,1556,1557,1558,1559,1560,1561,1562,1563,1564,1565,1566,1567,1568,1569,1570,1571,1572,1573,1574,1575,1576,1577,1578,1579,1580,1581,1582,1583,1584,1585,1586,1587,1588,1589,1590,1591,1592,1593,1594,1595,1596,1597,1598,1599,1600,1601,1602,1603,1604,1605,1606,1607,1608,1609,1610,1611,1612,1613,1614,1615,1616,1617,1618,1619,1620,1621,1622,1623,1624,1625,1626,1627,1628,1629,1630,1631,1632,1633,1634,1635,1636,1637,1638,1639,1640,1641,1642,1643,1644,1645,1646,1647,1648,1649,1650,1651,1652,1653,1654,1655,1656,1657,1658,1659,1660,1661,1662,1663,1664,1665,1666,1667,1668,1669,1670,1671,1672,1673,1674,1675,1676,1677,1678,1679,1680,1681,1682,1683,1684,1685,1686,1687,1688,1689,1690,1691,1692,1693,1694,1695,1696,1697,1698,1699,1700,1701,1702,1703,1704,1705,1706,1707,1708,1709,1710,1711,1712,1713,1714,1715,1716,1717,1718,1719,1720,1721,1722,1723,1724,1725,1726,1727,1728,1729,1730,1731,1732,1733,1734,1735,1736,1737,1738,1739,1740,1741,1742,1743,1744,1745,1746,1747,1748,1749,1750,1751,1752,1753,1754,1755,1756,1757,1758,1759,1760,1761,1762,1763,1764,1765,1766,1767,1768,1769,1770,1771,1772,1773,1774,1775,1776,1777,1778,1779,1780,1781,1782,1783,1784,1785,1786,1787,1788,1789,1790,1791,1792,1793,1794,1795,1796,1797,1798,1799,1800,1801,1802,1803,1804,1805,1806,1807,1808,1809,1810,1811,1812,1813,1814,1815,1816,1817,1818,1819,1820,1821,1822,1823,1824,1825,1826,1827,1828,1829,1830,1831,1832,1833,1834,1835,1836,1837,1838,1839,1840,1841,1842,1843,1844,1845,1846,1847,1848,1849,1850,1851,1852,1853,1854,1855,1856,1857,1858,1859,1860,1861,1862,1863,1864,1865,1866,1867,1868,1869,1870,1871,1872,1873,1874,1875,1876,1877,1878,1879,1880,1881,1882,1883,1884,1885,1886,1887,1888,1889,1890,1891,1892,1893,1894,1895,1896,1897,1898,1899,1900,1901,1902,1903,1904,1905,1906,1907,1908,1909,1910,1911,1912,1913,1914,1915,1916,1917,1918,1919,1920,1921,1922,1923,1924,1925,1926,1927,1928,1929,1930,1931,1932,1933,1934,1935,1936,1937,1938,1939,1940,1941,1942,1943,1944,1945,1946,1947,1948,1949,1950,1951,1952,1953,1954,1955,1956,1957,1958,1959,1960,1961,1962,1963,1964,1965,1966,1967,1968,1969,1970,1971,1972,1973,1974,1975,1976,1977,1978,1979,1980,1981,1982,1983,1984,1985,1986,1987,1988,1989,1990,1991,1992,1993,1994,1995,1996,1997,1998,1999,2000,2001,2002,2003,2004,2005,2006,2007,2008,2009,2010,2011,2012,2013,2014,2015,2016,2017,2018,2019,2020,2021,2022,2023,2024,2025,2026,2027,2028,2029,2030,2031,2032,2033,2034,2035,2036,2037,2038,2039,2040,2041,2042,2043,2044,2045,2046,2047,2048,2049,2050,2051,2052,2053,2054,2055,2056,2057,2058,2059,2060,2061,2062,2063,2064,2065,2066,2067,2068,2069,2070,2071,2072,2073,2074,2075,2076,2077,2078,2079,2080,2081,2082,2083,2084,2085,2086,2087,2088,2089,2090,2091,2092,2093,2094,2095,2096,2097,2098,2099,2100,2101,2102,2103,2104,2105,2106,2107,2108,2109,2110,2111,2112,2113,2114,2115,2116,2117,2118,2119,2120,2121,2122,2123,2124,2125,2126,2127,2128,2129,2130,2131,2132,2133,2134,2135,2136,2137,2138,2139,2140,2141,2142,2143,2144,2145,2146,2147,2148,2149,2150,2151,2152,2153,2154,2155,2156,2157,2158,2159,2160,2161,2162,2163,2164,2165,2166,2167,2168,2169,2170,2171,2172,2173,2174,2175,2176,2177,2178,2179,2180,2181,2182,2183,2184,2185,2186,2187,2188,2189,2190,2191,2192,2193,2194,2195,2196,2197,2198,2199,2200,2201,2202,2203,2204,2205,2206,2207,2208,2209,2210,2211,2212,2213,2214,2215,2216,2217,2218,2219,2220,2221,2222,2223,2224,2225,2226,2227,2228,2229,2230,2231,2232,2233,2234,2235,2236,2237,2238,2239,2240,2241,2242,2243,2244,2245,2246,2247,2248,2249,2250,2251,2252,2253,2254,2255,2256,2257,2258,2259,2260,2261,2262,2263,2264,2265,2266,2267,2268,2269,2270,2271,2272,2273,2274,2275,2276,2277,2278,2279,2280,2281,2282,2283,2284,2285,2286,2287,2288,2289,2290,2291,2292,2293,2294,2295,2296,2297,2298,2299,2300,2301,2302,2303,2304,2305,2306,2307,2308,2309,2310,2311,2312,2313,2314,2315,2316,2317,2318,2319,2320,2321,2322,2323,2324,2325,2326,2327,2328,2329,2330,2331,2332,2333,2334,2335,2336,2337,2338,2339,2340,2341,2342,2343,2344,2345,2346,2347,2348,2349,2350,2351,2352,2353,2354,2355,2356,2357,2358,2359,2360,2361,2362,2363,2364,2365,2366,2367,2368,2369,2370,2371,2372,2373,2374,2375,2376,2377,2378,2379,2380,2381,2382,2383,2384,2385,2386,2387,2388,2389,2390,2391,2392,2393,2394,2395,2396,2397,2398,2399,2400,2401,2402,2403,2404,2405,2406,2407,2408,2409,2410,2411,2412,2413,2414,2415,2416,2417,2418,2419,2420,2421,2422,2423,2424,2425,2426,2427,2428,2429,2430,2431,2432,2433,2434,2435,2436,2437,2438,2439,2440,2441,2442,2443,2444,2445,2446,2447,2448,2449,2450,2451,2452,2453,2454,2455,2456,2457,2458,2459,2460,2461,2462,2463,2464,2465,2466,2467,2468,2469,2470,2471,2472,2473,2474,2475,2476,2477,2478,2479,2480,2481,2482,2483,2484,2485,2486,2487,2488,2489,2490,2491,2492,2493,2494,2495,2496,2497,2498,2499,2500,2501,2502,2503,2504,2505,2506,2507,2508,2509,2510,2511,2512,2513,2514,2515,2516,2517,2518,2519,2520,2521,2522,2523,2524,2525,2526,2527,2528,2529,2530,2531,2532,2533,2534,2535,2536,2537,2538,2539,2540,2541,2542,2543,2544,2545,2546,2547,2548,2549,2550,2551,2552,2553,2554,2555,2556,2557,2558,2559,2560,2561,2562,2563,2564,2565,2566,2567,2568,2569,2570,2571,2572,2573,2574,2575,2576,2577,2578,2579,2580,2581,2582,2583,2584,2585,2586,2587,2588,2589,2590,2591,2592,2593,2594,2595,2596,2597,2598,2599,2600,2601,2602,2603,2604,2605,2606,2607,2608,2609,2610,2611,2612,2613,2614,2615,2616,2617,2618,2619,2620,2621,2622,2623,2624,2625,2626,2627,2628,2629,2630,2631,2632,2633,2634,2635,2636,2637,2638,2639,2640,2641,2642,2643,2644,2645,2646,2647,2648,2649,2650,2651,2652,2653,2654,2655,2656,2657,2658,2659,2660,2661,2662,2663,2664,2665,2666,2667,2668,2669,2670,2671,2672,2673,2674,2675,2676,2677,2678,2679,2680,2681,2682,2683,2684,2685,2686,2687,2688,2689,2690,2691,2692,2693,2694,2695,2696,2697,2698,2699,2700,2701,2702,2703,2704,2705,2706,2707,2708,2709,2710,2711,2712,2713,2714,2715,2716,2717,2718,2719,2720,2721,2722,2723,2724,2725,2726,2727,2728,2729,2730,2731,2732,2733,2734,2735,2736,2737,2738,2739,2740,2741,2742,2743,2744,2745,2746,2747,2748,2749,2750,2751,2752,2753,2754,2755,2756,2757,2758,2759,2760,2761,2762,2763,2764,2765,2766,2767,2768,2769,2770,2771,2772,2773,2774,2775,2776,2777,2778,2779,2780,2781,2782,2783,2784,2785,2786,2787,2788,2789,2790,2791,2792,2793,2794,2795,2796,2797,2798,2799,2800,2801,2802,2803,2804,2805,2806,2807,2808,2809,2810,2811,2812,2813,2814,2815,2816,2817,2818,2819,2820,2821,2822,2823,2824,2825,2826,2827,2828,2829,2830,2831,2832,2833,2834,2835,2836,2837,2838,2839,2840,2841,2842,2843,2844,2845,2846,2847,2848,2849,2850,2851,2852,2853,2854,2855,2856,2857,2858,2859,2860,2861,2862,2863,2864,2865,2866,2867,2868,2869,2870,2871,2872,2873,2874,2875,2876,2877,2878,2879,2880,2881,2882,2883,2884,2885,2886,2887,2888,2889,2890,2891,2892,2893,2894,2895,2896,2897,2898,2899,2900,2901,2902,2903,2904,2905,2906,2907,2908,2909,2910,2911,2912,2913,2914,2915,2916,2917,2918,2919,2920,2921,2922,2923,2924,2925,2926,2927,2928,2929,2930,2931,2932,2933,2934,2935,2936,2937,2938,2939,2940,2941,2942,2943,2944,2945,2946,2947,2948,2949,2950,2951,2952,2953,2954,2955,2956,2957,2958,2959,2960,2961,2962,2963,2964,2965,2966,2967,2968,2969,2970,2971,2972,2973,2974,2975,2976,2977,2978,2979,2980,2981,2982,2983,2984,2985,2986,2987,2988,2989,2990,2991,2992,2993,2994,2995,2996,2997,2998,2999,3000,3001,3002,3003,3004,3005,3006,3007,3008,3009,3010,3011,3012,3013,3014,3015,3016,3017,3018,3019,3020,3021,3022,3023,3024,3025,3026,3027,3028,3029,3030,3031,3032,3033,3034,3035,3036,3037,3038,3039,3040,3041,3042,3043,3044,3045,3046,3047,3048,3049,3050,3051,3052,3053,3054,3055,3056,3057,3058,3059,3060,3061,3062,3063,3064,3065,3066,3067,3068,3069,3070,3071,3072,3073,3074,3075,3076,3077,3078,3079,3080,3081,3082,3083,3084,3085,3086,3087,3088,3089,3090,3091,3092,3093,3094,3095,3096,3097,3098,3099,3100,3101,3102,3103,3104,3105,3106,3107,3108,3109,3110,3111,3112,3113,3114,3115,3116,3117,3118,3119,3120,3121,3122,3123,3124,3125,3126,3127,3128,3129,3130,3131,3132,3133,3134,3135,3136,3137,3138,3139,3140,3141,3142,3143,3144,3145,3146,3147,3148,3149,3150,3151,3152,3153,3154,3155,3156,3157,3158,3159,3160,3161,3162,3163,3164,3165,3166,3167,3168,3169,3170,3171,3172,3173,3174,3175,3176,3177,3178,3179,3180,3181,3182,3183,3184,3185,3186,3187,3188,3189,3190,3191,3192,3193,3194,3195,3196,3197,3198,3199,3200,3201,3202,3203,3204,3205,3206,3207,3208,3209,3210,3211,3212,3213,3214,3215,3216,3217,3218,3219,3220,3221,3222,3223,3224,3225,3226,3227,3228,3229,3230,3231,3232,3233,3234,3235,3236,3237,3238,3239,3240,3241,3242,3243,3244,3245,3246,3247,3248,3249,3250,3251,3252,3253,3254,3255,3256,3257,3258,3259,3260,3261,3262,3263,3264,3265,3266,3267,3268,3269,3270,3271,3272,3273,3274,3275,3276,3277,3278,3279,3280,3281,3282,3283,3284,3285,3286,3287,3288,3289,3290,3291,3292,3293,3294,3295,3296,3297,3298,3299,3300,3301,3302,3303,3304,3305,3306,3307,3308,3309,3310,3311,3312,3313,3314,3315,3316,3317,3318,3319,3320,3321,3322,3323,3324,3325,3326,3327,3328,3329,3330,3331,3332,3333,3334,3335,3336,3337,3338,3339,3340,3341,3342,3343,3344,3345,3346,3347,3348,3349,3350,3351,3352,3353,3354,3355,3356,3357,3358,3359,3360,3361,3362,3363,3364,3365,3366,3367,3368,3369,3370,3371,3372,3373,3374,3375,3376,3377,3378,3379,3380,3381,3382,3383,3384,3385,3386,3387,3388,3389,3390,3391,3392,3393,3394,3395,3396,3397,3398,3399,3400,3401,3402,3403,3404,3405,3406,3407,3408,3409,3410,3411,3412,3413,3414,3415,3416,3417,3418,3419,3420,3421,3422,3423,3424,3425,3426,3427,3428,3429,3430,3431,3432,3433,3434,3435,3436,3437,3438,3439,3440,3441,3442,3443,3444,3445,3446,3447,3448,3449,3450,3451,3452,3453,3454,3455,3456,3457,3458,3459,3460,3461,3462,3463,3464,3465,3466,3467,3468,3469,3470,3471,3472,3473,3474,3475,3476,3477,3478,3479,3480,3481,3482,3483,3484,3485,3486,3487,3488,3489,3490,3491,3492,3493,3494,3495,3496,3497,3498,3499,3500,3501,3502,3503,3504,3505,3506,3507,3508,3509,3510,3511,3512,3513,3514,3515,3516,3517,3518,3519,3520,3521,3522,3523,3524,3525,3526,3527,3528,3529,3530,3531,3532,3533,3534,3535,3536,3537,3538,3539,3540,3541,3542,3543,3544,3545,3546,3547,3548,3549,3550,3551,3552,3553,3554,3555,3556,3557,3558,3559,3560,3561,3562,3563,3564,3565,3566,3567,3568,3569,3570,3571,3572,3573,3574,3575,3576,3577,3578,3579,3580,3581,3582,3583,3584,3585,3586,3587,3588,3589,3590,3591,3592,3593,3594,3595,3596,3597,3598,3599,3600,3601,3602,3603,3604,3605,3606,3607,3608,3609,3610,3611,3612,3613,3614,3615,3616,3617,3618,3619,3620,3621,3622,3623,3624,3625,3626,3627,3628,3629,3630,3631,3632,3633,3634,3635,3636,3637,3638,3639,3640,3641,3642,3643,3644,3645,3646,3647,3648,3649,3650,3651,3652,3653,3654,3655,3656,3657,3658,3659,3660,3661,3662,3663,3664,3665,3666,3667,3668,3669,3670,3671,3672,3673,3674,3675,3676,3677,3678,3679,3680,3681,3682,3683,3684,3685,3686,3687,3688,3689,3690,3691,3692,3693,3694,3695,3696,3697,3698,3699,3700,3701,3702,3703,3704,3705,3706,3707,3708,3709,3710,3711,3712,3713,3714,3715,3716,3717,3718,3719,3720,3721,3722,3723,3724,3725,3726,3727,3728,3729,3730,3731,3732,3733,3734,3735,3736,3737,3738,3739,3740,3741,3742,3743,3744,3745,3746,3747,3748,3749,3750,3751,3752,3753,3754,3755,3756,3757,3758,3759,3760,3761,3762,3763,3764,3765,3766,3767,3768,3769,3770,3771,3772,3773,3774,3775,3776,3777,3778,3779,3780,3781,3782,3783,3784,3785,3786,3787,3788,3789,3790,3791,3792,3793,3794,3795,3796,3797,3798,3799,3800,3801,3802,3803,3804,3805,3806,3807,3808,3809,3810,3811,3812,3813,3814,3815,3816,3817,3818,3819,3820,3821,3822,3823,3824,3825,3826,3827,3828,3829,3830,3831,3832,3833,3834,3835,3836,3837,3838,3839,3840,3841,3842,3843,3844,3845,3846,3847,3848,3849,3850,3851,3852,3853,3854,3855,3856,3857,3858,3859,3860,3861,3862,3863,3864,3865,3866,3867,3868,3869,3870,3871,3872,3873,3874,3875,3876,3877,3878,3879,3880,3881,3882,3883,3884,3885,3886,3887,3888,3889,3890,3891,3892,3893,3894,3895,3896,3897,3898,3899],\"yaxis\":\"y\",\"type\":\"scattergl\"},{\"alignmentgroup\":\"True\",\"bingroup\":\"x\",\"hovertemplate\":\"x=%{x}\\u003cbr\\u003ecount=%{y}\\u003cextra\\u003e\\u003c\\u002fextra\\u003e\",\"legendgroup\":\"\",\"marker\":{\"color\":\"#636efa\"},\"name\":\"\",\"offsetgroup\":\"\",\"opacity\":0.5,\"showlegend\":false,\"x\":[3,3,6,6,0,6,5,6,0,5,1,3,3,6,6,4,1,5,6,1,2,5,0,6,6,0,0,2,2,6,4,4,0,5,5,1,3,6,2,4,5,0,0,3,6,0,5,6,4,1,1,5,6,6,1,0,6,3,4,6,6,2,3,6,3,2,2,4,2,6,2,0,2,1,4,0,4,3,3,2,2,2,2,6,2,1,1,3,4,5,4,2,2,6,6,4,2,0,0,5,3,1,5,1,4,0,4,3,1,3,3,0,1,5,6,2,0,3,1,0,0,3,3,6,0,2,2,6,3,1,3,6,6,0,4,5,5,6,6,0,6,6,3,5,4,5,3,3,0,4,2,0,0,0,5,5,0,3,4,2,4,3,1,6,3,4,4,2,3,2,1,6,1,0,0,0,5,4,5,3,3,6,0,6,3,3,0,1,1,6,5,2,1,0,5,4,3,4,3,6,4,0,0,6,1,6,3,1,4,2,3,3,0,2,2,1,6,0,5,3,3,5,3,0,2,0,4,3,0,2,0,2,1,2,6,5,3,3,0,1,3,1,2,4,6,3,1,6,6,0,6,0,3,1,1,0,2,5,5,0,2,0,0,4,0,1,6,0,4,1,0,3,1,5,1,6,3,1,0,4,1,1,4,0,5,1,0,3,1,4,6,4,5,0,2,5,6,1,2,3,6,2,2,6,1,0,0,2,1,3,3,4,0,2,2,0,4,2,0,2,5,5,4,1,5,0,6,6,6,4,1,5,4,1,0,2,0,0,6,2,2,1,2,4,4,0,6,3,3,1,3,1,2,4,6,2,6,1,2,2,3,0,3,3,2,5,3,4,4,5,6,4,6,1,4,5,1,2,4,1,6,2,5,5,0,1,5,3,5,4,0,3,0,3,1,0,0,0,2,4,3,5,4,0,4,0,4,1,3,4,5,0,6,4,6,4,3,5,1,2,1,1,0,1,3,5,5,5,3,3,0,3,6,3,2,4,6,0,3,4,3,0,5,0,0,0,4,2,3,4,4,3,3,6,1,3,5,2,4,3,6,6,2,6,4,5,6,2,5,1,2,5,5,2,5,0,3,6,0,4,1,3,0,6,5,3,2,5,6,0,4,1,6,1,6,3,3,6,4,4,2,0,3,5,0,1,0,3,5,6,0,0,4,0,5,4,1,2,2,5,5,0,5,5,0,4,4,2,0,4,1,6,2,6,5,6,2,0,6,6,2,1,1,4,2,0,1,6,2,1,6,1,6,5,6,0,3,6,2,4,0,3,0,5,6,6,3,3,4,2,0,6,0,1,1,4,2,0,3,0,6,2,5,4,4,2,0,2,5,0,3,1,2,2,4,5,0,3,2,2,4,3,2,2,2,6,4,4,2,3,2,4,5,1,1,0,2,5,1,2,2,6,3,1,0,6,0,4,4,0,0,3,3,5,6,5,2,3,4,0,3,2,1,2,6,1,1,3,6,2,0,3,6,3,0,4,5,5,6,6,5,5,1,4,1,0,5,5,4,1,1,6,5,1,0,0,1,0,2,3,0,2,1,4,4,3,3,5,4,2,6,1,2,2,2,2,4,5,6,6,4,2,6,6,0,5,6,0,3,4,3,1,5,1,3,5,1,2,0,1,6,2,1,4,2,3,2,2,2,2,3,3,1,1,2,1,2,0,5,1,3,2,5,6,1,4,0,6,5,5,0,4,2,5,5,6,3,5,2,3,0,6,3,4,5,5,4,0,6,4,0,3,1,1,5,4,2,6,0,0,5,3,6,3,2,3,2,6,5,1,5,3,6,4,3,0,0,6,2,0,2,3,6,2,5,4,5,6,2,1,1,5,6,0,4,1,4,3,4,5,4,1,0,5,5,4,6,3,1,3,0,2,1,0,6,6,1,2,0,2,6,3,6,6,1,4,5,4,1,5,4,4,2,4,4,5,3,2,6,4,4,2,3,3,0,0,1,3,2,6,1,5,5,5,2,2,6,2,6,5,4,0,2,4,6,2,4,3,0,6,4,2,4,4,5,5,3,6,2,0,5,4,4,5,2,0,1,1,2,6,4,5,4,2,2,3,4,5,3,1,6,6,4,6,5,4,1,1,2,3,1,3,1,4,4,3,6,5,3,4,2,2,1,3,1,2,5,2,2,4,5,4,4,5,2,4,5,5,1,3,5,5,3,6,1,0,0,6,5,4,4,6,6,5,4,6,2,1,6,4,2,5,4,1,1,0,4,6,3,4,6,1,6,6,4,6,5,3,1,4,1,3,1,1,0,1,5,0,0,0,3,3,0,1,3,6,2,0,6,1,0,6,0,2,5,0,1,4,3,1,5,5,5,5,6,0,4,5,6,4,3,3,6,3,2,1,0,3,3,5,4,0,3,1,5,0,3,6,2,4,2,2,2,4,2,2,1,5,6,2,6,4,3,4,3,1,1,5,3,4,2,0,5,6,5,3,1,4,6,1,3,3,5,2,5,5,0,6,6,3,6,3,3,1,5,2,3,6,3,6,1,1,5,1,2,6,3,4,2,6,4,5,0,4,5,6,3,4,4,3,1,4,3,6,2,5,4,2,3,1,2,3,1,5,3,2,2,0,3,0,1,6,2,5,1,5,2,5,0,2,1,4,6,4,5,2,3,5,3,0,1,0,1,1,1,5,5,4,0,0,4,5,5,6,0,4,0,2,6,0,6,5,5,3,3,4,1,0,0,6,6,3,2,0,2,3,2,2,0,4,5,2,6,2,2,2,2,2,2,1,5,5,0,6,6,6,1,1,0,0,4,3,2,2,1,2,2,5,3,2,0,6,5,0,4,6,4,1,0,3,4,4,5,0,1,3,3,2,2,4,5,3,4,1,1,6,2,6,1,5,0,0,4,2,5,4,6,5,3,0,2,1,4,2,3,3,3,4,1,6,0,3,0,0,2,6,1,0,3,1,2,6,4,0,2,2,0,0,2,5,2,0,4,1,0,5,1,4,1,6,0,2,5,2,3,4,4,6,6,2,1,1,5,5,4,6,3,1,3,2,2,5,4,4,0,6,1,4,3,1,2,5,1,2,5,1,0,5,2,3,0,4,6,5,2,3,3,5,6,3,2,4,1,5,5,0,0,4,6,1,3,5,5,4,6,1,5,4,5,3,6,0,2,3,6,1,4,0,6,0,2,6,4,1,6,4,4,0,6,3,0,5,0,5,1,2,5,3,2,5,2,3,1,2,2,0,2,0,5,2,3,5,5,6,1,6,3,0,4,3,4,2,0,4,5,0,5,4,2,2,5,5,5,3,0,2,2,3,6,3,1,5,5,4,5,1,0,3,3,2,2,2,6,2,4,4,4,2,1,6,5,5,6,1,2,3,2,0,6,5,1,5,5,5,3,6,1,2,3,2,4,2,3,5,4,4,5,0,2,0,0,6,1,4,6,6,1,5,3,6,5,6,4,0,1,3,4,3,1,1,5,1,2,5,3,4,5,0,1,2,4,1,6,0,1,0,0,5,6,2,5,4,4,5,1,5,5,5,2,3,6,5,1,6,2,0,1,4,4,6,2,3,4,6,1,3,4,3,5,4,0,5,4,0,5,3,6,3,4,6,0,0,2,4,3,3,4,5,1,1,6,4,3,1,2,1,3,5,1,4,0,4,4,3,1,1,5,3,5,1,2,3,2,0,2,1,1,0,4,5,2,3,2,1,2,0,3,3,6,0,6,2,3,4,4,2,2,5,4,5,3,4,3,1,5,4,2,1,6,0,4,5,3,1,6,4,0,2,3,5,6,6,5,1,3,0,6,6,3,1,0,1,1,5,6,1,0,0,3,4,0,0,1,3,3,3,1,2,5,0,4,2,6,0,2,1,3,1,5,0,5,4,3,5,4,1,2,1,2,5,1,4,3,0,6,5,6,4,2,3,6,4,2,0,5,0,5,1,6,6,2,4,2,6,6,6,3,5,0,2,2,0,5,3,3,4,6,0,1,6,6,6,3,0,5,5,1,3,2,4,6,0,0,0,6,1,2,3,1,6,6,5,3,4,5,4,4,5,1,5,1,0,2,2,3,3,6,6,6,6,6,3,1,3,6,6,0,3,4,3,1,0,1,6,5,2,6,6,2,5,4,5,0,1,4,6,0,6,2,5,0,2,4,3,3,5,4,4,5,0,2,2,0,4,0,5,5,6,2,4,6,3,6,3,0,0,1,4,0,3,4,4,3,4,5,4,3,5,3,2,3,2,4,6,6,5,5,0,4,1,4,1,5,3,1,4,1,4,6,6,6,5,6,3,1,4,4,3,4,6,5,5,4,6,4,3,3,2,1,4,5,1,1,0,3,6,1,1,4,1,2,0,4,0,5,3,0,2,6,5,6,2,2,0,0,3,2,4,1,2,3,5,4,0,2,2,5,4,1,5,2,1,1,3,5,4,3,1,5,2,0,5,3,6,4,5,3,0,6,3,1,4,2,2,3,5,3,0,5,3,3,5,4,5,3,3,5,5,6,1,0,2,4,6,6,5,2,1,5,4,1,3,2,5,1,3,0,5,2,1,1,4,3,5,1,3,3,2,6,3,5,5,1,1,6,3,2,2,1,5,4,4,0,0,4,6,6,1,3,1,5,1,4,6,3,5,2,0,5,0,0,4,0,3,0,6,4,2,5,6,5,0,5,4,4,1,3,3,4,5,4,5,6,2,3,4,1,0,6,5,1,1,2,3,5,6,2,6,0,2,4,5,6,0,0,3,0,6,5,0,3,1,4,6,6,1,2,5,5,2,2,0,3,2,0,1,1,0,5,1,5,4,6,1,5,5,4,6,6,2,0,3,6,0,3,2,3,2,5,6,3,0,5,1,5,0,2,3,1,6,6,4,1,0,2,4,1,3,3,0,0,3,6,4,1,2,1,3,5,1,2,3,3,5,0,3,5,1,0,4,5,1,1,4,2,2,2,0,6,1,0,1,4,4,5,4,6,4,4,4,2,0,6,5,4,6,3,0,4,5,3,2,5,5,6,3,1,3,5,3,0,0,6,5,5,0,0,3,6,4,3,6,3,4,6,0,3,2,6,2,2,1,1,0,0,3,2,0,3,6,6,4,0,4,2,5,5,0,2,0,5,3,4,5,4,5,6,6,4,0,6,5,4,1,3,6,6,5,2,5,3,0,0,3,0,2,5,0,6,6,5,5,4,2,0,5,2,5,2,2,4,0,4,3,3,6,1,0,5,5,4,2,2,3,2,5,0,4,0,4,2,3,3,4,0,6,0,1,1,0,2,1,4,2,4,3,6,0,5,5,3,2,3,4,1,2,3,2,2,2,0,1,5,2,4,4,5,1,5,2,2,2,4,1,5,4,3,1,2,4,6,0,3,2,4,5,6,0,1,4,3,0,6,0,5,6,4,4,0,2,3,5,0,2,3,1,6,4,3,4,1,1,6,6,1,5,6,1,2,2,4,2,1,6,1,6,2,3,2,2,0,2,6,2,1,5,2,5,0,3,5,2,4,1,4,1,5,6,6,0,0,4,1,1,1,6,4,3,1,3,5,4,2,0,0,2,4,5,6,6,0,6,1,1,1,6,0,0,6,0,3,0,0,5,5,4,4,6,2,2,3,6,2,4,2,0,3,1,4,5,2,4,1,2,0,2,6,0,3,5,1,1,2,1,1,5,0,2,1,5,6,5,4,0,1,4,5,0,0,5,2,2,6,0,5,6,1,2,4,4,6,2,6,1,6,3,2,3,1,1,5,2,0,1,5,0,5,6,4,2,3,0,0,2,1,6,5,3,3,2,1,5,3,2,6,5,5,3,3,1,3,3,5,0,3,0,5,4,5,6,5,4,2,6,1,6,2,2,1,0,0,5,5,2,2,1,4,1,0,4,1,4,5,0,6,3,1,2,3,1,5,3,5,4,3,5,0,0,4,6,0,0,0,0,0,6,2,5,1,0,5,6,0,3,2,3,0,0,0,5,1,2,0,4,2,1,2,0,1,3,2,5,4,2,0,3,3,3,4,3,0,0,3,0,6,6,3,3,5,6,1,2,0,4,2,1,3,2,1,5,0,4,2,3,1,5,3,1,2,5,6,4,2,5,2,1,4,5,5,0,6,3,3,6,6,1,5,6,6,1,3,4,5,0,1,3,6,2,1,4,5,3,3,2,3,0,1,3,6,4,0,5,2,0,1,1,0,2,2,2,3,4,0,5,4,1,2,2,0,0,2,4,1,5,1,0,4,4,1,2,1,2,2,5,6,5,4,4,1,6,5,3,2,5,5,6,0,2,1,3,3,6,0,5,2,4,2,3,0,1,0,3,6,1,3,0,0,2,6,2,1,0,3,4,2,5,0,3,2,5,3,5,2,5,4,2,6,6,0,4,1,4,5,1,5,0,0,1,5,6,2,6,5,4,6,0,1,6,6,4,0,6,5,6,0,2,1,2,5,1,0,4,6,6,4,5,4,4,4,0,6,4,2,4,6,3,0,3,2,6,2,1,0,4,0,6,3,4,0,0,5,0,1,6,2,1,6,1,5,0,4,4,4,2,0,4,2,3,0,3,1,5,1,2,4,3,0,1,2,2,4,5,1,2,1,1,1,0,6,4,1,3,5,5,2,2,6,1,6,3,4,1,5,4,5,6,6,6,4,6,4,4,6,4,2,2,5,0,1,0,2,6,4,0,0,0,4,0,4,5,6,1,2,6,3,3,2,0,2,2,1,2,2,3,6,2,3,0,3,6,4,0,6,5,1,1,4,4,4,6,4,1,6,1,5,1,2,2,5,4,6,5,5,2,3,6,1,6,6,3,0,2,0,4,2,1,5,1,1,0,2,5,6,5,2,4,0,5,2,5,6,4,5,6,5,1,3,0,0,1,3,4,2,4,5,1,2,1,3,1,2,2,3,4,4,1,1,6,3,5,4,2,4,3,5,1,2,6,6,5,1,4,5,1,3,2,1,1,1,0,1,6,0,5,4,2,2,4,5,1,5,0,1,2,6,3,4,5,5,1,6,3,1,6,3,4,0,1,4,3,1,5,0,6,1,1,6,1,5,2,3,6,3,1,2,5,1,2,0,2,2,2,5,1,6,3,1,4,2,6,6,1,5,5,5,3,0,6,6,0,1,5,4,3,5,0,4,3,4,5,3,4,5,4,0,2,3,1,3,6,3,1,1,3,4,2,4,4,0,1,6,2,0,2,5,0,0,6,4,1,3,2,3,3,1,5,3,2,6,4,4,4,0,0,1,2,4,0,6,0,1,4,6,4,0,2,6,6,4,6,4,0,5,1,4,6,3,5,0,4,0,0,4,1,5,4,4,6,5,4,4,5,6,2,0,6,4,3,5,5,6,5,3,3,2,4,2,2,1,2,0,6,2,3,1,3,6,5,2,4,0,6,5,2,3,6,2,4,6,3,4,0,4,2,0,6,3,6,1,2,4,4,3,3,1,6,5,4,2,4,1,3,1,3,2,1,3,4,4,4,3,0,5,4,5,2,3,5,4,2,2,0,6,4,6,4,0,5,1,1,5,5,1,4,0,5,0,1,4,3,3,4,6,1,0,1,5,1,2,5,1,3,1,2,6,1,1,4,0,4,2,1,3,1,4,2,5,3,2,4,3,0,2,2,0,0,5,3,5,6,2,5,6,1,5,2,5,1,6,0,0,2,1,4,0,2,5,1,3,0,3,6,2,1,0,1,5,5,0,2,1,6,5,1,5,0,2,3,0,1,1,6,4,1,4,1,0,0,4,6,2,0,2,0,3,1,4,0,4,5,6,0,6,1,1,0,6,1,3,4,4,0,3,1,1,0,4,3,5,0,1,5,2,3,0,6,0,0,5,0,1,1,6,6,4,5,6,1,5,4,4,1,6,2,1,3,6,0,5,2,5,4,0,6,5,6,4,2,1,2,3,6,5,6,4,2,3,2,6,1,4,2,5,3,4,1,1,2,5,3,4,6,5,3,4,0,2,6,0,6,6,5,0,3,6,4,4,2,4,1,6,0,6,2,2,0,1,0,3,3,6,6,5,6,3,5,1,2,5,2,0,3,6,2,0,4,4,4,5,3,0,2,4,4,5,1,1,6,5,2,1,6,0,2,4,1,1,0,0,2,2,5,3,4,5,0,3,5,1,6,1,4,5,6,0,2,0,1,2,4,3,0,2,0,0,4,3,4,1,6,3,3,0,6,1,6,5,2,4,3,6,4,5,1,0,3,6,3,1,0,4,2,0,0,6,2,3,6,1,3,0,2,4,3,0,1,4,2,3,0,3,3,6,6,3,5,2,4,0,5,2,5,4,3,3,4,4,0,3,1,5,4,1,3,1,1,1,2,4,5,1,6,3,6,1,3,0,6,0,6,2,0,6,2,5,0,1,6,4,5,3,0,5,2,6,4,2,2,1,2,5,0,3,4,0,0,2,1,0,5,1,5,0,2,2,0,2,1,3,6,1,1,1,5,3,4,4,1,0,2,4,2,6,3,2,4,1,6,5,5,6,2,0,2,4,1,0,3,5,0,6,1,0,5,3,5,3,6,0,0,5,3,3,3,0,4,6,2,4,2,6,6,3,0,6,6,5,5,0,4,1,3,4,6,0,5,6,0,1,0,4,4,2,1,2,3,3,0,4,5,5,2,2,6,5,3,0,3,6,3,2,2,6,2,5,1,3,3,2,5,3,4,4,2,5,0,2,3,2,3,2,0,6,1,0,5,5,2,5,1,0,4,4,3,3,2,3,4,0,0,2,2,4,6,1,0,0,4,0,5,4,6,3,3,6,5,5,5,1,0,0,5,3,1,2,6,1,5,6,5],\"xaxis\":\"x3\",\"yaxis\":\"y3\",\"type\":\"histogram\"},{\"alignmentgroup\":\"True\",\"bingroup\":\"y\",\"hovertemplate\":\"index=%{y}\\u003cbr\\u003ecount=%{x}\\u003cextra\\u003e\\u003c\\u002fextra\\u003e\",\"legendgroup\":\"\",\"marker\":{\"color\":\"#636efa\"},\"name\":\"\",\"offsetgroup\":\"\",\"opacity\":0.5,\"showlegend\":false,\"xaxis\":\"x2\",\"y\":[0,1,2,3,4,5,6,7,8,9,10,11,12,13,14,15,16,17,18,19,20,21,22,23,24,25,26,27,28,29,30,31,32,33,34,35,36,37,38,39,40,41,42,43,44,45,46,47,48,49,50,51,52,53,54,55,56,57,58,59,60,61,62,63,64,65,66,67,68,69,70,71,72,73,74,75,76,77,78,79,80,81,82,83,84,85,86,87,88,89,90,91,92,93,94,95,96,97,98,99,100,101,102,103,104,105,106,107,108,109,110,111,112,113,114,115,116,117,118,119,120,121,122,123,124,125,126,127,128,129,130,131,132,133,134,135,136,137,138,139,140,141,142,143,144,145,146,147,148,149,150,151,152,153,154,155,156,157,158,159,160,161,162,163,164,165,166,167,168,169,170,171,172,173,174,175,176,177,178,179,180,181,182,183,184,185,186,187,188,189,190,191,192,193,194,195,196,197,198,199,200,201,202,203,204,205,206,207,208,209,210,211,212,213,214,215,216,217,218,219,220,221,222,223,224,225,226,227,228,229,230,231,232,233,234,235,236,237,238,239,240,241,242,243,244,245,246,247,248,249,250,251,252,253,254,255,256,257,258,259,260,261,262,263,264,265,266,267,268,269,270,271,272,273,274,275,276,277,278,279,280,281,282,283,284,285,286,287,288,289,290,291,292,293,294,295,296,297,298,299,300,301,302,303,304,305,306,307,308,309,310,311,312,313,314,315,316,317,318,319,320,321,322,323,324,325,326,327,328,329,330,331,332,333,334,335,336,337,338,339,340,341,342,343,344,345,346,347,348,349,350,351,352,353,354,355,356,357,358,359,360,361,362,363,364,365,366,367,368,369,370,371,372,373,374,375,376,377,378,379,380,381,382,383,384,385,386,387,388,389,390,391,392,393,394,395,396,397,398,399,400,401,402,403,404,405,406,407,408,409,410,411,412,413,414,415,416,417,418,419,420,421,422,423,424,425,426,427,428,429,430,431,432,433,434,435,436,437,438,439,440,441,442,443,444,445,446,447,448,449,450,451,452,453,454,455,456,457,458,459,460,461,462,463,464,465,466,467,468,469,470,471,472,473,474,475,476,477,478,479,480,481,482,483,484,485,486,487,488,489,490,491,492,493,494,495,496,497,498,499,500,501,502,503,504,505,506,507,508,509,510,511,512,513,514,515,516,517,518,519,520,521,522,523,524,525,526,527,528,529,530,531,532,533,534,535,536,537,538,539,540,541,542,543,544,545,546,547,548,549,550,551,552,553,554,555,556,557,558,559,560,561,562,563,564,565,566,567,568,569,570,571,572,573,574,575,576,577,578,579,580,581,582,583,584,585,586,587,588,589,590,591,592,593,594,595,596,597,598,599,600,601,602,603,604,605,606,607,608,609,610,611,612,613,614,615,616,617,618,619,620,621,622,623,624,625,626,627,628,629,630,631,632,633,634,635,636,637,638,639,640,641,642,643,644,645,646,647,648,649,650,651,652,653,654,655,656,657,658,659,660,661,662,663,664,665,666,667,668,669,670,671,672,673,674,675,676,677,678,679,680,681,682,683,684,685,686,687,688,689,690,691,692,693,694,695,696,697,698,699,700,701,702,703,704,705,706,707,708,709,710,711,712,713,714,715,716,717,718,719,720,721,722,723,724,725,726,727,728,729,730,731,732,733,734,735,736,737,738,739,740,741,742,743,744,745,746,747,748,749,750,751,752,753,754,755,756,757,758,759,760,761,762,763,764,765,766,767,768,769,770,771,772,773,774,775,776,777,778,779,780,781,782,783,784,785,786,787,788,789,790,791,792,793,794,795,796,797,798,799,800,801,802,803,804,805,806,807,808,809,810,811,812,813,814,815,816,817,818,819,820,821,822,823,824,825,826,827,828,829,830,831,832,833,834,835,836,837,838,839,840,841,842,843,844,845,846,847,848,849,850,851,852,853,854,855,856,857,858,859,860,861,862,863,864,865,866,867,868,869,870,871,872,873,874,875,876,877,878,879,880,881,882,883,884,885,886,887,888,889,890,891,892,893,894,895,896,897,898,899,900,901,902,903,904,905,906,907,908,909,910,911,912,913,914,915,916,917,918,919,920,921,922,923,924,925,926,927,928,929,930,931,932,933,934,935,936,937,938,939,940,941,942,943,944,945,946,947,948,949,950,951,952,953,954,955,956,957,958,959,960,961,962,963,964,965,966,967,968,969,970,971,972,973,974,975,976,977,978,979,980,981,982,983,984,985,986,987,988,989,990,991,992,993,994,995,996,997,998,999,1000,1001,1002,1003,1004,1005,1006,1007,1008,1009,1010,1011,1012,1013,1014,1015,1016,1017,1018,1019,1020,1021,1022,1023,1024,1025,1026,1027,1028,1029,1030,1031,1032,1033,1034,1035,1036,1037,1038,1039,1040,1041,1042,1043,1044,1045,1046,1047,1048,1049,1050,1051,1052,1053,1054,1055,1056,1057,1058,1059,1060,1061,1062,1063,1064,1065,1066,1067,1068,1069,1070,1071,1072,1073,1074,1075,1076,1077,1078,1079,1080,1081,1082,1083,1084,1085,1086,1087,1088,1089,1090,1091,1092,1093,1094,1095,1096,1097,1098,1099,1100,1101,1102,1103,1104,1105,1106,1107,1108,1109,1110,1111,1112,1113,1114,1115,1116,1117,1118,1119,1120,1121,1122,1123,1124,1125,1126,1127,1128,1129,1130,1131,1132,1133,1134,1135,1136,1137,1138,1139,1140,1141,1142,1143,1144,1145,1146,1147,1148,1149,1150,1151,1152,1153,1154,1155,1156,1157,1158,1159,1160,1161,1162,1163,1164,1165,1166,1167,1168,1169,1170,1171,1172,1173,1174,1175,1176,1177,1178,1179,1180,1181,1182,1183,1184,1185,1186,1187,1188,1189,1190,1191,1192,1193,1194,1195,1196,1197,1198,1199,1200,1201,1202,1203,1204,1205,1206,1207,1208,1209,1210,1211,1212,1213,1214,1215,1216,1217,1218,1219,1220,1221,1222,1223,1224,1225,1226,1227,1228,1229,1230,1231,1232,1233,1234,1235,1236,1237,1238,1239,1240,1241,1242,1243,1244,1245,1246,1247,1248,1249,1250,1251,1252,1253,1254,1255,1256,1257,1258,1259,1260,1261,1262,1263,1264,1265,1266,1267,1268,1269,1270,1271,1272,1273,1274,1275,1276,1277,1278,1279,1280,1281,1282,1283,1284,1285,1286,1287,1288,1289,1290,1291,1292,1293,1294,1295,1296,1297,1298,1299,1300,1301,1302,1303,1304,1305,1306,1307,1308,1309,1310,1311,1312,1313,1314,1315,1316,1317,1318,1319,1320,1321,1322,1323,1324,1325,1326,1327,1328,1329,1330,1331,1332,1333,1334,1335,1336,1337,1338,1339,1340,1341,1342,1343,1344,1345,1346,1347,1348,1349,1350,1351,1352,1353,1354,1355,1356,1357,1358,1359,1360,1361,1362,1363,1364,1365,1366,1367,1368,1369,1370,1371,1372,1373,1374,1375,1376,1377,1378,1379,1380,1381,1382,1383,1384,1385,1386,1387,1388,1389,1390,1391,1392,1393,1394,1395,1396,1397,1398,1399,1400,1401,1402,1403,1404,1405,1406,1407,1408,1409,1410,1411,1412,1413,1414,1415,1416,1417,1418,1419,1420,1421,1422,1423,1424,1425,1426,1427,1428,1429,1430,1431,1432,1433,1434,1435,1436,1437,1438,1439,1440,1441,1442,1443,1444,1445,1446,1447,1448,1449,1450,1451,1452,1453,1454,1455,1456,1457,1458,1459,1460,1461,1462,1463,1464,1465,1466,1467,1468,1469,1470,1471,1472,1473,1474,1475,1476,1477,1478,1479,1480,1481,1482,1483,1484,1485,1486,1487,1488,1489,1490,1491,1492,1493,1494,1495,1496,1497,1498,1499,1500,1501,1502,1503,1504,1505,1506,1507,1508,1509,1510,1511,1512,1513,1514,1515,1516,1517,1518,1519,1520,1521,1522,1523,1524,1525,1526,1527,1528,1529,1530,1531,1532,1533,1534,1535,1536,1537,1538,1539,1540,1541,1542,1543,1544,1545,1546,1547,1548,1549,1550,1551,1552,1553,1554,1555,1556,1557,1558,1559,1560,1561,1562,1563,1564,1565,1566,1567,1568,1569,1570,1571,1572,1573,1574,1575,1576,1577,1578,1579,1580,1581,1582,1583,1584,1585,1586,1587,1588,1589,1590,1591,1592,1593,1594,1595,1596,1597,1598,1599,1600,1601,1602,1603,1604,1605,1606,1607,1608,1609,1610,1611,1612,1613,1614,1615,1616,1617,1618,1619,1620,1621,1622,1623,1624,1625,1626,1627,1628,1629,1630,1631,1632,1633,1634,1635,1636,1637,1638,1639,1640,1641,1642,1643,1644,1645,1646,1647,1648,1649,1650,1651,1652,1653,1654,1655,1656,1657,1658,1659,1660,1661,1662,1663,1664,1665,1666,1667,1668,1669,1670,1671,1672,1673,1674,1675,1676,1677,1678,1679,1680,1681,1682,1683,1684,1685,1686,1687,1688,1689,1690,1691,1692,1693,1694,1695,1696,1697,1698,1699,1700,1701,1702,1703,1704,1705,1706,1707,1708,1709,1710,1711,1712,1713,1714,1715,1716,1717,1718,1719,1720,1721,1722,1723,1724,1725,1726,1727,1728,1729,1730,1731,1732,1733,1734,1735,1736,1737,1738,1739,1740,1741,1742,1743,1744,1745,1746,1747,1748,1749,1750,1751,1752,1753,1754,1755,1756,1757,1758,1759,1760,1761,1762,1763,1764,1765,1766,1767,1768,1769,1770,1771,1772,1773,1774,1775,1776,1777,1778,1779,1780,1781,1782,1783,1784,1785,1786,1787,1788,1789,1790,1791,1792,1793,1794,1795,1796,1797,1798,1799,1800,1801,1802,1803,1804,1805,1806,1807,1808,1809,1810,1811,1812,1813,1814,1815,1816,1817,1818,1819,1820,1821,1822,1823,1824,1825,1826,1827,1828,1829,1830,1831,1832,1833,1834,1835,1836,1837,1838,1839,1840,1841,1842,1843,1844,1845,1846,1847,1848,1849,1850,1851,1852,1853,1854,1855,1856,1857,1858,1859,1860,1861,1862,1863,1864,1865,1866,1867,1868,1869,1870,1871,1872,1873,1874,1875,1876,1877,1878,1879,1880,1881,1882,1883,1884,1885,1886,1887,1888,1889,1890,1891,1892,1893,1894,1895,1896,1897,1898,1899,1900,1901,1902,1903,1904,1905,1906,1907,1908,1909,1910,1911,1912,1913,1914,1915,1916,1917,1918,1919,1920,1921,1922,1923,1924,1925,1926,1927,1928,1929,1930,1931,1932,1933,1934,1935,1936,1937,1938,1939,1940,1941,1942,1943,1944,1945,1946,1947,1948,1949,1950,1951,1952,1953,1954,1955,1956,1957,1958,1959,1960,1961,1962,1963,1964,1965,1966,1967,1968,1969,1970,1971,1972,1973,1974,1975,1976,1977,1978,1979,1980,1981,1982,1983,1984,1985,1986,1987,1988,1989,1990,1991,1992,1993,1994,1995,1996,1997,1998,1999,2000,2001,2002,2003,2004,2005,2006,2007,2008,2009,2010,2011,2012,2013,2014,2015,2016,2017,2018,2019,2020,2021,2022,2023,2024,2025,2026,2027,2028,2029,2030,2031,2032,2033,2034,2035,2036,2037,2038,2039,2040,2041,2042,2043,2044,2045,2046,2047,2048,2049,2050,2051,2052,2053,2054,2055,2056,2057,2058,2059,2060,2061,2062,2063,2064,2065,2066,2067,2068,2069,2070,2071,2072,2073,2074,2075,2076,2077,2078,2079,2080,2081,2082,2083,2084,2085,2086,2087,2088,2089,2090,2091,2092,2093,2094,2095,2096,2097,2098,2099,2100,2101,2102,2103,2104,2105,2106,2107,2108,2109,2110,2111,2112,2113,2114,2115,2116,2117,2118,2119,2120,2121,2122,2123,2124,2125,2126,2127,2128,2129,2130,2131,2132,2133,2134,2135,2136,2137,2138,2139,2140,2141,2142,2143,2144,2145,2146,2147,2148,2149,2150,2151,2152,2153,2154,2155,2156,2157,2158,2159,2160,2161,2162,2163,2164,2165,2166,2167,2168,2169,2170,2171,2172,2173,2174,2175,2176,2177,2178,2179,2180,2181,2182,2183,2184,2185,2186,2187,2188,2189,2190,2191,2192,2193,2194,2195,2196,2197,2198,2199,2200,2201,2202,2203,2204,2205,2206,2207,2208,2209,2210,2211,2212,2213,2214,2215,2216,2217,2218,2219,2220,2221,2222,2223,2224,2225,2226,2227,2228,2229,2230,2231,2232,2233,2234,2235,2236,2237,2238,2239,2240,2241,2242,2243,2244,2245,2246,2247,2248,2249,2250,2251,2252,2253,2254,2255,2256,2257,2258,2259,2260,2261,2262,2263,2264,2265,2266,2267,2268,2269,2270,2271,2272,2273,2274,2275,2276,2277,2278,2279,2280,2281,2282,2283,2284,2285,2286,2287,2288,2289,2290,2291,2292,2293,2294,2295,2296,2297,2298,2299,2300,2301,2302,2303,2304,2305,2306,2307,2308,2309,2310,2311,2312,2313,2314,2315,2316,2317,2318,2319,2320,2321,2322,2323,2324,2325,2326,2327,2328,2329,2330,2331,2332,2333,2334,2335,2336,2337,2338,2339,2340,2341,2342,2343,2344,2345,2346,2347,2348,2349,2350,2351,2352,2353,2354,2355,2356,2357,2358,2359,2360,2361,2362,2363,2364,2365,2366,2367,2368,2369,2370,2371,2372,2373,2374,2375,2376,2377,2378,2379,2380,2381,2382,2383,2384,2385,2386,2387,2388,2389,2390,2391,2392,2393,2394,2395,2396,2397,2398,2399,2400,2401,2402,2403,2404,2405,2406,2407,2408,2409,2410,2411,2412,2413,2414,2415,2416,2417,2418,2419,2420,2421,2422,2423,2424,2425,2426,2427,2428,2429,2430,2431,2432,2433,2434,2435,2436,2437,2438,2439,2440,2441,2442,2443,2444,2445,2446,2447,2448,2449,2450,2451,2452,2453,2454,2455,2456,2457,2458,2459,2460,2461,2462,2463,2464,2465,2466,2467,2468,2469,2470,2471,2472,2473,2474,2475,2476,2477,2478,2479,2480,2481,2482,2483,2484,2485,2486,2487,2488,2489,2490,2491,2492,2493,2494,2495,2496,2497,2498,2499,2500,2501,2502,2503,2504,2505,2506,2507,2508,2509,2510,2511,2512,2513,2514,2515,2516,2517,2518,2519,2520,2521,2522,2523,2524,2525,2526,2527,2528,2529,2530,2531,2532,2533,2534,2535,2536,2537,2538,2539,2540,2541,2542,2543,2544,2545,2546,2547,2548,2549,2550,2551,2552,2553,2554,2555,2556,2557,2558,2559,2560,2561,2562,2563,2564,2565,2566,2567,2568,2569,2570,2571,2572,2573,2574,2575,2576,2577,2578,2579,2580,2581,2582,2583,2584,2585,2586,2587,2588,2589,2590,2591,2592,2593,2594,2595,2596,2597,2598,2599,2600,2601,2602,2603,2604,2605,2606,2607,2608,2609,2610,2611,2612,2613,2614,2615,2616,2617,2618,2619,2620,2621,2622,2623,2624,2625,2626,2627,2628,2629,2630,2631,2632,2633,2634,2635,2636,2637,2638,2639,2640,2641,2642,2643,2644,2645,2646,2647,2648,2649,2650,2651,2652,2653,2654,2655,2656,2657,2658,2659,2660,2661,2662,2663,2664,2665,2666,2667,2668,2669,2670,2671,2672,2673,2674,2675,2676,2677,2678,2679,2680,2681,2682,2683,2684,2685,2686,2687,2688,2689,2690,2691,2692,2693,2694,2695,2696,2697,2698,2699,2700,2701,2702,2703,2704,2705,2706,2707,2708,2709,2710,2711,2712,2713,2714,2715,2716,2717,2718,2719,2720,2721,2722,2723,2724,2725,2726,2727,2728,2729,2730,2731,2732,2733,2734,2735,2736,2737,2738,2739,2740,2741,2742,2743,2744,2745,2746,2747,2748,2749,2750,2751,2752,2753,2754,2755,2756,2757,2758,2759,2760,2761,2762,2763,2764,2765,2766,2767,2768,2769,2770,2771,2772,2773,2774,2775,2776,2777,2778,2779,2780,2781,2782,2783,2784,2785,2786,2787,2788,2789,2790,2791,2792,2793,2794,2795,2796,2797,2798,2799,2800,2801,2802,2803,2804,2805,2806,2807,2808,2809,2810,2811,2812,2813,2814,2815,2816,2817,2818,2819,2820,2821,2822,2823,2824,2825,2826,2827,2828,2829,2830,2831,2832,2833,2834,2835,2836,2837,2838,2839,2840,2841,2842,2843,2844,2845,2846,2847,2848,2849,2850,2851,2852,2853,2854,2855,2856,2857,2858,2859,2860,2861,2862,2863,2864,2865,2866,2867,2868,2869,2870,2871,2872,2873,2874,2875,2876,2877,2878,2879,2880,2881,2882,2883,2884,2885,2886,2887,2888,2889,2890,2891,2892,2893,2894,2895,2896,2897,2898,2899,2900,2901,2902,2903,2904,2905,2906,2907,2908,2909,2910,2911,2912,2913,2914,2915,2916,2917,2918,2919,2920,2921,2922,2923,2924,2925,2926,2927,2928,2929,2930,2931,2932,2933,2934,2935,2936,2937,2938,2939,2940,2941,2942,2943,2944,2945,2946,2947,2948,2949,2950,2951,2952,2953,2954,2955,2956,2957,2958,2959,2960,2961,2962,2963,2964,2965,2966,2967,2968,2969,2970,2971,2972,2973,2974,2975,2976,2977,2978,2979,2980,2981,2982,2983,2984,2985,2986,2987,2988,2989,2990,2991,2992,2993,2994,2995,2996,2997,2998,2999,3000,3001,3002,3003,3004,3005,3006,3007,3008,3009,3010,3011,3012,3013,3014,3015,3016,3017,3018,3019,3020,3021,3022,3023,3024,3025,3026,3027,3028,3029,3030,3031,3032,3033,3034,3035,3036,3037,3038,3039,3040,3041,3042,3043,3044,3045,3046,3047,3048,3049,3050,3051,3052,3053,3054,3055,3056,3057,3058,3059,3060,3061,3062,3063,3064,3065,3066,3067,3068,3069,3070,3071,3072,3073,3074,3075,3076,3077,3078,3079,3080,3081,3082,3083,3084,3085,3086,3087,3088,3089,3090,3091,3092,3093,3094,3095,3096,3097,3098,3099,3100,3101,3102,3103,3104,3105,3106,3107,3108,3109,3110,3111,3112,3113,3114,3115,3116,3117,3118,3119,3120,3121,3122,3123,3124,3125,3126,3127,3128,3129,3130,3131,3132,3133,3134,3135,3136,3137,3138,3139,3140,3141,3142,3143,3144,3145,3146,3147,3148,3149,3150,3151,3152,3153,3154,3155,3156,3157,3158,3159,3160,3161,3162,3163,3164,3165,3166,3167,3168,3169,3170,3171,3172,3173,3174,3175,3176,3177,3178,3179,3180,3181,3182,3183,3184,3185,3186,3187,3188,3189,3190,3191,3192,3193,3194,3195,3196,3197,3198,3199,3200,3201,3202,3203,3204,3205,3206,3207,3208,3209,3210,3211,3212,3213,3214,3215,3216,3217,3218,3219,3220,3221,3222,3223,3224,3225,3226,3227,3228,3229,3230,3231,3232,3233,3234,3235,3236,3237,3238,3239,3240,3241,3242,3243,3244,3245,3246,3247,3248,3249,3250,3251,3252,3253,3254,3255,3256,3257,3258,3259,3260,3261,3262,3263,3264,3265,3266,3267,3268,3269,3270,3271,3272,3273,3274,3275,3276,3277,3278,3279,3280,3281,3282,3283,3284,3285,3286,3287,3288,3289,3290,3291,3292,3293,3294,3295,3296,3297,3298,3299,3300,3301,3302,3303,3304,3305,3306,3307,3308,3309,3310,3311,3312,3313,3314,3315,3316,3317,3318,3319,3320,3321,3322,3323,3324,3325,3326,3327,3328,3329,3330,3331,3332,3333,3334,3335,3336,3337,3338,3339,3340,3341,3342,3343,3344,3345,3346,3347,3348,3349,3350,3351,3352,3353,3354,3355,3356,3357,3358,3359,3360,3361,3362,3363,3364,3365,3366,3367,3368,3369,3370,3371,3372,3373,3374,3375,3376,3377,3378,3379,3380,3381,3382,3383,3384,3385,3386,3387,3388,3389,3390,3391,3392,3393,3394,3395,3396,3397,3398,3399,3400,3401,3402,3403,3404,3405,3406,3407,3408,3409,3410,3411,3412,3413,3414,3415,3416,3417,3418,3419,3420,3421,3422,3423,3424,3425,3426,3427,3428,3429,3430,3431,3432,3433,3434,3435,3436,3437,3438,3439,3440,3441,3442,3443,3444,3445,3446,3447,3448,3449,3450,3451,3452,3453,3454,3455,3456,3457,3458,3459,3460,3461,3462,3463,3464,3465,3466,3467,3468,3469,3470,3471,3472,3473,3474,3475,3476,3477,3478,3479,3480,3481,3482,3483,3484,3485,3486,3487,3488,3489,3490,3491,3492,3493,3494,3495,3496,3497,3498,3499,3500,3501,3502,3503,3504,3505,3506,3507,3508,3509,3510,3511,3512,3513,3514,3515,3516,3517,3518,3519,3520,3521,3522,3523,3524,3525,3526,3527,3528,3529,3530,3531,3532,3533,3534,3535,3536,3537,3538,3539,3540,3541,3542,3543,3544,3545,3546,3547,3548,3549,3550,3551,3552,3553,3554,3555,3556,3557,3558,3559,3560,3561,3562,3563,3564,3565,3566,3567,3568,3569,3570,3571,3572,3573,3574,3575,3576,3577,3578,3579,3580,3581,3582,3583,3584,3585,3586,3587,3588,3589,3590,3591,3592,3593,3594,3595,3596,3597,3598,3599,3600,3601,3602,3603,3604,3605,3606,3607,3608,3609,3610,3611,3612,3613,3614,3615,3616,3617,3618,3619,3620,3621,3622,3623,3624,3625,3626,3627,3628,3629,3630,3631,3632,3633,3634,3635,3636,3637,3638,3639,3640,3641,3642,3643,3644,3645,3646,3647,3648,3649,3650,3651,3652,3653,3654,3655,3656,3657,3658,3659,3660,3661,3662,3663,3664,3665,3666,3667,3668,3669,3670,3671,3672,3673,3674,3675,3676,3677,3678,3679,3680,3681,3682,3683,3684,3685,3686,3687,3688,3689,3690,3691,3692,3693,3694,3695,3696,3697,3698,3699,3700,3701,3702,3703,3704,3705,3706,3707,3708,3709,3710,3711,3712,3713,3714,3715,3716,3717,3718,3719,3720,3721,3722,3723,3724,3725,3726,3727,3728,3729,3730,3731,3732,3733,3734,3735,3736,3737,3738,3739,3740,3741,3742,3743,3744,3745,3746,3747,3748,3749,3750,3751,3752,3753,3754,3755,3756,3757,3758,3759,3760,3761,3762,3763,3764,3765,3766,3767,3768,3769,3770,3771,3772,3773,3774,3775,3776,3777,3778,3779,3780,3781,3782,3783,3784,3785,3786,3787,3788,3789,3790,3791,3792,3793,3794,3795,3796,3797,3798,3799,3800,3801,3802,3803,3804,3805,3806,3807,3808,3809,3810,3811,3812,3813,3814,3815,3816,3817,3818,3819,3820,3821,3822,3823,3824,3825,3826,3827,3828,3829,3830,3831,3832,3833,3834,3835,3836,3837,3838,3839,3840,3841,3842,3843,3844,3845,3846,3847,3848,3849,3850,3851,3852,3853,3854,3855,3856,3857,3858,3859,3860,3861,3862,3863,3864,3865,3866,3867,3868,3869,3870,3871,3872,3873,3874,3875,3876,3877,3878,3879,3880,3881,3882,3883,3884,3885,3886,3887,3888,3889,3890,3891,3892,3893,3894,3895,3896,3897,3898,3899],\"yaxis\":\"y2\",\"type\":\"histogram\"}],                        {\"template\":{\"data\":{\"histogram2dcontour\":[{\"type\":\"histogram2dcontour\",\"colorbar\":{\"outlinewidth\":0,\"ticks\":\"\"},\"colorscale\":[[0.0,\"#0d0887\"],[0.1111111111111111,\"#46039f\"],[0.2222222222222222,\"#7201a8\"],[0.3333333333333333,\"#9c179e\"],[0.4444444444444444,\"#bd3786\"],[0.5555555555555556,\"#d8576b\"],[0.6666666666666666,\"#ed7953\"],[0.7777777777777778,\"#fb9f3a\"],[0.8888888888888888,\"#fdca26\"],[1.0,\"#f0f921\"]]}],\"choropleth\":[{\"type\":\"choropleth\",\"colorbar\":{\"outlinewidth\":0,\"ticks\":\"\"}}],\"histogram2d\":[{\"type\":\"histogram2d\",\"colorbar\":{\"outlinewidth\":0,\"ticks\":\"\"},\"colorscale\":[[0.0,\"#0d0887\"],[0.1111111111111111,\"#46039f\"],[0.2222222222222222,\"#7201a8\"],[0.3333333333333333,\"#9c179e\"],[0.4444444444444444,\"#bd3786\"],[0.5555555555555556,\"#d8576b\"],[0.6666666666666666,\"#ed7953\"],[0.7777777777777778,\"#fb9f3a\"],[0.8888888888888888,\"#fdca26\"],[1.0,\"#f0f921\"]]}],\"heatmap\":[{\"type\":\"heatmap\",\"colorbar\":{\"outlinewidth\":0,\"ticks\":\"\"},\"colorscale\":[[0.0,\"#0d0887\"],[0.1111111111111111,\"#46039f\"],[0.2222222222222222,\"#7201a8\"],[0.3333333333333333,\"#9c179e\"],[0.4444444444444444,\"#bd3786\"],[0.5555555555555556,\"#d8576b\"],[0.6666666666666666,\"#ed7953\"],[0.7777777777777778,\"#fb9f3a\"],[0.8888888888888888,\"#fdca26\"],[1.0,\"#f0f921\"]]}],\"heatmapgl\":[{\"type\":\"heatmapgl\",\"colorbar\":{\"outlinewidth\":0,\"ticks\":\"\"},\"colorscale\":[[0.0,\"#0d0887\"],[0.1111111111111111,\"#46039f\"],[0.2222222222222222,\"#7201a8\"],[0.3333333333333333,\"#9c179e\"],[0.4444444444444444,\"#bd3786\"],[0.5555555555555556,\"#d8576b\"],[0.6666666666666666,\"#ed7953\"],[0.7777777777777778,\"#fb9f3a\"],[0.8888888888888888,\"#fdca26\"],[1.0,\"#f0f921\"]]}],\"contourcarpet\":[{\"type\":\"contourcarpet\",\"colorbar\":{\"outlinewidth\":0,\"ticks\":\"\"}}],\"contour\":[{\"type\":\"contour\",\"colorbar\":{\"outlinewidth\":0,\"ticks\":\"\"},\"colorscale\":[[0.0,\"#0d0887\"],[0.1111111111111111,\"#46039f\"],[0.2222222222222222,\"#7201a8\"],[0.3333333333333333,\"#9c179e\"],[0.4444444444444444,\"#bd3786\"],[0.5555555555555556,\"#d8576b\"],[0.6666666666666666,\"#ed7953\"],[0.7777777777777778,\"#fb9f3a\"],[0.8888888888888888,\"#fdca26\"],[1.0,\"#f0f921\"]]}],\"surface\":[{\"type\":\"surface\",\"colorbar\":{\"outlinewidth\":0,\"ticks\":\"\"},\"colorscale\":[[0.0,\"#0d0887\"],[0.1111111111111111,\"#46039f\"],[0.2222222222222222,\"#7201a8\"],[0.3333333333333333,\"#9c179e\"],[0.4444444444444444,\"#bd3786\"],[0.5555555555555556,\"#d8576b\"],[0.6666666666666666,\"#ed7953\"],[0.7777777777777778,\"#fb9f3a\"],[0.8888888888888888,\"#fdca26\"],[1.0,\"#f0f921\"]]}],\"mesh3d\":[{\"type\":\"mesh3d\",\"colorbar\":{\"outlinewidth\":0,\"ticks\":\"\"}}],\"scatter\":[{\"fillpattern\":{\"fillmode\":\"overlay\",\"size\":10,\"solidity\":0.2},\"type\":\"scatter\"}],\"parcoords\":[{\"type\":\"parcoords\",\"line\":{\"colorbar\":{\"outlinewidth\":0,\"ticks\":\"\"}}}],\"scatterpolargl\":[{\"type\":\"scatterpolargl\",\"marker\":{\"colorbar\":{\"outlinewidth\":0,\"ticks\":\"\"}}}],\"bar\":[{\"error_x\":{\"color\":\"#2a3f5f\"},\"error_y\":{\"color\":\"#2a3f5f\"},\"marker\":{\"line\":{\"color\":\"#E5ECF6\",\"width\":0.5},\"pattern\":{\"fillmode\":\"overlay\",\"size\":10,\"solidity\":0.2}},\"type\":\"bar\"}],\"scattergeo\":[{\"type\":\"scattergeo\",\"marker\":{\"colorbar\":{\"outlinewidth\":0,\"ticks\":\"\"}}}],\"scatterpolar\":[{\"type\":\"scatterpolar\",\"marker\":{\"colorbar\":{\"outlinewidth\":0,\"ticks\":\"\"}}}],\"histogram\":[{\"marker\":{\"pattern\":{\"fillmode\":\"overlay\",\"size\":10,\"solidity\":0.2}},\"type\":\"histogram\"}],\"scattergl\":[{\"type\":\"scattergl\",\"marker\":{\"colorbar\":{\"outlinewidth\":0,\"ticks\":\"\"}}}],\"scatter3d\":[{\"type\":\"scatter3d\",\"line\":{\"colorbar\":{\"outlinewidth\":0,\"ticks\":\"\"}},\"marker\":{\"colorbar\":{\"outlinewidth\":0,\"ticks\":\"\"}}}],\"scattermapbox\":[{\"type\":\"scattermapbox\",\"marker\":{\"colorbar\":{\"outlinewidth\":0,\"ticks\":\"\"}}}],\"scatterternary\":[{\"type\":\"scatterternary\",\"marker\":{\"colorbar\":{\"outlinewidth\":0,\"ticks\":\"\"}}}],\"scattercarpet\":[{\"type\":\"scattercarpet\",\"marker\":{\"colorbar\":{\"outlinewidth\":0,\"ticks\":\"\"}}}],\"carpet\":[{\"aaxis\":{\"endlinecolor\":\"#2a3f5f\",\"gridcolor\":\"white\",\"linecolor\":\"white\",\"minorgridcolor\":\"white\",\"startlinecolor\":\"#2a3f5f\"},\"baxis\":{\"endlinecolor\":\"#2a3f5f\",\"gridcolor\":\"white\",\"linecolor\":\"white\",\"minorgridcolor\":\"white\",\"startlinecolor\":\"#2a3f5f\"},\"type\":\"carpet\"}],\"table\":[{\"cells\":{\"fill\":{\"color\":\"#EBF0F8\"},\"line\":{\"color\":\"white\"}},\"header\":{\"fill\":{\"color\":\"#C8D4E3\"},\"line\":{\"color\":\"white\"}},\"type\":\"table\"}],\"barpolar\":[{\"marker\":{\"line\":{\"color\":\"#E5ECF6\",\"width\":0.5},\"pattern\":{\"fillmode\":\"overlay\",\"size\":10,\"solidity\":0.2}},\"type\":\"barpolar\"}],\"pie\":[{\"automargin\":true,\"type\":\"pie\"}]},\"layout\":{\"autotypenumbers\":\"strict\",\"colorway\":[\"#636efa\",\"#EF553B\",\"#00cc96\",\"#ab63fa\",\"#FFA15A\",\"#19d3f3\",\"#FF6692\",\"#B6E880\",\"#FF97FF\",\"#FECB52\"],\"font\":{\"color\":\"#2a3f5f\"},\"hovermode\":\"closest\",\"hoverlabel\":{\"align\":\"left\"},\"paper_bgcolor\":\"white\",\"plot_bgcolor\":\"#E5ECF6\",\"polar\":{\"bgcolor\":\"#E5ECF6\",\"angularaxis\":{\"gridcolor\":\"white\",\"linecolor\":\"white\",\"ticks\":\"\"},\"radialaxis\":{\"gridcolor\":\"white\",\"linecolor\":\"white\",\"ticks\":\"\"}},\"ternary\":{\"bgcolor\":\"#E5ECF6\",\"aaxis\":{\"gridcolor\":\"white\",\"linecolor\":\"white\",\"ticks\":\"\"},\"baxis\":{\"gridcolor\":\"white\",\"linecolor\":\"white\",\"ticks\":\"\"},\"caxis\":{\"gridcolor\":\"white\",\"linecolor\":\"white\",\"ticks\":\"\"}},\"coloraxis\":{\"colorbar\":{\"outlinewidth\":0,\"ticks\":\"\"}},\"colorscale\":{\"sequential\":[[0.0,\"#0d0887\"],[0.1111111111111111,\"#46039f\"],[0.2222222222222222,\"#7201a8\"],[0.3333333333333333,\"#9c179e\"],[0.4444444444444444,\"#bd3786\"],[0.5555555555555556,\"#d8576b\"],[0.6666666666666666,\"#ed7953\"],[0.7777777777777778,\"#fb9f3a\"],[0.8888888888888888,\"#fdca26\"],[1.0,\"#f0f921\"]],\"sequentialminus\":[[0.0,\"#0d0887\"],[0.1111111111111111,\"#46039f\"],[0.2222222222222222,\"#7201a8\"],[0.3333333333333333,\"#9c179e\"],[0.4444444444444444,\"#bd3786\"],[0.5555555555555556,\"#d8576b\"],[0.6666666666666666,\"#ed7953\"],[0.7777777777777778,\"#fb9f3a\"],[0.8888888888888888,\"#fdca26\"],[1.0,\"#f0f921\"]],\"diverging\":[[0,\"#8e0152\"],[0.1,\"#c51b7d\"],[0.2,\"#de77ae\"],[0.3,\"#f1b6da\"],[0.4,\"#fde0ef\"],[0.5,\"#f7f7f7\"],[0.6,\"#e6f5d0\"],[0.7,\"#b8e186\"],[0.8,\"#7fbc41\"],[0.9,\"#4d9221\"],[1,\"#276419\"]]},\"xaxis\":{\"gridcolor\":\"white\",\"linecolor\":\"white\",\"ticks\":\"\",\"title\":{\"standoff\":15},\"zerolinecolor\":\"white\",\"automargin\":true,\"zerolinewidth\":2},\"yaxis\":{\"gridcolor\":\"white\",\"linecolor\":\"white\",\"ticks\":\"\",\"title\":{\"standoff\":15},\"zerolinecolor\":\"white\",\"automargin\":true,\"zerolinewidth\":2},\"scene\":{\"xaxis\":{\"backgroundcolor\":\"#E5ECF6\",\"gridcolor\":\"white\",\"linecolor\":\"white\",\"showbackground\":true,\"ticks\":\"\",\"zerolinecolor\":\"white\",\"gridwidth\":2},\"yaxis\":{\"backgroundcolor\":\"#E5ECF6\",\"gridcolor\":\"white\",\"linecolor\":\"white\",\"showbackground\":true,\"ticks\":\"\",\"zerolinecolor\":\"white\",\"gridwidth\":2},\"zaxis\":{\"backgroundcolor\":\"#E5ECF6\",\"gridcolor\":\"white\",\"linecolor\":\"white\",\"showbackground\":true,\"ticks\":\"\",\"zerolinecolor\":\"white\",\"gridwidth\":2}},\"shapedefaults\":{\"line\":{\"color\":\"#2a3f5f\"}},\"annotationdefaults\":{\"arrowcolor\":\"#2a3f5f\",\"arrowhead\":0,\"arrowwidth\":1},\"geo\":{\"bgcolor\":\"white\",\"landcolor\":\"#E5ECF6\",\"subunitcolor\":\"white\",\"showland\":true,\"showlakes\":true,\"lakecolor\":\"white\"},\"title\":{\"x\":0.05},\"mapbox\":{\"style\":\"light\"}}},\"xaxis\":{\"anchor\":\"y\",\"domain\":[0.0,0.7363],\"title\":{\"text\":\"X-axis\"}},\"yaxis\":{\"anchor\":\"x\",\"domain\":[0.0,0.7326],\"title\":{\"text\":\"Y-axis\"}},\"xaxis2\":{\"anchor\":\"y2\",\"domain\":[0.7413,1.0],\"matches\":\"x2\",\"showticklabels\":false,\"showline\":false,\"ticks\":\"\",\"showgrid\":true},\"yaxis2\":{\"anchor\":\"x2\",\"domain\":[0.0,0.7326],\"matches\":\"y\",\"showticklabels\":false,\"showgrid\":true},\"xaxis3\":{\"anchor\":\"y3\",\"domain\":[0.0,0.7363],\"matches\":\"x\",\"showticklabels\":false,\"showgrid\":true},\"yaxis3\":{\"anchor\":\"x3\",\"domain\":[0.7426,1.0],\"matches\":\"y3\",\"showticklabels\":false,\"showline\":false,\"ticks\":\"\",\"showgrid\":true},\"xaxis4\":{\"anchor\":\"y4\",\"domain\":[0.7413,1.0],\"matches\":\"x2\",\"showticklabels\":false,\"showgrid\":true,\"showline\":false,\"ticks\":\"\"},\"yaxis4\":{\"anchor\":\"x4\",\"domain\":[0.7426,1.0],\"matches\":\"y3\",\"showticklabels\":false,\"showline\":false,\"ticks\":\"\",\"showgrid\":true},\"legend\":{\"tracegroupgap\":0},\"title\":{\"text\":\"2D Histogram Visualization\"},\"barmode\":\"overlay\"},                        {\"responsive\": true}                    ).then(function(){\n",
              "                            \n",
              "var gd = document.getElementById('3dddc54d-6498-4033-ab14-138323094891');\n",
              "var x = new MutationObserver(function (mutations, observer) {{\n",
              "        var display = window.getComputedStyle(gd).display;\n",
              "        if (!display || display === 'none') {{\n",
              "            console.log([gd, 'removed!']);\n",
              "            Plotly.purge(gd);\n",
              "            observer.disconnect();\n",
              "        }}\n",
              "}});\n",
              "\n",
              "// Listen for the removal of the full notebook cells\n",
              "var notebookContainer = gd.closest('#notebook-container');\n",
              "if (notebookContainer) {{\n",
              "    x.observe(notebookContainer, {childList: true});\n",
              "}}\n",
              "\n",
              "// Listen for the clearing of the current output cell\n",
              "var outputEl = gd.closest('.output');\n",
              "if (outputEl) {{\n",
              "    x.observe(outputEl, {childList: true});\n",
              "}}\n",
              "\n",
              "                        })                };                            </script>        </div>\n",
              "</body>\n",
              "</html>"
            ]
          },
          "metadata": {}
        }
      ]
    },
    {
      "cell_type": "markdown",
      "source": [
        "**Bloxplot visualization**"
      ],
      "metadata": {
        "id": "67WNVeOoZlY_"
      }
    },
    {
      "cell_type": "code",
      "source": [
        "\n",
        "# Create a figure and axis with custom size\n",
        "fig, ax = plt.subplots(figsize=(8, 6))\n",
        "\n",
        "# Create a box plot for x and y datasets\n",
        "boxplot = ax.boxplot([x, y], labels=['X Dataset', 'Y Dataset'], patch_artist=True)\n",
        "\n",
        "# Custom colors for the boxes\n",
        "colors = ['lightblue', 'lightgreen']\n",
        "for patch, color in zip(boxplot['boxes'], colors):\n",
        "    patch.set_facecolor(color)\n",
        "\n",
        "# Add gridlines for better readability\n",
        "ax.grid(True, linestyle='--', alpha=0.7)\n",
        "\n",
        "# Set labels and title\n",
        "ax.set_xlabel('Gender')\n",
        "ax.set_ylabel('Purchases')\n",
        "ax.set_title('Box Plot Visualization for Customer Shopping Trends')\n",
        "\n",
        "# Show the plot\n",
        "plt.show()\n"
      ],
      "metadata": {
        "colab": {
          "base_uri": "https://localhost:8080/",
          "height": 562
        },
        "id": "4r3KC60oZqSY",
        "outputId": "34803b80-dc74-40db-c1e6-f583987e365a"
      },
      "execution_count": 192,
      "outputs": [
        {
          "output_type": "display_data",
          "data": {
            "text/plain": [
              "<Figure size 800x600 with 1 Axes>"
            ],
            "image/png": "[encoded data removed]"
          },
          "metadata": {}
        }
      ]
    },
    {
      "cell_type": "code",
      "source": [],
      "metadata": {
        "id": "zJya-xw1fPRi"
      },
      "execution_count": null,
      "outputs": []
    },
    {
      "cell_type": "code",
      "source": [
        "\n",
        "# Creating a boxplot using plotly.express with custom figure size\n",
        "fig = px.box(x,y, title='Boxplot of X and Y datasets',\n",
        "             labels={'X': 'Dataset', 'Values': 'Values'},\n",
        "             height=400, width=600)  # Adjust the height and width as needed\n",
        "\n",
        "# Show the plot\n",
        "fig.show()\n"
      ],
      "metadata": {
        "colab": {
          "base_uri": "https://localhost:8080/",
          "height": 417
        },
        "id": "cDghZwA6ZuFT",
        "outputId": "eb519a8a-dab1-4b57-e072-03b90bb4ac5d"
      },
      "execution_count": 111,
      "outputs": [
        {
          "output_type": "display_data",
          "data": {
            "text/html": [
              "<html>\n",
              "<head><meta charset=\"utf-8\" /></head>\n",
              "<body>\n",
              "    <div>            <script src=\"https://cdnjs.cloudflare.com/ajax/libs/mathjax/2.7.5/MathJax.js?config=TeX-AMS-MML_SVG\"></script><script type=\"text/javascript\">if (window.MathJax && window.MathJax.Hub && window.MathJax.Hub.Config) {window.MathJax.Hub.Config({SVG: {font: \"STIX-Web\"}});}</script>                <script type=\"text/javascript\">window.PlotlyConfig = {MathJaxConfig: 'local'};</script>\n",
              "        <script charset=\"utf-8\" src=\"https://cdn.plot.ly/plotly-2.24.1.min.js\"></script>                <div id=\"a8ccffbf-c9bb-48c3-87ab-8358457f7e3f\" class=\"plotly-graph-div\" style=\"height:400px; width:600px;\"></div>            <script type=\"text/javascript\">                                    window.PLOTLYENV=window.PLOTLYENV || {};                                    if (document.getElementById(\"a8ccffbf-c9bb-48c3-87ab-8358457f7e3f\")) {                    Plotly.newPlot(                        \"a8ccffbf-c9bb-48c3-87ab-8358457f7e3f\",                        [{\"alignmentgroup\":\"True\",\"hovertemplate\":\"x=%{x}\\u003cextra\\u003e\\u003c\\u002fextra\\u003e\",\"legendgroup\":\"\",\"marker\":{\"color\":\"#636efa\"},\"name\":\"\",\"notched\":false,\"offsetgroup\":\"\",\"orientation\":\"h\",\"showlegend\":false,\"x\":[3,3,6,6,0,6,5,6,0,5,1,3,3,6,6,4,1,5,6,1,2,5,0,6,6,0,0,2,2,6,4,4,0,5,5,1,3,6,2,4,5,0,0,3,6,0,5,6,4,1,1,5,6,6,1,0,6,3,4,6,6,2,3,6,3,2,2,4,2,6,2,0,2,1,4,0,4,3,3,2,2,2,2,6,2,1,1,3,4,5,4,2,2,6,6,4,2,0,0,5,3,1,5,1,4,0,4,3,1,3,3,0,1,5,6,2,0,3,1,0,0,3,3,6,0,2,2,6,3,1,3,6,6,0,4,5,5,6,6,0,6,6,3,5,4,5,3,3,0,4,2,0,0,0,5,5,0,3,4,2,4,3,1,6,3,4,4,2,3,2,1,6,1,0,0,0,5,4,5,3,3,6,0,6,3,3,0,1,1,6,5,2,1,0,5,4,3,4,3,6,4,0,0,6,1,6,3,1,4,2,3,3,0,2,2,1,6,0,5,3,3,5,3,0,2,0,4,3,0,2,0,2,1,2,6,5,3,3,0,1,3,1,2,4,6,3,1,6,6,0,6,0,3,1,1,0,2,5,5,0,2,0,0,4,0,1,6,0,4,1,0,3,1,5,1,6,3,1,0,4,1,1,4,0,5,1,0,3,1,4,6,4,5,0,2,5,6,1,2,3,6,2,2,6,1,0,0,2,1,3,3,4,0,2,2,0,4,2,0,2,5,5,4,1,5,0,6,6,6,4,1,5,4,1,0,2,0,0,6,2,2,1,2,4,4,0,6,3,3,1,3,1,2,4,6,2,6,1,2,2,3,0,3,3,2,5,3,4,4,5,6,4,6,1,4,5,1,2,4,1,6,2,5,5,0,1,5,3,5,4,0,3,0,3,1,0,0,0,2,4,3,5,4,0,4,0,4,1,3,4,5,0,6,4,6,4,3,5,1,2,1,1,0,1,3,5,5,5,3,3,0,3,6,3,2,4,6,0,3,4,3,0,5,0,0,0,4,2,3,4,4,3,3,6,1,3,5,2,4,3,6,6,2,6,4,5,6,2,5,1,2,5,5,2,5,0,3,6,0,4,1,3,0,6,5,3,2,5,6,0,4,1,6,1,6,3,3,6,4,4,2,0,3,5,0,1,0,3,5,6,0,0,4,0,5,4,1,2,2,5,5,0,5,5,0,4,4,2,0,4,1,6,2,6,5,6,2,0,6,6,2,1,1,4,2,0,1,6,2,1,6,1,6,5,6,0,3,6,2,4,0,3,0,5,6,6,3,3,4,2,0,6,0,1,1,4,2,0,3,0,6,2,5,4,4,2,0,2,5,0,3,1,2,2,4,5,0,3,2,2,4,3,2,2,2,6,4,4,2,3,2,4,5,1,1,0,2,5,1,2,2,6,3,1,0,6,0,4,4,0,0,3,3,5,6,5,2,3,4,0,3,2,1,2,6,1,1,3,6,2,0,3,6,3,0,4,5,5,6,6,5,5,1,4,1,0,5,5,4,1,1,6,5,1,0,0,1,0,2,3,0,2,1,4,4,3,3,5,4,2,6,1,2,2,2,2,4,5,6,6,4,2,6,6,0,5,6,0,3,4,3,1,5,1,3,5,1,2,0,1,6,2,1,4,2,3,2,2,2,2,3,3,1,1,2,1,2,0,5,1,3,2,5,6,1,4,0,6,5,5,0,4,2,5,5,6,3,5,2,3,0,6,3,4,5,5,4,0,6,4,0,3,1,1,5,4,2,6,0,0,5,3,6,3,2,3,2,6,5,1,5,3,6,4,3,0,0,6,2,0,2,3,6,2,5,4,5,6,2,1,1,5,6,0,4,1,4,3,4,5,4,1,0,5,5,4,6,3,1,3,0,2,1,0,6,6,1,2,0,2,6,3,6,6,1,4,5,4,1,5,4,4,2,4,4,5,3,2,6,4,4,2,3,3,0,0,1,3,2,6,1,5,5,5,2,2,6,2,6,5,4,0,2,4,6,2,4,3,0,6,4,2,4,4,5,5,3,6,2,0,5,4,4,5,2,0,1,1,2,6,4,5,4,2,2,3,4,5,3,1,6,6,4,6,5,4,1,1,2,3,1,3,1,4,4,3,6,5,3,4,2,2,1,3,1,2,5,2,2,4,5,4,4,5,2,4,5,5,1,3,5,5,3,6,1,0,0,6,5,4,4,6,6,5,4,6,2,1,6,4,2,5,4,1,1,0,4,6,3,4,6,1,6,6,4,6,5,3,1,4,1,3,1,1,0,1,5,0,0,0,3,3,0,1,3,6,2,0,6,1,0,6,0,2,5,0,1,4,3,1,5,5,5,5,6,0,4,5,6,4,3,3,6,3,2,1,0,3,3,5,4,0,3,1,5,0,3,6,2,4,2,2,2,4,2,2,1,5,6,2,6,4,3,4,3,1,1,5,3,4,2,0,5,6,5,3,1,4,6,1,3,3,5,2,5,5,0,6,6,3,6,3,3,1,5,2,3,6,3,6,1,1,5,1,2,6,3,4,2,6,4,5,0,4,5,6,3,4,4,3,1,4,3,6,2,5,4,2,3,1,2,3,1,5,3,2,2,0,3,0,1,6,2,5,1,5,2,5,0,2,1,4,6,4,5,2,3,5,3,0,1,0,1,1,1,5,5,4,0,0,4,5,5,6,0,4,0,2,6,0,6,5,5,3,3,4,1,0,0,6,6,3,2,0,2,3,2,2,0,4,5,2,6,2,2,2,2,2,2,1,5,5,0,6,6,6,1,1,0,0,4,3,2,2,1,2,2,5,3,2,0,6,5,0,4,6,4,1,0,3,4,4,5,0,1,3,3,2,2,4,5,3,4,1,1,6,2,6,1,5,0,0,4,2,5,4,6,5,3,0,2,1,4,2,3,3,3,4,1,6,0,3,0,0,2,6,1,0,3,1,2,6,4,0,2,2,0,0,2,5,2,0,4,1,0,5,1,4,1,6,0,2,5,2,3,4,4,6,6,2,1,1,5,5,4,6,3,1,3,2,2,5,4,4,0,6,1,4,3,1,2,5,1,2,5,1,0,5,2,3,0,4,6,5,2,3,3,5,6,3,2,4,1,5,5,0,0,4,6,1,3,5,5,4,6,1,5,4,5,3,6,0,2,3,6,1,4,0,6,0,2,6,4,1,6,4,4,0,6,3,0,5,0,5,1,2,5,3,2,5,2,3,1,2,2,0,2,0,5,2,3,5,5,6,1,6,3,0,4,3,4,2,0,4,5,0,5,4,2,2,5,5,5,3,0,2,2,3,6,3,1,5,5,4,5,1,0,3,3,2,2,2,6,2,4,4,4,2,1,6,5,5,6,1,2,3,2,0,6,5,1,5,5,5,3,6,1,2,3,2,4,2,3,5,4,4,5,0,2,0,0,6,1,4,6,6,1,5,3,6,5,6,4,0,1,3,4,3,1,1,5,1,2,5,3,4,5,0,1,2,4,1,6,0,1,0,0,5,6,2,5,4,4,5,1,5,5,5,2,3,6,5,1,6,2,0,1,4,4,6,2,3,4,6,1,3,4,3,5,4,0,5,4,0,5,3,6,3,4,6,0,0,2,4,3,3,4,5,1,1,6,4,3,1,2,1,3,5,1,4,0,4,4,3,1,1,5,3,5,1,2,3,2,0,2,1,1,0,4,5,2,3,2,1,2,0,3,3,6,0,6,2,3,4,4,2,2,5,4,5,3,4,3,1,5,4,2,1,6,0,4,5,3,1,6,4,0,2,3,5,6,6,5,1,3,0,6,6,3,1,0,1,1,5,6,1,0,0,3,4,0,0,1,3,3,3,1,2,5,0,4,2,6,0,2,1,3,1,5,0,5,4,3,5,4,1,2,1,2,5,1,4,3,0,6,5,6,4,2,3,6,4,2,0,5,0,5,1,6,6,2,4,2,6,6,6,3,5,0,2,2,0,5,3,3,4,6,0,1,6,6,6,3,0,5,5,1,3,2,4,6,0,0,0,6,1,2,3,1,6,6,5,3,4,5,4,4,5,1,5,1,0,2,2,3,3,6,6,6,6,6,3,1,3,6,6,0,3,4,3,1,0,1,6,5,2,6,6,2,5,4,5,0,1,4,6,0,6,2,5,0,2,4,3,3,5,4,4,5,0,2,2,0,4,0,5,5,6,2,4,6,3,6,3,0,0,1,4,0,3,4,4,3,4,5,4,3,5,3,2,3,2,4,6,6,5,5,0,4,1,4,1,5,3,1,4,1,4,6,6,6,5,6,3,1,4,4,3,4,6,5,5,4,6,4,3,3,2,1,4,5,1,1,0,3,6,1,1,4,1,2,0,4,0,5,3,0,2,6,5,6,2,2,0,0,3,2,4,1,2,3,5,4,0,2,2,5,4,1,5,2,1,1,3,5,4,3,1,5,2,0,5,3,6,4,5,3,0,6,3,1,4,2,2,3,5,3,0,5,3,3,5,4,5,3,3,5,5,6,1,0,2,4,6,6,5,2,1,5,4,1,3,2,5,1,3,0,5,2,1,1,4,3,5,1,3,3,2,6,3,5,5,1,1,6,3,2,2,1,5,4,4,0,0,4,6,6,1,3,1,5,1,4,6,3,5,2,0,5,0,0,4,0,3,0,6,4,2,5,6,5,0,5,4,4,1,3,3,4,5,4,5,6,2,3,4,1,0,6,5,1,1,2,3,5,6,2,6,0,2,4,5,6,0,0,3,0,6,5,0,3,1,4,6,6,1,2,5,5,2,2,0,3,2,0,1,1,0,5,1,5,4,6,1,5,5,4,6,6,2,0,3,6,0,3,2,3,2,5,6,3,0,5,1,5,0,2,3,1,6,6,4,1,0,2,4,1,3,3,0,0,3,6,4,1,2,1,3,5,1,2,3,3,5,0,3,5,1,0,4,5,1,1,4,2,2,2,0,6,1,0,1,4,4,5,4,6,4,4,4,2,0,6,5,4,6,3,0,4,5,3,2,5,5,6,3,1,3,5,3,0,0,6,5,5,0,0,3,6,4,3,6,3,4,6,0,3,2,6,2,2,1,1,0,0,3,2,0,3,6,6,4,0,4,2,5,5,0,2,0,5,3,4,5,4,5,6,6,4,0,6,5,4,1,3,6,6,5,2,5,3,0,0,3,0,2,5,0,6,6,5,5,4,2,0,5,2,5,2,2,4,0,4,3,3,6,1,0,5,5,4,2,2,3,2,5,0,4,0,4,2,3,3,4,0,6,0,1,1,0,2,1,4,2,4,3,6,0,5,5,3,2,3,4,1,2,3,2,2,2,0,1,5,2,4,4,5,1,5,2,2,2,4,1,5,4,3,1,2,4,6,0,3,2,4,5,6,0,1,4,3,0,6,0,5,6,4,4,0,2,3,5,0,2,3,1,6,4,3,4,1,1,6,6,1,5,6,1,2,2,4,2,1,6,1,6,2,3,2,2,0,2,6,2,1,5,2,5,0,3,5,2,4,1,4,1,5,6,6,0,0,4,1,1,1,6,4,3,1,3,5,4,2,0,0,2,4,5,6,6,0,6,1,1,1,6,0,0,6,0,3,0,0,5,5,4,4,6,2,2,3,6,2,4,2,0,3,1,4,5,2,4,1,2,0,2,6,0,3,5,1,1,2,1,1,5,0,2,1,5,6,5,4,0,1,4,5,0,0,5,2,2,6,0,5,6,1,2,4,4,6,2,6,1,6,3,2,3,1,1,5,2,0,1,5,0,5,6,4,2,3,0,0,2,1,6,5,3,3,2,1,5,3,2,6,5,5,3,3,1,3,3,5,0,3,0,5,4,5,6,5,4,2,6,1,6,2,2,1,0,0,5,5,2,2,1,4,1,0,4,1,4,5,0,6,3,1,2,3,1,5,3,5,4,3,5,0,0,4,6,0,0,0,0,0,6,2,5,1,0,5,6,0,3,2,3,0,0,0,5,1,2,0,4,2,1,2,0,1,3,2,5,4,2,0,3,3,3,4,3,0,0,3,0,6,6,3,3,5,6,1,2,0,4,2,1,3,2,1,5,0,4,2,3,1,5,3,1,2,5,6,4,2,5,2,1,4,5,5,0,6,3,3,6,6,1,5,6,6,1,3,4,5,0,1,3,6,2,1,4,5,3,3,2,3,0,1,3,6,4,0,5,2,0,1,1,0,2,2,2,3,4,0,5,4,1,2,2,0,0,2,4,1,5,1,0,4,4,1,2,1,2,2,5,6,5,4,4,1,6,5,3,2,5,5,6,0,2,1,3,3,6,0,5,2,4,2,3,0,1,0,3,6,1,3,0,0,2,6,2,1,0,3,4,2,5,0,3,2,5,3,5,2,5,4,2,6,6,0,4,1,4,5,1,5,0,0,1,5,6,2,6,5,4,6,0,1,6,6,4,0,6,5,6,0,2,1,2,5,1,0,4,6,6,4,5,4,4,4,0,6,4,2,4,6,3,0,3,2,6,2,1,0,4,0,6,3,4,0,0,5,0,1,6,2,1,6,1,5,0,4,4,4,2,0,4,2,3,0,3,1,5,1,2,4,3,0,1,2,2,4,5,1,2,1,1,1,0,6,4,1,3,5,5,2,2,6,1,6,3,4,1,5,4,5,6,6,6,4,6,4,4,6,4,2,2,5,0,1,0,2,6,4,0,0,0,4,0,4,5,6,1,2,6,3,3,2,0,2,2,1,2,2,3,6,2,3,0,3,6,4,0,6,5,1,1,4,4,4,6,4,1,6,1,5,1,2,2,5,4,6,5,5,2,3,6,1,6,6,3,0,2,0,4,2,1,5,1,1,0,2,5,6,5,2,4,0,5,2,5,6,4,5,6,5,1,3,0,0,1,3,4,2,4,5,1,2,1,3,1,2,2,3,4,4,1,1,6,3,5,4,2,4,3,5,1,2,6,6,5,1,4,5,1,3,2,1,1,1,0,1,6,0,5,4,2,2,4,5,1,5,0,1,2,6,3,4,5,5,1,6,3,1,6,3,4,0,1,4,3,1,5,0,6,1,1,6,1,5,2,3,6,3,1,2,5,1,2,0,2,2,2,5,1,6,3,1,4,2,6,6,1,5,5,5,3,0,6,6,0,1,5,4,3,5,0,4,3,4,5,3,4,5,4,0,2,3,1,3,6,3,1,1,3,4,2,4,4,0,1,6,2,0,2,5,0,0,6,4,1,3,2,3,3,1,5,3,2,6,4,4,4,0,0,1,2,4,0,6,0,1,4,6,4,0,2,6,6,4,6,4,0,5,1,4,6,3,5,0,4,0,0,4,1,5,4,4,6,5,4,4,5,6,2,0,6,4,3,5,5,6,5,3,3,2,4,2,2,1,2,0,6,2,3,1,3,6,5,2,4,0,6,5,2,3,6,2,4,6,3,4,0,4,2,0,6,3,6,1,2,4,4,3,3,1,6,5,4,2,4,1,3,1,3,2,1,3,4,4,4,3,0,5,4,5,2,3,5,4,2,2,0,6,4,6,4,0,5,1,1,5,5,1,4,0,5,0,1,4,3,3,4,6,1,0,1,5,1,2,5,1,3,1,2,6,1,1,4,0,4,2,1,3,1,4,2,5,3,2,4,3,0,2,2,0,0,5,3,5,6,2,5,6,1,5,2,5,1,6,0,0,2,1,4,0,2,5,1,3,0,3,6,2,1,0,1,5,5,0,2,1,6,5,1,5,0,2,3,0,1,1,6,4,1,4,1,0,0,4,6,2,0,2,0,3,1,4,0,4,5,6,0,6,1,1,0,6,1,3,4,4,0,3,1,1,0,4,3,5,0,1,5,2,3,0,6,0,0,5,0,1,1,6,6,4,5,6,1,5,4,4,1,6,2,1,3,6,0,5,2,5,4,0,6,5,6,4,2,1,2,3,6,5,6,4,2,3,2,6,1,4,2,5,3,4,1,1,2,5,3,4,6,5,3,4,0,2,6,0,6,6,5,0,3,6,4,4,2,4,1,6,0,6,2,2,0,1,0,3,3,6,6,5,6,3,5,1,2,5,2,0,3,6,2,0,4,4,4,5,3,0,2,4,4,5,1,1,6,5,2,1,6,0,2,4,1,1,0,0,2,2,5,3,4,5,0,3,5,1,6,1,4,5,6,0,2,0,1,2,4,3,0,2,0,0,4,3,4,1,6,3,3,0,6,1,6,5,2,4,3,6,4,5,1,0,3,6,3,1,0,4,2,0,0,6,2,3,6,1,3,0,2,4,3,0,1,4,2,3,0,3,3,6,6,3,5,2,4,0,5,2,5,4,3,3,4,4,0,3,1,5,4,1,3,1,1,1,2,4,5,1,6,3,6,1,3,0,6,0,6,2,0,6,2,5,0,1,6,4,5,3,0,5,2,6,4,2,2,1,2,5,0,3,4,0,0,2,1,0,5,1,5,0,2,2,0,2,1,3,6,1,1,1,5,3,4,4,1,0,2,4,2,6,3,2,4,1,6,5,5,6,2,0,2,4,1,0,3,5,0,6,1,0,5,3,5,3,6,0,0,5,3,3,3,0,4,6,2,4,2,6,6,3,0,6,6,5,5,0,4,1,3,4,6,0,5,6,0,1,0,4,4,2,1,2,3,3,0,4,5,5,2,2,6,5,3,0,3,6,3,2,2,6,2,5,1,3,3,2,5,3,4,4,2,5,0,2,3,2,3,2,0,6,1,0,5,5,2,5,1,0,4,4,3,3,2,3,4,0,0,2,2,4,6,1,0,0,4,0,5,4,6,3,3,6,5,5,5,1,0,0,5,3,1,2,6,1,5,6,5],\"x0\":\" \",\"xaxis\":\"x\",\"y0\":\" \",\"yaxis\":\"y\",\"type\":\"box\"}],                        {\"template\":{\"data\":{\"histogram2dcontour\":[{\"type\":\"histogram2dcontour\",\"colorbar\":{\"outlinewidth\":0,\"ticks\":\"\"},\"colorscale\":[[0.0,\"#0d0887\"],[0.1111111111111111,\"#46039f\"],[0.2222222222222222,\"#7201a8\"],[0.3333333333333333,\"#9c179e\"],[0.4444444444444444,\"#bd3786\"],[0.5555555555555556,\"#d8576b\"],[0.6666666666666666,\"#ed7953\"],[0.7777777777777778,\"#fb9f3a\"],[0.8888888888888888,\"#fdca26\"],[1.0,\"#f0f921\"]]}],\"choropleth\":[{\"type\":\"choropleth\",\"colorbar\":{\"outlinewidth\":0,\"ticks\":\"\"}}],\"histogram2d\":[{\"type\":\"histogram2d\",\"colorbar\":{\"outlinewidth\":0,\"ticks\":\"\"},\"colorscale\":[[0.0,\"#0d0887\"],[0.1111111111111111,\"#46039f\"],[0.2222222222222222,\"#7201a8\"],[0.3333333333333333,\"#9c179e\"],[0.4444444444444444,\"#bd3786\"],[0.5555555555555556,\"#d8576b\"],[0.6666666666666666,\"#ed7953\"],[0.7777777777777778,\"#fb9f3a\"],[0.8888888888888888,\"#fdca26\"],[1.0,\"#f0f921\"]]}],\"heatmap\":[{\"type\":\"heatmap\",\"colorbar\":{\"outlinewidth\":0,\"ticks\":\"\"},\"colorscale\":[[0.0,\"#0d0887\"],[0.1111111111111111,\"#46039f\"],[0.2222222222222222,\"#7201a8\"],[0.3333333333333333,\"#9c179e\"],[0.4444444444444444,\"#bd3786\"],[0.5555555555555556,\"#d8576b\"],[0.6666666666666666,\"#ed7953\"],[0.7777777777777778,\"#fb9f3a\"],[0.8888888888888888,\"#fdca26\"],[1.0,\"#f0f921\"]]}],\"heatmapgl\":[{\"type\":\"heatmapgl\",\"colorbar\":{\"outlinewidth\":0,\"ticks\":\"\"},\"colorscale\":[[0.0,\"#0d0887\"],[0.1111111111111111,\"#46039f\"],[0.2222222222222222,\"#7201a8\"],[0.3333333333333333,\"#9c179e\"],[0.4444444444444444,\"#bd3786\"],[0.5555555555555556,\"#d8576b\"],[0.6666666666666666,\"#ed7953\"],[0.7777777777777778,\"#fb9f3a\"],[0.8888888888888888,\"#fdca26\"],[1.0,\"#f0f921\"]]}],\"contourcarpet\":[{\"type\":\"contourcarpet\",\"colorbar\":{\"outlinewidth\":0,\"ticks\":\"\"}}],\"contour\":[{\"type\":\"contour\",\"colorbar\":{\"outlinewidth\":0,\"ticks\":\"\"},\"colorscale\":[[0.0,\"#0d0887\"],[0.1111111111111111,\"#46039f\"],[0.2222222222222222,\"#7201a8\"],[0.3333333333333333,\"#9c179e\"],[0.4444444444444444,\"#bd3786\"],[0.5555555555555556,\"#d8576b\"],[0.6666666666666666,\"#ed7953\"],[0.7777777777777778,\"#fb9f3a\"],[0.8888888888888888,\"#fdca26\"],[1.0,\"#f0f921\"]]}],\"surface\":[{\"type\":\"surface\",\"colorbar\":{\"outlinewidth\":0,\"ticks\":\"\"},\"colorscale\":[[0.0,\"#0d0887\"],[0.1111111111111111,\"#46039f\"],[0.2222222222222222,\"#7201a8\"],[0.3333333333333333,\"#9c179e\"],[0.4444444444444444,\"#bd3786\"],[0.5555555555555556,\"#d8576b\"],[0.6666666666666666,\"#ed7953\"],[0.7777777777777778,\"#fb9f3a\"],[0.8888888888888888,\"#fdca26\"],[1.0,\"#f0f921\"]]}],\"mesh3d\":[{\"type\":\"mesh3d\",\"colorbar\":{\"outlinewidth\":0,\"ticks\":\"\"}}],\"scatter\":[{\"fillpattern\":{\"fillmode\":\"overlay\",\"size\":10,\"solidity\":0.2},\"type\":\"scatter\"}],\"parcoords\":[{\"type\":\"parcoords\",\"line\":{\"colorbar\":{\"outlinewidth\":0,\"ticks\":\"\"}}}],\"scatterpolargl\":[{\"type\":\"scatterpolargl\",\"marker\":{\"colorbar\":{\"outlinewidth\":0,\"ticks\":\"\"}}}],\"bar\":[{\"error_x\":{\"color\":\"#2a3f5f\"},\"error_y\":{\"color\":\"#2a3f5f\"},\"marker\":{\"line\":{\"color\":\"#E5ECF6\",\"width\":0.5},\"pattern\":{\"fillmode\":\"overlay\",\"size\":10,\"solidity\":0.2}},\"type\":\"bar\"}],\"scattergeo\":[{\"type\":\"scattergeo\",\"marker\":{\"colorbar\":{\"outlinewidth\":0,\"ticks\":\"\"}}}],\"scatterpolar\":[{\"type\":\"scatterpolar\",\"marker\":{\"colorbar\":{\"outlinewidth\":0,\"ticks\":\"\"}}}],\"histogram\":[{\"marker\":{\"pattern\":{\"fillmode\":\"overlay\",\"size\":10,\"solidity\":0.2}},\"type\":\"histogram\"}],\"scattergl\":[{\"type\":\"scattergl\",\"marker\":{\"colorbar\":{\"outlinewidth\":0,\"ticks\":\"\"}}}],\"scatter3d\":[{\"type\":\"scatter3d\",\"line\":{\"colorbar\":{\"outlinewidth\":0,\"ticks\":\"\"}},\"marker\":{\"colorbar\":{\"outlinewidth\":0,\"ticks\":\"\"}}}],\"scattermapbox\":[{\"type\":\"scattermapbox\",\"marker\":{\"colorbar\":{\"outlinewidth\":0,\"ticks\":\"\"}}}],\"scatterternary\":[{\"type\":\"scatterternary\",\"marker\":{\"colorbar\":{\"outlinewidth\":0,\"ticks\":\"\"}}}],\"scattercarpet\":[{\"type\":\"scattercarpet\",\"marker\":{\"colorbar\":{\"outlinewidth\":0,\"ticks\":\"\"}}}],\"carpet\":[{\"aaxis\":{\"endlinecolor\":\"#2a3f5f\",\"gridcolor\":\"white\",\"linecolor\":\"white\",\"minorgridcolor\":\"white\",\"startlinecolor\":\"#2a3f5f\"},\"baxis\":{\"endlinecolor\":\"#2a3f5f\",\"gridcolor\":\"white\",\"linecolor\":\"white\",\"minorgridcolor\":\"white\",\"startlinecolor\":\"#2a3f5f\"},\"type\":\"carpet\"}],\"table\":[{\"cells\":{\"fill\":{\"color\":\"#EBF0F8\"},\"line\":{\"color\":\"white\"}},\"header\":{\"fill\":{\"color\":\"#C8D4E3\"},\"line\":{\"color\":\"white\"}},\"type\":\"table\"}],\"barpolar\":[{\"marker\":{\"line\":{\"color\":\"#E5ECF6\",\"width\":0.5},\"pattern\":{\"fillmode\":\"overlay\",\"size\":10,\"solidity\":0.2}},\"type\":\"barpolar\"}],\"pie\":[{\"automargin\":true,\"type\":\"pie\"}]},\"layout\":{\"autotypenumbers\":\"strict\",\"colorway\":[\"#636efa\",\"#EF553B\",\"#00cc96\",\"#ab63fa\",\"#FFA15A\",\"#19d3f3\",\"#FF6692\",\"#B6E880\",\"#FF97FF\",\"#FECB52\"],\"font\":{\"color\":\"#2a3f5f\"},\"hovermode\":\"closest\",\"hoverlabel\":{\"align\":\"left\"},\"paper_bgcolor\":\"white\",\"plot_bgcolor\":\"#E5ECF6\",\"polar\":{\"bgcolor\":\"#E5ECF6\",\"angularaxis\":{\"gridcolor\":\"white\",\"linecolor\":\"white\",\"ticks\":\"\"},\"radialaxis\":{\"gridcolor\":\"white\",\"linecolor\":\"white\",\"ticks\":\"\"}},\"ternary\":{\"bgcolor\":\"#E5ECF6\",\"aaxis\":{\"gridcolor\":\"white\",\"linecolor\":\"white\",\"ticks\":\"\"},\"baxis\":{\"gridcolor\":\"white\",\"linecolor\":\"white\",\"ticks\":\"\"},\"caxis\":{\"gridcolor\":\"white\",\"linecolor\":\"white\",\"ticks\":\"\"}},\"coloraxis\":{\"colorbar\":{\"outlinewidth\":0,\"ticks\":\"\"}},\"colorscale\":{\"sequential\":[[0.0,\"#0d0887\"],[0.1111111111111111,\"#46039f\"],[0.2222222222222222,\"#7201a8\"],[0.3333333333333333,\"#9c179e\"],[0.4444444444444444,\"#bd3786\"],[0.5555555555555556,\"#d8576b\"],[0.6666666666666666,\"#ed7953\"],[0.7777777777777778,\"#fb9f3a\"],[0.8888888888888888,\"#fdca26\"],[1.0,\"#f0f921\"]],\"sequentialminus\":[[0.0,\"#0d0887\"],[0.1111111111111111,\"#46039f\"],[0.2222222222222222,\"#7201a8\"],[0.3333333333333333,\"#9c179e\"],[0.4444444444444444,\"#bd3786\"],[0.5555555555555556,\"#d8576b\"],[0.6666666666666666,\"#ed7953\"],[0.7777777777777778,\"#fb9f3a\"],[0.8888888888888888,\"#fdca26\"],[1.0,\"#f0f921\"]],\"diverging\":[[0,\"#8e0152\"],[0.1,\"#c51b7d\"],[0.2,\"#de77ae\"],[0.3,\"#f1b6da\"],[0.4,\"#fde0ef\"],[0.5,\"#f7f7f7\"],[0.6,\"#e6f5d0\"],[0.7,\"#b8e186\"],[0.8,\"#7fbc41\"],[0.9,\"#4d9221\"],[1,\"#276419\"]]},\"xaxis\":{\"gridcolor\":\"white\",\"linecolor\":\"white\",\"ticks\":\"\",\"title\":{\"standoff\":15},\"zerolinecolor\":\"white\",\"automargin\":true,\"zerolinewidth\":2},\"yaxis\":{\"gridcolor\":\"white\",\"linecolor\":\"white\",\"ticks\":\"\",\"title\":{\"standoff\":15},\"zerolinecolor\":\"white\",\"automargin\":true,\"zerolinewidth\":2},\"scene\":{\"xaxis\":{\"backgroundcolor\":\"#E5ECF6\",\"gridcolor\":\"white\",\"linecolor\":\"white\",\"showbackground\":true,\"ticks\":\"\",\"zerolinecolor\":\"white\",\"gridwidth\":2},\"yaxis\":{\"backgroundcolor\":\"#E5ECF6\",\"gridcolor\":\"white\",\"linecolor\":\"white\",\"showbackground\":true,\"ticks\":\"\",\"zerolinecolor\":\"white\",\"gridwidth\":2},\"zaxis\":{\"backgroundcolor\":\"#E5ECF6\",\"gridcolor\":\"white\",\"linecolor\":\"white\",\"showbackground\":true,\"ticks\":\"\",\"zerolinecolor\":\"white\",\"gridwidth\":2}},\"shapedefaults\":{\"line\":{\"color\":\"#2a3f5f\"}},\"annotationdefaults\":{\"arrowcolor\":\"#2a3f5f\",\"arrowhead\":0,\"arrowwidth\":1},\"geo\":{\"bgcolor\":\"white\",\"landcolor\":\"#E5ECF6\",\"subunitcolor\":\"white\",\"showland\":true,\"showlakes\":true,\"lakecolor\":\"white\"},\"title\":{\"x\":0.05},\"mapbox\":{\"style\":\"light\"}}},\"xaxis\":{\"anchor\":\"y\",\"domain\":[0.0,1.0],\"title\":{\"text\":\"x\"}},\"yaxis\":{\"anchor\":\"x\",\"domain\":[0.0,1.0]},\"legend\":{\"tracegroupgap\":0},\"title\":{\"text\":\"Boxplot of X and Y datasets\"},\"boxmode\":\"group\",\"height\":400,\"width\":600},                        {\"responsive\": true}                    ).then(function(){\n",
              "                            \n",
              "var gd = document.getElementById('a8ccffbf-c9bb-48c3-87ab-8358457f7e3f');\n",
              "var x = new MutationObserver(function (mutations, observer) {{\n",
              "        var display = window.getComputedStyle(gd).display;\n",
              "        if (!display || display === 'none') {{\n",
              "            console.log([gd, 'removed!']);\n",
              "            Plotly.purge(gd);\n",
              "            observer.disconnect();\n",
              "        }}\n",
              "}});\n",
              "\n",
              "// Listen for the removal of the full notebook cells\n",
              "var notebookContainer = gd.closest('#notebook-container');\n",
              "if (notebookContainer) {{\n",
              "    x.observe(notebookContainer, {childList: true});\n",
              "}}\n",
              "\n",
              "// Listen for the clearing of the current output cell\n",
              "var outputEl = gd.closest('.output');\n",
              "if (outputEl) {{\n",
              "    x.observe(outputEl, {childList: true});\n",
              "}}\n",
              "\n",
              "                        })                };                            </script>        </div>\n",
              "</body>\n",
              "</html>"
            ]
          },
          "metadata": {}
        }
      ]
    },
    {
      "cell_type": "code",
      "source": [],
      "metadata": {
        "id": "V63cEwqQdIeA"
      },
      "execution_count": null,
      "outputs": []
    },
    {
      "cell_type": "markdown",
      "source": [
        "**4.\tViolin Plot Visualization**"
      ],
      "metadata": {
        "id": "TmlVEQfngwl6"
      }
    },
    {
      "cell_type": "code",
      "source": [
        "# Resize the figure\n",
        "plt.figure(figsize=(8, 6))\n",
        "\n",
        "\n",
        "# Create a violin plot\n",
        "sns.violinplot(data=[x,y],palette=['skyblue', 'lightcoral'], names=['X', 'Y'])\n",
        "\n",
        "# Add labels and title\n",
        "plt.xlabel('Gender')\n",
        "plt.ylabel('Frequency of Purchases')\n",
        "plt.title('Customer Shopping Visulization')\n",
        "# Show the plot\n",
        "plt.show()"
      ],
      "metadata": {
        "colab": {
          "base_uri": "https://localhost:8080/",
          "height": 577
        },
        "id": "wnPYSAwPg0FH",
        "outputId": "cb758aef-ad79-42a7-dd8d-691da43d616b"
      },
      "execution_count": 150,
      "outputs": [
        {
          "output_type": "display_data",
          "data": {
            "text/plain": [
              "<Figure size 800x600 with 1 Axes>"
            ],
            "image/png": "[encoded data removed]"
          },
          "metadata": {}
        }
      ]
    },
    {
      "cell_type": "code",
      "source": [],
      "metadata": {
        "id": "RfFcAnhthEEC"
      },
      "execution_count": null,
      "outputs": []
    },
    {
      "cell_type": "markdown",
      "source": [
        "**6.\tCorrelogram Visualizatiuon**"
      ],
      "metadata": {
        "id": "Gev4IKI7h46f"
      }
    },
    {
      "cell_type": "code",
      "source": [
        "df = pd.DataFrame(x,y)\n",
        "# Set the style for the plot\n",
        "sns.set(style=\"ticks\")\n",
        "\n",
        "# Create a pairplot with color\n",
        "plt.figure(figsize=(8, 8))  # Set the figure size\n",
        "\n",
        "# Define the color palette\n",
        "palette = sns.color_palette(\"husl\", 3)  # You can choose any other color palette\n",
        "\n",
        "# Create the correlogram\n",
        "sns.pairplot(df, palette=palette)\n",
        "\n",
        "# Add a title\n",
        "plt.suptitle(\"Correlogram for X and Y Datasets\", y=1.02)\n",
        "\n",
        "# Show the plot\n",
        "plt.show()\n",
        "\n",
        "\n",
        "\n",
        "\n"
      ],
      "metadata": {
        "colab": {
          "base_uri": "https://localhost:8080/",
          "height": 368
        },
        "id": "sgUoguyUh-g0",
        "outputId": "b233a313-7de3-41c6-c5f9-c1d5f95ff1ed"
      },
      "execution_count": 135,
      "outputs": [
        {
          "output_type": "stream",
          "name": "stderr",
          "text": [
            "/usr/local/lib/python3.10/dist-packages/seaborn/axisgrid.py:1507: UserWarning:\n",
            "\n",
            "Ignoring `palette` because no `hue` variable has been assigned.\n",
            "\n"
          ]
        },
        {
          "output_type": "display_data",
          "data": {
            "text/plain": [
              "<Figure size 800x800 with 0 Axes>"
            ]
          },
          "metadata": {}
        },
        {
          "output_type": "display_data",
          "data": {
            "text/plain": [
              "<Figure size 250x250 with 2 Axes>"
            ],
            "image/png": "[encoded data removed]"
          },
          "metadata": {}
        }
      ]
    },
    {
      "cell_type": "code",
      "source": [],
      "metadata": {
        "id": "VguP1sxqjUxR"
      },
      "execution_count": 156,
      "outputs": []
    },
    {
      "cell_type": "markdown",
      "source": [
        "**7.\tBar Chart visualization**"
      ],
      "metadata": {
        "id": "tcw9dV9VoGlf"
      }
    },
    {
      "cell_type": "code",
      "source": [
        "# Create a figure and axis\n",
        "fig, ax = plt.subplots(figsize=(8, 6))  # Adjust the figure size as needed\n",
        "\n",
        "# Create a bar chart with colorful design\n",
        "colors = ['red', 'green', 'blue', 'orange']\n",
        "bars = ax.bar(x, y, color=colors)\n",
        "\n",
        "# Add labels and title\n",
        "ax.set_xlabel('Gender')\n",
        "ax.set_ylabel('Freqiency of Purchases')\n",
        "ax.set_title('Bar Chart with Colorful Design')\n",
        "\n",
        "# Show the plot\n",
        "plt.show()"
      ],
      "metadata": {
        "colab": {
          "base_uri": "https://localhost:8080/",
          "height": 577
        },
        "id": "5tcB8s2dnnGS",
        "outputId": "f257dd3c-01f2-4144-99dd-7d8d69467929"
      },
      "execution_count": 162,
      "outputs": [
        {
          "output_type": "display_data",
          "data": {
            "text/plain": [
              "<Figure size 800x600 with 1 Axes>"
            ],
            "image/png": "[encoded data removed]"
          },
          "metadata": {}
        }
      ]
    },
    {
      "cell_type": "code",
      "source": [],
      "metadata": {
        "id": "SOhnX_tcop5h"
      },
      "execution_count": null,
      "outputs": []
    }
  ]
}